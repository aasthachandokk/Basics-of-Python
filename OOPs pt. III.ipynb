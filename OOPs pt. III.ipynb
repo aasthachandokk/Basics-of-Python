{
 "cells": [
  {
   "cell_type": "code",
   "execution_count": 1,
   "metadata": {},
   "outputs": [],
   "source": [
    "#Garbage collector\n",
    "    # C++ - Programmer will be responsible (Creation as well as Destruction)\n",
    "    # Java and Python - GC\n",
    "    # GC is a part of Python virtual machine\n",
    "    # When there is no reference variable then it is eligible for GC\n",
    "    # GC - Enable"
   ]
  },
  {
   "cell_type": "code",
   "execution_count": 2,
   "metadata": {},
   "outputs": [
    {
     "name": "stdout",
     "output_type": "stream",
     "text": [
      "True\n"
     ]
    }
   ],
   "source": [
    "import gc\n",
    "print(gc.isenabled()) #gc is enabled by default"
   ]
  },
  {
   "cell_type": "code",
   "execution_count": 3,
   "metadata": {},
   "outputs": [
    {
     "name": "stdout",
     "output_type": "stream",
     "text": [
      "False\n"
     ]
    }
   ],
   "source": [
    "gc.disable()           #disabling the gc\n",
    "print(gc.isenabled())  "
   ]
  },
  {
   "cell_type": "code",
   "execution_count": 4,
   "metadata": {},
   "outputs": [
    {
     "name": "stdout",
     "output_type": "stream",
     "text": [
      "True\n"
     ]
    }
   ],
   "source": [
    "gc.enable()           #enabling the gc\n",
    "print(gc.isenabled())"
   ]
  },
  {
   "cell_type": "code",
   "execution_count": 5,
   "metadata": {},
   "outputs": [],
   "source": [
    "#Destructor concept- \n",
    "    #GC - Last wish\n",
    "          #One database connection, Network connection , release that(clean up activities)\n",
    "        \n",
    "    #Destructor-\n",
    "    #who is calling destructor : GC\n",
    "    #When GC will call destructor? : Just before destroying the object\n",
    "    #For which purpose GC calls destructor? : Clean up activities\n",
    "    \n",
    "#The job of destructor is not to destroy objects, just to do clean up activities\n",
    "    #Destroying of objects is done by - GC"
   ]
  },
  {
   "cell_type": "code",
   "execution_count": null,
   "metadata": {},
   "outputs": [],
   "source": [
    "#Constructor\n",
    "def __init__(self):"
   ]
  },
  {
   "cell_type": "code",
   "execution_count": null,
   "metadata": {},
   "outputs": [],
   "source": [
    "#Destructor\n",
    "def __del__(self):"
   ]
  },
  {
   "cell_type": "code",
   "execution_count": 9,
   "metadata": {},
   "outputs": [
    {
     "name": "stdout",
     "output_type": "stream",
     "text": [
      "Object initialization\n",
      "Using the object T1 for my Technical purpose\n",
      "ENd of application\n"
     ]
    }
   ],
   "source": [
    "import time\n",
    "class Test:\n",
    "    def __init__(self):\n",
    "        print('Object initialization')\n",
    "    def __del__(self):\n",
    "        print('Performing clean up activities')\n",
    "        \n",
    "t1 = Test()\n",
    "print('Using the object T1 for my Technical purpose')\n",
    "time.sleep(5)\n",
    "print('ENd of application')"
   ]
  },
  {
   "cell_type": "code",
   "execution_count": 10,
   "metadata": {},
   "outputs": [
    {
     "name": "stdout",
     "output_type": "stream",
     "text": [
      "Object initialization\n",
      "Performing clean up activities\n",
      "Using the object T1 for my Technical purpose\n",
      "Performing clean up activities\n",
      "ENd of application\n"
     ]
    }
   ],
   "source": [
    "import time\n",
    "class Test:\n",
    "    def __init__(self):\n",
    "        print('Object initialization')\n",
    "    def __del__(self):\n",
    "        print('Performing clean up activities')\n",
    "        \n",
    "t1 = Test()\n",
    "print('Using the object T1 for my Technical purpose')\n",
    "time.sleep(5)\n",
    "t1 = None\n",
    "time.sleep(10)\n",
    "print('ENd of application')"
   ]
  },
  {
   "cell_type": "code",
   "execution_count": 13,
   "metadata": {},
   "outputs": [
    {
     "name": "stdout",
     "output_type": "stream",
     "text": [
      "Object Initialisation\n",
      "2147868635488\n",
      "2147868635488\n",
      "2147868635488\n",
      "Object not yet ready for destruction after deleting t1\n",
      "Object not yet ready for destruction after deleting t2\n",
      "Clean up\n",
      "Object is ready for destruction \n",
      "End of the app\n"
     ]
    }
   ],
   "source": [
    "import time\n",
    "class Test:\n",
    "    def __init__(self):\n",
    "        print('Object Initialisation')\n",
    "        \n",
    "    def __del__(self):\n",
    "        print('Clean up')\n",
    "        \n",
    "t1 = Test()\n",
    "t2 = t1\n",
    "t3 = t2\n",
    "print(id(t1))\n",
    "print(id(t2))\n",
    "print(id(t3))\n",
    "\n",
    "del t1\n",
    "time.sleep(10)\n",
    "print('Object not yet ready for destruction after deleting t1')\n",
    "del t2\n",
    "time.sleep(10)\n",
    "print('Object not yet ready for destruction after deleting t2')\n",
    "del t3\n",
    "time.sleep(10)\n",
    "print('Object is ready for destruction ')\n",
    "print('End of the app')"
   ]
  },
  {
   "cell_type": "code",
   "execution_count": 18,
   "metadata": {},
   "outputs": [
    {
     "name": "stdout",
     "output_type": "stream",
     "text": [
      "Object Initialisation\n",
      "Object Initialisation\n",
      "Object Initialisation\n",
      "Clean up\n",
      "Clean up\n",
      "Clean up\n",
      "End of the app\n"
     ]
    }
   ],
   "source": [
    "import time\n",
    "class Test:\n",
    "    def __init__(self):\n",
    "        print('Object Initialisation')\n",
    "        \n",
    "    def __del__(self):\n",
    "        print('Clean up')\n",
    "        \n",
    "list = [Test() , Test() , Test()]\n",
    "print('End of the app')"
   ]
  },
  {
   "cell_type": "code",
   "execution_count": 20,
   "metadata": {},
   "outputs": [
    {
     "name": "stdout",
     "output_type": "stream",
     "text": [
      "Object Initialisation\n",
      "Object Initialisation\n",
      "Object Initialisation\n",
      "Clean up\n",
      "Clean up\n",
      "Clean up\n",
      "End of the app\n"
     ]
    }
   ],
   "source": [
    "import time\n",
    "class Test:\n",
    "    def __init__(self):\n",
    "        print('Object Initialisation')\n",
    "        \n",
    "    def __del__(self):\n",
    "        print('Clean up')\n",
    "        \n",
    "list = [Test() , Test() , Test()]\n",
    "del list\n",
    "print('End of the app')"
   ]
  }
 ],
 "metadata": {
  "kernelspec": {
   "display_name": "Python 3",
   "language": "python",
   "name": "python3"
  },
  "language_info": {
   "codemirror_mode": {
    "name": "ipython",
    "version": 3
   },
   "file_extension": ".py",
   "mimetype": "text/x-python",
   "name": "python",
   "nbconvert_exporter": "python",
   "pygments_lexer": "ipython3",
   "version": "3.7.3"
  }
 },
 "nbformat": 4,
 "nbformat_minor": 2
}
