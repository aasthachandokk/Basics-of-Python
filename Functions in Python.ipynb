{
 "cells": [
  {
   "cell_type": "code",
   "execution_count": 1,
   "metadata": {},
   "outputs": [],
   "source": [
    "#Why functions are required? \n",
    "    #When we are writing multiple lines of a code then the lines of code will increase\n",
    "    #We will write functions for those lines \n",
    "    #Code reusability is the biggest adv\n",
    "#function   \n",
    "#to cal c to f"
   ]
  },
  {
   "cell_type": "code",
   "execution_count": 2,
   "metadata": {},
   "outputs": [
    {
     "name": "stdout",
     "output_type": "stream",
     "text": [
      "Good Morning\n"
     ]
    }
   ],
   "source": [
    "#function without arguments passed\n",
    "def greeting():\n",
    "    \"\"\"This function is helping to greet the audience\"\"\"\n",
    "    print('Good Morning')\n",
    "greeting()"
   ]
  },
  {
   "cell_type": "code",
   "execution_count": 4,
   "metadata": {},
   "outputs": [
    {
     "name": "stdout",
     "output_type": "stream",
     "text": [
      "Hello Aastha Good Evening\n"
     ]
    }
   ],
   "source": [
    "#function with arguments passed\n",
    "def greeting(name):\n",
    "    print('Hello',name,'Good Evening')\n",
    "greeting('Aastha')"
   ]
  },
  {
   "cell_type": "code",
   "execution_count": 5,
   "metadata": {},
   "outputs": [
    {
     "name": "stdout",
     "output_type": "stream",
     "text": [
      "The square of 10 is: 100\n",
      "The square of 100 is: 10000\n"
     ]
    }
   ],
   "source": [
    "#function returning square of a number\n",
    "square(x):\n",
    "    print('The square of {} is: {}'.format(x,x*x))\n",
    "square(10)\n",
    "square(100)"
   ]
  },
  {
   "cell_type": "code",
   "execution_count": 6,
   "metadata": {},
   "outputs": [
    {
     "data": {
      "text/plain": [
       "30"
      ]
     },
     "execution_count": 6,
     "metadata": {},
     "output_type": "execute_result"
    }
   ],
   "source": [
    "#function returning sum of two numbers\n",
    "def add(a,b):\n",
    "    return a+b\n",
    "result = add(10,20)\n",
    "result"
   ]
  },
  {
   "cell_type": "code",
   "execution_count": 7,
   "metadata": {},
   "outputs": [
    {
     "name": "stdout",
     "output_type": "stream",
     "text": [
      "Hello\n",
      "None\n"
     ]
    }
   ],
   "source": [
    "def f1():\n",
    "    print('Hello')\n",
    "print(f1())        #if there is no return statement,function returns none"
   ]
  },
  {
   "cell_type": "code",
   "execution_count": 8,
   "metadata": {},
   "outputs": [
    {
     "name": "stdout",
     "output_type": "stream",
     "text": [
      "11 is an odd number.\n",
      "10 is an even number.\n",
      "11.5 is an odd number.\n"
     ]
    }
   ],
   "source": [
    "#function for even and odd number\n",
    "def evenodd(n):\n",
    "    if n%2==0:\n",
    "        print('{} is an even number.'.format(n))\n",
    "    else:\n",
    "        print('{} is an odd number.'.format(n))\n",
    "evenodd(11)\n",
    "evenodd(10)\n",
    "evenodd(11.5)     "
   ]
  },
  {
   "cell_type": "code",
   "execution_count": 10,
   "metadata": {},
   "outputs": [
    {
     "name": "stdout",
     "output_type": "stream",
     "text": [
      "The factorial of 1 is 1\n",
      "The factorial of 2 is 2\n",
      "The factorial of 3 is 6\n",
      "The factorial of 4 is 24\n",
      "The factorial of 5 is 120\n",
      "The factorial of 6 is 720\n",
      "The factorial of 7 is 5040\n",
      "The factorial of 8 is 40320\n",
      "The factorial of 9 is 362880\n",
      "The factorial of 10 is 3628800\n"
     ]
    }
   ],
   "source": [
    "#function returning factorial of a number\n",
    "def fact(n):\n",
    "    result=1\n",
    "    while n>=1:\n",
    "        result=result*n\n",
    "        n=n-1\n",
    "    return result\n",
    "for i in range(1,11):\n",
    "    print('The factorial of {} is {}'.format(i,fact(i)))"
   ]
  },
  {
   "cell_type": "code",
   "execution_count": 11,
   "metadata": {},
   "outputs": [
    {
     "name": "stdout",
     "output_type": "stream",
     "text": [
      "The sum is: 30\n",
      "The sub is: -10\n"
     ]
    }
   ],
   "source": [
    "#saving returned values of function in variables\n",
    "def sum_sub(a,b):\n",
    "    sum=a+b\n",
    "    sub=a-b\n",
    "    return sum,sub\n",
    "x,y=sum_sub(10,20)\n",
    "print('The sum is:',x)\n",
    "print('The sub is:',y)"
   ]
  },
  {
   "cell_type": "code",
   "execution_count": 14,
   "metadata": {},
   "outputs": [
    {
     "data": {
      "text/plain": [
       "(30, -10, 200, 0.5)"
      ]
     },
     "execution_count": 14,
     "metadata": {},
     "output_type": "execute_result"
    }
   ],
   "source": [
    "#calculator\n",
    "def calc(a,b):\n",
    "    sum = a+b\n",
    "    sub = a-b\n",
    "    mul = a*b\n",
    "    div = a/b\n",
    "    return sum,sub,mul,div\n",
    "t=calc(10,20)\n",
    "t"
   ]
  },
  {
   "cell_type": "code",
   "execution_count": 15,
   "metadata": {},
   "outputs": [],
   "source": [
    "#Types of Arguments\n",
    "    #1.Positional Arguments\n",
    "    #2.Keyword Arguments\n",
    "    #3.Default Arguments\n",
    "    #4.Variable Length Arguments"
   ]
  },
  {
   "cell_type": "code",
   "execution_count": 17,
   "metadata": {},
   "outputs": [
    {
     "name": "stdout",
     "output_type": "stream",
     "text": [
      "30\n"
     ]
    },
    {
     "ename": "TypeError",
     "evalue": "sum() takes 2 positional arguments but 3 were given",
     "output_type": "error",
     "traceback": [
      "\u001b[1;31m---------------------------------------------------------------------------\u001b[0m",
      "\u001b[1;31mTypeError\u001b[0m                                 Traceback (most recent call last)",
      "\u001b[1;32m<ipython-input-17-debf26d9745a>\u001b[0m in \u001b[0;36m<module>\u001b[1;34m\u001b[0m\n\u001b[0;32m      3\u001b[0m     \u001b[0mprint\u001b[0m\u001b[1;33m(\u001b[0m\u001b[0ma\u001b[0m\u001b[1;33m+\u001b[0m\u001b[0mb\u001b[0m\u001b[1;33m)\u001b[0m\u001b[1;33m\u001b[0m\u001b[1;33m\u001b[0m\u001b[0m\n\u001b[0;32m      4\u001b[0m \u001b[0msum\u001b[0m\u001b[1;33m(\u001b[0m\u001b[1;36m10\u001b[0m\u001b[1;33m,\u001b[0m\u001b[1;36m20\u001b[0m\u001b[1;33m)\u001b[0m\u001b[1;33m\u001b[0m\u001b[1;33m\u001b[0m\u001b[0m\n\u001b[1;32m----> 5\u001b[1;33m \u001b[0msum\u001b[0m\u001b[1;33m(\u001b[0m\u001b[1;36m10\u001b[0m\u001b[1;33m,\u001b[0m\u001b[1;36m20\u001b[0m\u001b[1;33m,\u001b[0m\u001b[1;36m20\u001b[0m\u001b[1;33m)\u001b[0m\u001b[1;33m\u001b[0m\u001b[1;33m\u001b[0m\u001b[0m\n\u001b[0m",
      "\u001b[1;31mTypeError\u001b[0m: sum() takes 2 positional arguments but 3 were given"
     ]
    }
   ],
   "source": [
    "#Positional Arguments - Exact correct positional order and number of arguments is necessary\n",
    "def sum(a,b):\n",
    "    print(a+b)\n",
    "sum(10,20)\n",
    "sum(10,20,20)"
   ]
  },
  {
   "cell_type": "code",
   "execution_count": 18,
   "metadata": {},
   "outputs": [
    {
     "name": "stdout",
     "output_type": "stream",
     "text": [
      "-9000\n"
     ]
    }
   ],
   "source": [
    "def finance(sales, profit):\n",
    "    exp = sales - profit\n",
    "    print(exp)\n",
    "finance(1000,10000)"
   ]
  },
  {
   "cell_type": "code",
   "execution_count": 20,
   "metadata": {},
   "outputs": [
    {
     "name": "stdout",
     "output_type": "stream",
     "text": [
      "Hello Aastha Welcome\n"
     ]
    },
    {
     "ename": "TypeError",
     "evalue": "greeting() got multiple values for argument 'name'",
     "output_type": "error",
     "traceback": [
      "\u001b[1;31m---------------------------------------------------------------------------\u001b[0m",
      "\u001b[1;31mTypeError\u001b[0m                                 Traceback (most recent call last)",
      "\u001b[1;32m<ipython-input-20-23849fc324a1>\u001b[0m in \u001b[0;36m<module>\u001b[1;34m\u001b[0m\n\u001b[0;32m      3\u001b[0m     \u001b[0mprint\u001b[0m\u001b[1;33m(\u001b[0m\u001b[1;34m'Hello'\u001b[0m\u001b[1;33m,\u001b[0m\u001b[0mname\u001b[0m\u001b[1;33m,\u001b[0m\u001b[0mmsg\u001b[0m\u001b[1;33m)\u001b[0m\u001b[1;33m\u001b[0m\u001b[1;33m\u001b[0m\u001b[0m\n\u001b[0;32m      4\u001b[0m \u001b[0mgreeting\u001b[0m\u001b[1;33m(\u001b[0m\u001b[0mname\u001b[0m\u001b[1;33m=\u001b[0m\u001b[1;34m'Aastha'\u001b[0m\u001b[1;33m,\u001b[0m\u001b[0mmsg\u001b[0m\u001b[1;33m=\u001b[0m\u001b[1;34m'Welcome'\u001b[0m\u001b[1;33m)\u001b[0m\u001b[1;33m\u001b[0m\u001b[1;33m\u001b[0m\u001b[0m\n\u001b[1;32m----> 5\u001b[1;33m \u001b[0mgreeting\u001b[0m\u001b[1;33m(\u001b[0m\u001b[1;34m'Dim'\u001b[0m\u001b[1;33m,\u001b[0m\u001b[0mmsg\u001b[0m\u001b[1;33m=\u001b[0m\u001b[1;34m'Welcome'\u001b[0m\u001b[1;33m,\u001b[0m\u001b[0mname\u001b[0m\u001b[1;33m=\u001b[0m\u001b[1;34m'Aastha'\u001b[0m\u001b[1;33m)\u001b[0m\u001b[1;33m\u001b[0m\u001b[1;33m\u001b[0m\u001b[0m\n\u001b[0m",
      "\u001b[1;31mTypeError\u001b[0m: greeting() got multiple values for argument 'name'"
     ]
    }
   ],
   "source": [
    "#Keyword Arguments\n",
    "def greeting(name,msg):\n",
    "    print('Hello',name,msg)\n",
    "greeting(name='Aastha',msg='Welcome')\n",
    "greeting('Dim',msg='Welcome',name='Aastha')"
   ]
  },
  {
   "cell_type": "code",
   "execution_count": 21,
   "metadata": {},
   "outputs": [
    {
     "name": "stdout",
     "output_type": "stream",
     "text": [
      "Hello Aastha Welcome\n",
      "Hello Dim Welcome\n"
     ]
    }
   ],
   "source": [
    "def greeting(name,msg):\n",
    "    print('Hello',name,msg)\n",
    "greeting(name='Aastha',msg='Welcome')\n",
    "greeting('Dim',msg='Welcome')"
   ]
  },
  {
   "cell_type": "code",
   "execution_count": 23,
   "metadata": {},
   "outputs": [
    {
     "ename": "TypeError",
     "evalue": "greeting() missing 1 required positional argument: 'name'",
     "output_type": "error",
     "traceback": [
      "\u001b[1;31m---------------------------------------------------------------------------\u001b[0m",
      "\u001b[1;31mTypeError\u001b[0m                                 Traceback (most recent call last)",
      "\u001b[1;32m<ipython-input-23-834cd021f930>\u001b[0m in \u001b[0;36m<module>\u001b[1;34m\u001b[0m\n\u001b[1;32m----> 1\u001b[1;33m \u001b[0mgreeting\u001b[0m\u001b[1;33m(\u001b[0m\u001b[0mmsg\u001b[0m\u001b[1;33m=\u001b[0m\u001b[1;34m'Hi'\u001b[0m\u001b[1;33m,\u001b[0m\u001b[1;33m)\u001b[0m\u001b[1;33m\u001b[0m\u001b[1;33m\u001b[0m\u001b[0m\n\u001b[0m\u001b[0;32m      2\u001b[0m \u001b[1;31m#order is not imp\u001b[0m\u001b[1;33m\u001b[0m\u001b[1;33m\u001b[0m\u001b[1;33m\u001b[0m\u001b[0m\n\u001b[0;32m      3\u001b[0m \u001b[1;31m#no of arguemnt are imp\u001b[0m\u001b[1;33m\u001b[0m\u001b[1;33m\u001b[0m\u001b[1;33m\u001b[0m\u001b[0m\n",
      "\u001b[1;31mTypeError\u001b[0m: greeting() missing 1 required positional argument: 'name'"
     ]
    }
   ],
   "source": [
    "greeting(msg='Hi',)\n",
    "#order is not imp\n",
    "#no of arguemnt are imp"
   ]
  },
  {
   "cell_type": "code",
   "execution_count": 24,
   "metadata": {},
   "outputs": [
    {
     "name": "stdout",
     "output_type": "stream",
     "text": [
      "Hello Friend Good evening\n"
     ]
    }
   ],
   "source": [
    "#Default\n",
    "def greeting(name='Friend'):\n",
    "    print('Hello',name,'Good evening')\n",
    "greeting()"
   ]
  },
  {
   "cell_type": "code",
   "execution_count": 26,
   "metadata": {},
   "outputs": [
    {
     "name": "stdout",
     "output_type": "stream",
     "text": [
      "Hello Guest Hi\n"
     ]
    }
   ],
   "source": [
    "def greeting(msg,name='Guest'):\n",
    "    print('Hello',name,msg)\n",
    "greeting('Hi')"
   ]
  },
  {
   "cell_type": "code",
   "execution_count": 27,
   "metadata": {},
   "outputs": [
    {
     "name": "stdout",
     "output_type": "stream",
     "text": [
      "Hello Aastha Hi\n"
     ]
    }
   ],
   "source": [
    "def greeting(name='Aastha', msg='Hi'):\n",
    "    print('Hello', name, msg)\n",
    "greeting()"
   ]
  },
  {
   "cell_type": "code",
   "execution_count": 28,
   "metadata": {},
   "outputs": [
    {
     "name": "stdout",
     "output_type": "stream",
     "text": [
      "Student name Guest\n",
      "Student age 20\n",
      "Student marks 100\n",
      "Student msg Good morning\n",
      "Student name Guest\n",
      "Student age 48\n",
      "Student marks 100\n",
      "Student msg Good morning\n"
     ]
    },
    {
     "ename": "TypeError",
     "evalue": "greeting() got multiple values for argument 'marks'",
     "output_type": "error",
     "traceback": [
      "\u001b[1;31m---------------------------------------------------------------------------\u001b[0m",
      "\u001b[1;31mTypeError\u001b[0m                                 Traceback (most recent call last)",
      "\u001b[1;32m<ipython-input-28-3c85b8677e92>\u001b[0m in \u001b[0;36m<module>\u001b[1;34m\u001b[0m\n\u001b[0;32m      6\u001b[0m \u001b[0mgreeting\u001b[0m\u001b[1;33m(\u001b[0m\u001b[1;36m100\u001b[0m\u001b[1;33m,\u001b[0m\u001b[1;36m20\u001b[0m\u001b[1;33m)\u001b[0m\u001b[1;33m\u001b[0m\u001b[1;33m\u001b[0m\u001b[0m\n\u001b[0;32m      7\u001b[0m \u001b[0mgreeting\u001b[0m\u001b[1;33m(\u001b[0m\u001b[0mage\u001b[0m\u001b[1;33m=\u001b[0m\u001b[1;36m48\u001b[0m\u001b[1;33m,\u001b[0m \u001b[0mmarks\u001b[0m\u001b[1;33m=\u001b[0m\u001b[1;36m100\u001b[0m\u001b[1;33m)\u001b[0m\u001b[1;33m\u001b[0m\u001b[1;33m\u001b[0m\u001b[0m\n\u001b[1;32m----> 8\u001b[1;33m \u001b[0mgreeting\u001b[0m\u001b[1;33m(\u001b[0m\u001b[1;36m48\u001b[0m\u001b[1;33m,\u001b[0m \u001b[0mmarks\u001b[0m\u001b[1;33m=\u001b[0m\u001b[1;36m100\u001b[0m\u001b[1;33m)\u001b[0m\u001b[1;33m\u001b[0m\u001b[1;33m\u001b[0m\u001b[0m\n\u001b[0m",
      "\u001b[1;31mTypeError\u001b[0m: greeting() got multiple values for argument 'marks'"
     ]
    }
   ],
   "source": [
    "def  greeting(marks, age, name='Guest', msg='Good morning'):\n",
    "    print('Student name', name)\n",
    "    print('Student age', age)\n",
    "    print('Student marks', marks)\n",
    "    print('Student msg', msg)\n",
    "greeting(100,20)\n",
    "greeting(age=48, marks=100)\n",
    "greeting(48, marks=100)"
   ]
  },
  {
   "cell_type": "code",
   "execution_count": 29,
   "metadata": {},
   "outputs": [
    {
     "ename": "SyntaxError",
     "evalue": "non-default argument follows default argument (<ipython-input-29-089e79ed6974>, line 1)",
     "output_type": "error",
     "traceback": [
      "\u001b[1;36m  File \u001b[1;32m\"<ipython-input-29-089e79ed6974>\"\u001b[1;36m, line \u001b[1;32m1\u001b[0m\n\u001b[1;33m    def  greeting( name='Guest', msg='Good morning',marks, age):\u001b[0m\n\u001b[1;37m                  ^\u001b[0m\n\u001b[1;31mSyntaxError\u001b[0m\u001b[1;31m:\u001b[0m non-default argument follows default argument\n"
     ]
    }
   ],
   "source": [
    "def  greeting( name='Guest', msg='Good morning',marks, age):\n",
    "    print('Student name', name)\n",
    "    print('Student age', age)\n",
    "    print('Student marks', marks)\n",
    "    print('Student msg', msg)"
   ]
  },
  {
   "cell_type": "code",
   "execution_count": 30,
   "metadata": {},
   "outputs": [
    {
     "name": "stdout",
     "output_type": "stream",
     "text": [
      "30\n",
      "60\n",
      "100\n"
     ]
    }
   ],
   "source": [
    "#variable length arguments\n",
    "def sum(a,b):\n",
    "    print(a+b)\n",
    "sum(10,20)\n",
    "\n",
    "def sum(a,b,c):\n",
    "    print(a+b+c)\n",
    "sum(10,20,30)\n",
    "\n",
    "def sum(a,b,c,d):\n",
    "    print(a+b+c+d)\n",
    "sum(10,20,30,40)\n"
   ]
  },
  {
   "cell_type": "code",
   "execution_count": 31,
   "metadata": {},
   "outputs": [
    {
     "name": "stdout",
     "output_type": "stream",
     "text": [
      "100\n"
     ]
    }
   ],
   "source": [
    "t=(10,20,30,40)\n",
    "result=0\n",
    "for i in t:\n",
    "    result+=i\n",
    "print(result)"
   ]
  },
  {
   "cell_type": "code",
   "execution_count": 32,
   "metadata": {},
   "outputs": [],
   "source": [
    "del result"
   ]
  },
  {
   "cell_type": "code",
   "execution_count": 33,
   "metadata": {},
   "outputs": [],
   "source": [
    "def sum(*a):    #tuple\n",
    "    result=0\n",
    "    for i in a:\n",
    "        result=result+i\n",
    "    print(result)"
   ]
  },
  {
   "cell_type": "code",
   "execution_count": 34,
   "metadata": {},
   "outputs": [
    {
     "name": "stdout",
     "output_type": "stream",
     "text": [
      "0\n",
      "30\n",
      "60\n",
      "100\n"
     ]
    }
   ],
   "source": [
    "sum()\n",
    "sum(10,20)\n",
    "sum(10,20,30)\n",
    "sum(10,20,30,40)"
   ]
  },
  {
   "cell_type": "code",
   "execution_count": 36,
   "metadata": {},
   "outputs": [
    {
     "name": "stdout",
     "output_type": "stream",
     "text": [
      "The sum by Dim is: 0\n",
      "The sum by Aastha is: 30\n",
      "The sum by Ash is: 393\n"
     ]
    }
   ],
   "source": [
    "def sum(name,*a):\n",
    "    result=0\n",
    "    for i in a:\n",
    "        result+=i\n",
    "    print('The sum by',name,'is:',result)\n",
    "sum('Dim')\n",
    "sum('Aastha',10,20)\n",
    "sum('Ash',10,203,50,60,70)"
   ]
  },
  {
   "cell_type": "code",
   "execution_count": 41,
   "metadata": {},
   "outputs": [
    {
     "name": "stdout",
     "output_type": "stream",
     "text": [
      "The sum by Aastha is: 30\n"
     ]
    }
   ],
   "source": [
    "def sum(*a,name):\n",
    "    result=0\n",
    "    for i in a:\n",
    "        result+=i\n",
    "    print('The sum by',name,'is:',result)\n",
    "#sum('Dim')                     #Invalid\n",
    "#sum(10,20,'Aastha')            #Invalid\n",
    "sum(10,20,name='Aastha')\n",
    "#sum('Aastha',10,20)             #Invalid"
   ]
  },
  {
   "cell_type": "code",
   "execution_count": 3,
   "metadata": {},
   "outputs": [
    {
     "name": "stdout",
     "output_type": "stream",
     "text": [
      "name : Aastha\n",
      "int1 : r\n",
      "int2 : t\n"
     ]
    }
   ],
   "source": [
    "#Keyword variable length argument\n",
    "def display(**kwargs):      #dictionary\n",
    "    for k,v in kwargs.items():\n",
    "        print(k,':',v)\n",
    "display(name='Aastha',int1='r',int2='t')"
   ]
  },
  {
   "cell_type": "code",
   "execution_count": null,
   "metadata": {},
   "outputs": [],
   "source": [
    "#Types of variables\n",
    "    #Global variables - Declared outside the function, can be accessible inside all the functions of a module\n",
    "    #Local variable"
   ]
  },
  {
   "cell_type": "code",
   "execution_count": 4,
   "metadata": {},
   "outputs": [
    {
     "name": "stdout",
     "output_type": "stream",
     "text": [
      "F1 10\n",
      "F2 10\n"
     ]
    }
   ],
   "source": [
    "a=10    #global variable\n",
    "def f1():\n",
    "    print('F1',a)\n",
    "f1()\n",
    "\n",
    "def f2():\n",
    "    print('F2',a)\n",
    "f2()"
   ]
  },
  {
   "cell_type": "code",
   "execution_count": 5,
   "metadata": {},
   "outputs": [
    {
     "name": "stdout",
     "output_type": "stream",
     "text": [
      "F1 20\n"
     ]
    },
    {
     "ename": "NameError",
     "evalue": "name 'p' is not defined",
     "output_type": "error",
     "traceback": [
      "\u001b[1;31m---------------------------------------------------------------------------\u001b[0m",
      "\u001b[1;31mNameError\u001b[0m                                 Traceback (most recent call last)",
      "\u001b[1;32m<ipython-input-5-5528b86735de>\u001b[0m in \u001b[0;36m<module>\u001b[1;34m\u001b[0m\n\u001b[0;32m      6\u001b[0m \u001b[1;32mdef\u001b[0m \u001b[0mf2\u001b[0m\u001b[1;33m(\u001b[0m\u001b[1;33m)\u001b[0m\u001b[1;33m:\u001b[0m\u001b[1;33m\u001b[0m\u001b[1;33m\u001b[0m\u001b[0m\n\u001b[0;32m      7\u001b[0m     \u001b[0mprint\u001b[0m\u001b[1;33m(\u001b[0m\u001b[1;34m'F2'\u001b[0m\u001b[1;33m,\u001b[0m\u001b[0mp\u001b[0m\u001b[1;33m)\u001b[0m\u001b[1;33m\u001b[0m\u001b[1;33m\u001b[0m\u001b[0m\n\u001b[1;32m----> 8\u001b[1;33m \u001b[0mf2\u001b[0m\u001b[1;33m(\u001b[0m\u001b[1;33m)\u001b[0m\u001b[1;33m\u001b[0m\u001b[1;33m\u001b[0m\u001b[0m\n\u001b[0m",
      "\u001b[1;32m<ipython-input-5-5528b86735de>\u001b[0m in \u001b[0;36mf2\u001b[1;34m()\u001b[0m\n\u001b[0;32m      5\u001b[0m \u001b[1;33m\u001b[0m\u001b[0m\n\u001b[0;32m      6\u001b[0m \u001b[1;32mdef\u001b[0m \u001b[0mf2\u001b[0m\u001b[1;33m(\u001b[0m\u001b[1;33m)\u001b[0m\u001b[1;33m:\u001b[0m\u001b[1;33m\u001b[0m\u001b[1;33m\u001b[0m\u001b[0m\n\u001b[1;32m----> 7\u001b[1;33m     \u001b[0mprint\u001b[0m\u001b[1;33m(\u001b[0m\u001b[1;34m'F2'\u001b[0m\u001b[1;33m,\u001b[0m\u001b[0mp\u001b[0m\u001b[1;33m)\u001b[0m\u001b[1;33m\u001b[0m\u001b[1;33m\u001b[0m\u001b[0m\n\u001b[0m\u001b[0;32m      8\u001b[0m \u001b[0mf2\u001b[0m\u001b[1;33m(\u001b[0m\u001b[1;33m)\u001b[0m\u001b[1;33m\u001b[0m\u001b[1;33m\u001b[0m\u001b[0m\n",
      "\u001b[1;31mNameError\u001b[0m: name 'p' is not defined"
     ]
    }
   ],
   "source": [
    "def f1():\n",
    "    p=20     #local variable\n",
    "    print('F1',p)\n",
    "f1()\n",
    "\n",
    "def f2():\n",
    "    print('F2',p)\n",
    "f2()"
   ]
  },
  {
   "cell_type": "code",
   "execution_count": 6,
   "metadata": {},
   "outputs": [
    {
     "name": "stdout",
     "output_type": "stream",
     "text": [
      "F1 101\n",
      "F2 10\n"
     ]
    }
   ],
   "source": [
    "q=10\n",
    "def f1():\n",
    "    q=101  #Local variable gets the priority\n",
    "    print('F1',q) \n",
    "f1()\n",
    "\n",
    "def f2():\n",
    "    print('F2',q)\n",
    "f2()"
   ]
  },
  {
   "cell_type": "code",
   "execution_count": 7,
   "metadata": {},
   "outputs": [
    {
     "name": "stdout",
     "output_type": "stream",
     "text": [
      "F1 200\n",
      "F2 200\n"
     ]
    }
   ],
   "source": [
    "z=10\n",
    "def f1():\n",
    "    global z   #making z as global variable\n",
    "    z=200\n",
    "    print('F1', z)\n",
    "f1()\n",
    "\n",
    "def f2():\n",
    "    print('F2', z)\n",
    "f2()"
   ]
  },
  {
   "cell_type": "code",
   "execution_count": 8,
   "metadata": {},
   "outputs": [
    {
     "name": "stdout",
     "output_type": "stream",
     "text": [
      "F1 10\n",
      "F2 200\n"
     ]
    }
   ],
   "source": [
    "z=10\n",
    "def f1():\n",
    "    print('F1', z)\n",
    "f1()\n",
    "\n",
    "def f2():\n",
    "    global z   #making z as global variable\n",
    "    z=200\n",
    "    print('F2', z)\n",
    "f2()"
   ]
  },
  {
   "cell_type": "code",
   "execution_count": 9,
   "metadata": {},
   "outputs": [
    {
     "ename": "SyntaxError",
     "evalue": "name 'z' is assigned to before global declaration (<ipython-input-9-72f2ccfd46e6>, line 8)",
     "output_type": "error",
     "traceback": [
      "\u001b[1;36m  File \u001b[1;32m\"<ipython-input-9-72f2ccfd46e6>\"\u001b[1;36m, line \u001b[1;32m8\u001b[0m\n\u001b[1;33m    \u001b[0m\n\u001b[1;37m    ^\u001b[0m\n\u001b[1;31mSyntaxError\u001b[0m\u001b[1;31m:\u001b[0m name 'z' is assigned to before global declaration\n"
     ]
    }
   ],
   "source": [
    "z=10\n",
    "def f1():\n",
    "    \n",
    "    z=200\n",
    "    global z\n",
    "    print('F1', z)\n",
    "f1()\n",
    "\n",
    "def f2():\n",
    "    print('F2', z)\n",
    "f2()"
   ]
  },
  {
   "cell_type": "code",
   "execution_count": 10,
   "metadata": {},
   "outputs": [
    {
     "name": "stdout",
     "output_type": "stream",
     "text": [
      "F1 101\n",
      "F2 999\n",
      "F3 999\n"
     ]
    }
   ],
   "source": [
    "def f1():\n",
    "    global s\n",
    "    s=101\n",
    "    print('F1',s)\n",
    "\n",
    "def f2():\n",
    "    global s\n",
    "    s=999\n",
    "    print('F2',s)\n",
    "def f3():\n",
    "    print('F3', s)\n",
    "\n",
    "f1()\n",
    "f2()\n",
    "f3()"
   ]
  },
  {
   "cell_type": "code",
   "execution_count": 11,
   "metadata": {},
   "outputs": [
    {
     "name": "stdout",
     "output_type": "stream",
     "text": [
      "20\n",
      "10\n"
     ]
    }
   ],
   "source": [
    "a = 10\n",
    "def f1():\n",
    "    a=20\n",
    "    print(a)\n",
    "    print(globals()['a'])\n",
    "f1()"
   ]
  },
  {
   "cell_type": "code",
   "execution_count": 12,
   "metadata": {},
   "outputs": [],
   "source": [
    "#Recursive function - When we call a funtion inside a same function\n",
    "#fact(5) = 5*fact(4)\n",
    "#            5*4*fact(3)\n",
    "#            5*4*3*fact(2)\n",
    "#            5*4*3*2*fact(1)\n",
    "#fact(n) = n*fact(n-1).....\n",
    "#It improves the code readability \n",
    "#Very complex problems "
   ]
  },
  {
   "cell_type": "code",
   "execution_count": 14,
   "metadata": {},
   "outputs": [
    {
     "data": {
      "text/plain": [
       "120"
      ]
     },
     "execution_count": 14,
     "metadata": {},
     "output_type": "execute_result"
    }
   ],
   "source": [
    "def factorial(n):\n",
    "    if n==0:\n",
    "        result=1\n",
    "    else:\n",
    "        result=n*factorial(n-1)\n",
    "    return result\n",
    "factorial(5)"
   ]
  },
  {
   "cell_type": "code",
   "execution_count": 15,
   "metadata": {},
   "outputs": [
    {
     "data": {
      "text/plain": [
       "16"
      ]
     },
     "execution_count": 15,
     "metadata": {},
     "output_type": "execute_result"
    }
   ],
   "source": [
    "#anonymous functions - Lambda functions \n",
    "#Without name -- Nameless functions \n",
    "def square(n):\n",
    "    return n*n\n",
    "square(4)\n",
    "\n",
    "lambda n : n*n\n",
    "m1 = lambda n : n*n\n",
    "m1(4)"
   ]
  },
  {
   "cell_type": "code",
   "execution_count": 2,
   "metadata": {},
   "outputs": [
    {
     "name": "stdout",
     "output_type": "stream",
     "text": [
      "The sum of 2 and 4 is 6\n"
     ]
    }
   ],
   "source": [
    "s = lambda a,b : a+b\n",
    "print('The sum of {} and {} is {}'.format(2,4,s(2,4)))\n",
    "#print('The sum of {} and {} is {}'.format(100,20,s(100,20)))"
   ]
  },
  {
   "cell_type": "code",
   "execution_count": 1,
   "metadata": {},
   "outputs": [
    {
     "name": "stdout",
     "output_type": "stream",
     "text": [
      "The largest number between 10 and 20 is: 20\n"
     ]
    }
   ],
   "source": [
    "s = lambda a,b : a if a>b else b\n",
    "print('The largest number between {} and {} is: {}'.format(10,20,s(10,20)))"
   ]
  },
  {
   "cell_type": "code",
   "execution_count": 6,
   "metadata": {},
   "outputs": [],
   "source": [
    "#filter()\n",
    "#map()\n",
    "#reduce()"
   ]
  },
  {
   "cell_type": "code",
   "execution_count": null,
   "metadata": {},
   "outputs": [],
   "source": [
    "filter(func,list)\n",
    "#True value in the list, tuple, set \n",
    "#False nothing"
   ]
  },
  {
   "cell_type": "code",
   "execution_count": 3,
   "metadata": {},
   "outputs": [
    {
     "name": "stdout",
     "output_type": "stream",
     "text": [
      "<class 'filter'>\n"
     ]
    },
    {
     "data": {
      "text/plain": [
       "(0, 4, 22, 24, 22)"
      ]
     },
     "execution_count": 3,
     "metadata": {},
     "output_type": "execute_result"
    }
   ],
   "source": [
    "def iseven(x):\n",
    "    if x%2==0:\n",
    "        return True\n",
    "    else:\n",
    "        return False\n",
    "l=[0,5,4,7,21,22,24,22,37,39]\n",
    "print(type(filter(iseven,l)))\n",
    "tuple(filter(iseven,l))"
   ]
  },
  {
   "cell_type": "code",
   "execution_count": 4,
   "metadata": {},
   "outputs": [
    {
     "data": {
      "text/plain": [
       "[0, 4, 22, 24, 22]"
      ]
     },
     "execution_count": 4,
     "metadata": {},
     "output_type": "execute_result"
    }
   ],
   "source": [
    "list(filter(lambda x: x%2==0,l))"
   ]
  },
  {
   "cell_type": "code",
   "execution_count": 5,
   "metadata": {},
   "outputs": [
    {
     "data": {
      "text/plain": [
       "[5, 7, 21, 37, 39]"
      ]
     },
     "execution_count": 5,
     "metadata": {},
     "output_type": "execute_result"
    }
   ],
   "source": [
    "list(filter(lambda x : x%2!=0,l))"
   ]
  },
  {
   "cell_type": "code",
   "execution_count": null,
   "metadata": {},
   "outputs": [],
   "source": [
    "#filter(func, list or Tuple or set) -prints true values\n",
    "#map(func, list or Tuple or set)  - Maps value to every element in list or Tuple or set\n",
    "#reduce(func,l) - reduces iterable into single value"
   ]
  },
  {
   "cell_type": "code",
   "execution_count": 7,
   "metadata": {},
   "outputs": [],
   "source": [
    "def double(x):\n",
    "    return 2*x"
   ]
  },
  {
   "cell_type": "code",
   "execution_count": 8,
   "metadata": {},
   "outputs": [],
   "source": [
    "l=[1,2,3,4,5]"
   ]
  },
  {
   "cell_type": "code",
   "execution_count": 9,
   "metadata": {},
   "outputs": [
    {
     "data": {
      "text/plain": [
       "[2, 4, 6, 8, 10]"
      ]
     },
     "execution_count": 9,
     "metadata": {},
     "output_type": "execute_result"
    }
   ],
   "source": [
    "list(map(double,l))"
   ]
  },
  {
   "cell_type": "code",
   "execution_count": 10,
   "metadata": {},
   "outputs": [
    {
     "data": {
      "text/plain": [
       "[2, 4, 6, 8, 10]"
      ]
     },
     "execution_count": 10,
     "metadata": {},
     "output_type": "execute_result"
    }
   ],
   "source": [
    "list(map(lambda x: 2*x,l))"
   ]
  },
  {
   "cell_type": "code",
   "execution_count": 11,
   "metadata": {},
   "outputs": [],
   "source": [
    "list1 = [1,2,3,4]\n",
    "list2 = [10,20,30,40]"
   ]
  },
  {
   "cell_type": "code",
   "execution_count": 14,
   "metadata": {},
   "outputs": [
    {
     "data": {
      "text/plain": [
       "[10, 40, 90, 160]"
      ]
     },
     "execution_count": 14,
     "metadata": {},
     "output_type": "execute_result"
    }
   ],
   "source": [
    "list(map(lambda x,y: x*y,list1,list2))"
   ]
  },
  {
   "cell_type": "code",
   "execution_count": 16,
   "metadata": {},
   "outputs": [
    {
     "data": {
      "text/plain": [
       "280"
      ]
     },
     "execution_count": 16,
     "metadata": {},
     "output_type": "execute_result"
    }
   ],
   "source": [
    "from functools import *\n",
    "list1 = [10,20,30,40,50,60,70]\n",
    "reduce(lambda x,y : x+y,list1)"
   ]
  },
  {
   "cell_type": "code",
   "execution_count": 17,
   "metadata": {},
   "outputs": [
    {
     "name": "stdout",
     "output_type": "stream",
     "text": [
      "1835663481712\n",
      "1835663481712\n"
     ]
    }
   ],
   "source": [
    "#Function aliasing\n",
    "def greeting(name):\n",
    "    print('GM',name)\n",
    "print(id(greeting))\n",
    "Namaste = greeting\n",
    "print(id(Namaste))"
   ]
  },
  {
   "cell_type": "code",
   "execution_count": 20,
   "metadata": {},
   "outputs": [],
   "source": [
    "#Nested function\n",
    "def outer():\n",
    "    print('Outer function started')\n",
    "    def inner():\n",
    "        print('Inner function started')\n",
    "    inner()   #you need to call inner function in outer func "
   ]
  },
  {
   "cell_type": "code",
   "execution_count": 21,
   "metadata": {},
   "outputs": [
    {
     "name": "stdout",
     "output_type": "stream",
     "text": [
      "Outer function started\n"
     ]
    }
   ],
   "source": [
    "outer()"
   ]
  },
  {
   "cell_type": "code",
   "execution_count": 22,
   "metadata": {},
   "outputs": [],
   "source": [
    "def f1():\n",
    "    def inner(a,b):\n",
    "        print('The sum:', a+b)\n",
    "        print('The Avg:', (a+b)/2)\n",
    "    inner(10,20)\n",
    "    inner(30,40)\n",
    "    inner(40,45)\n",
    "    inner(15,45)\n",
    "    inner(10,30)"
   ]
  },
  {
   "cell_type": "code",
   "execution_count": 23,
   "metadata": {},
   "outputs": [
    {
     "name": "stdout",
     "output_type": "stream",
     "text": [
      "The sum: 30\n",
      "The Avg: 15.0\n",
      "The sum: 70\n",
      "The Avg: 35.0\n",
      "The sum: 85\n",
      "The Avg: 42.5\n",
      "The sum: 60\n",
      "The Avg: 30.0\n",
      "The sum: 40\n",
      "The Avg: 20.0\n"
     ]
    }
   ],
   "source": [
    "f1()"
   ]
  },
  {
   "cell_type": "code",
   "execution_count": 27,
   "metadata": {},
   "outputs": [
    {
     "ename": "NameError",
     "evalue": "name 'inner' is not defined",
     "output_type": "error",
     "traceback": [
      "\u001b[1;31m---------------------------------------------------------------------------\u001b[0m",
      "\u001b[1;31mNameError\u001b[0m                                 Traceback (most recent call last)",
      "\u001b[1;32m<ipython-input-27-7f64f5b0672e>\u001b[0m in \u001b[0;36m<module>\u001b[1;34m\u001b[0m\n\u001b[0;32m      1\u001b[0m \u001b[1;31m#inner(10,20)\u001b[0m\u001b[1;33m\u001b[0m\u001b[1;33m\u001b[0m\u001b[1;33m\u001b[0m\u001b[0m\n\u001b[0;32m      2\u001b[0m \u001b[1;31m#f1().inner(10,20)\u001b[0m\u001b[1;33m\u001b[0m\u001b[1;33m\u001b[0m\u001b[1;33m\u001b[0m\u001b[0m\n\u001b[1;32m----> 3\u001b[1;33m \u001b[0mf1\u001b[0m\u001b[1;33m(\u001b[0m\u001b[0minner\u001b[0m\u001b[1;33m(\u001b[0m\u001b[1;36m10\u001b[0m\u001b[1;33m,\u001b[0m\u001b[1;36m20\u001b[0m\u001b[1;33m)\u001b[0m\u001b[1;33m)\u001b[0m\u001b[1;33m\u001b[0m\u001b[1;33m\u001b[0m\u001b[0m\n\u001b[0m",
      "\u001b[1;31mNameError\u001b[0m: name 'inner' is not defined"
     ]
    }
   ],
   "source": [
    "#Invalid statements\n",
    "\n",
    "#inner(10,20)\n",
    "#f1().inner(10,20)\n",
    "#f1(inner(10,20))"
   ]
  },
  {
   "cell_type": "code",
   "execution_count": 28,
   "metadata": {},
   "outputs": [
    {
     "name": "stdout",
     "output_type": "stream",
     "text": [
      "Inner function started\n"
     ]
    }
   ],
   "source": [
    "def outer():\n",
    "    def inner():\n",
    "        print('Inner function started')\n",
    "    return inner\n",
    "f1 = outer()\n",
    "f1()"
   ]
  },
  {
   "cell_type": "code",
   "execution_count": 29,
   "metadata": {},
   "outputs": [
    {
     "name": "stdout",
     "output_type": "stream",
     "text": [
      "The sum: 30\n"
     ]
    }
   ],
   "source": [
    "def f1():\n",
    "    def inner(a,b):\n",
    "        print('The sum:', a+b)\n",
    "    return inner\n",
    "\n",
    "a = f1()\n",
    "a(10,20)       "
   ]
  },
  {
   "cell_type": "code",
   "execution_count": 30,
   "metadata": {},
   "outputs": [
    {
     "data": {
      "text/plain": [
       "function"
      ]
     },
     "execution_count": 30,
     "metadata": {},
     "output_type": "execute_result"
    }
   ],
   "source": [
    "type(a)"
   ]
  },
  {
   "cell_type": "code",
   "execution_count": 31,
   "metadata": {},
   "outputs": [],
   "source": [
    "def a(x,y):\n",
    "    z = x+y\n",
    "    return z\n",
    "outer = a(10,20)"
   ]
  },
  {
   "cell_type": "code",
   "execution_count": 32,
   "metadata": {},
   "outputs": [
    {
     "data": {
      "text/plain": [
       "30"
      ]
     },
     "execution_count": 32,
     "metadata": {},
     "output_type": "execute_result"
    }
   ],
   "source": [
    "outer"
   ]
  }
 ],
 "metadata": {
  "kernelspec": {
   "display_name": "Python 3",
   "language": "python",
   "name": "python3"
  },
  "language_info": {
   "codemirror_mode": {
    "name": "ipython",
    "version": 3
   },
   "file_extension": ".py",
   "mimetype": "text/x-python",
   "name": "python",
   "nbconvert_exporter": "python",
   "pygments_lexer": "ipython3",
   "version": "3.7.3"
  }
 },
 "nbformat": 4,
 "nbformat_minor": 2
}
