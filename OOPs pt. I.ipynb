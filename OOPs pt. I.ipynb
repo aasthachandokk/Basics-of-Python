{
 "cells": [
  {
   "cell_type": "code",
   "execution_count": 6,
   "metadata": {},
   "outputs": [
    {
     "name": "stdout",
     "output_type": "stream",
     "text": [
      "50.0\n",
      "212.0\n",
      "69.8\n",
      "109.4\n"
     ]
    }
   ],
   "source": [
    "#Creating class\n",
    "class Ctof:\n",
    "    def __init__(self,c):\n",
    "        self.c = c\n",
    "    def ctof(self):\n",
    "        f = (self.c * 9/5)+32\n",
    "        print(f)\n",
    "c1 = Ctof(10)       #c1 is an object\n",
    "c2 = Ctof(100)\n",
    "c3 = Ctof(21)\n",
    "c4 = Ctof(43)\n",
    "c1.ctof()\n",
    "c2.ctof()         #Calling function in the class through object\n",
    "c3.ctof()\n",
    "c4.ctof()"
   ]
  },
  {
   "cell_type": "code",
   "execution_count": 7,
   "metadata": {},
   "outputs": [
    {
     "name": "stdout",
     "output_type": "stream",
     "text": [
      "This is a class which will calculate the salary of an employee\n"
     ]
    }
   ],
   "source": [
    "class Employee:\n",
    "    '''This is a class which will calculate the salary of an employee'''\n",
    "\n",
    "print(Employee.__doc__)    #printing doc string in the class"
   ]
  },
  {
   "cell_type": "code",
   "execution_count": 8,
   "metadata": {},
   "outputs": [
    {
     "name": "stdout",
     "output_type": "stream",
     "text": [
      "Help on class Employee in module __main__:\n",
      "\n",
      "class Employee(builtins.object)\n",
      " |  This is a class which will calculate the salary of an employee\n",
      " |  \n",
      " |  Data descriptors defined here:\n",
      " |  \n",
      " |  __dict__\n",
      " |      dictionary for instance variables (if defined)\n",
      " |  \n",
      " |  __weakref__\n",
      " |      list of weak references to the object (if defined)\n",
      "\n"
     ]
    }
   ],
   "source": [
    "help(Employee)"
   ]
  },
  {
   "cell_type": "code",
   "execution_count": 10,
   "metadata": {},
   "outputs": [],
   "source": [
    "class Employee:\n",
    "    def __init__(self,name,empid,salary):    #Constructor\n",
    "        self.name = 'Aastha'\n",
    "        self.empid = 1234\n",
    "        self.salary = 123456\n",
    "        \n",
    "    def talk(self):            #Method\n",
    "        print('Hello my name is:', self.name)\n",
    "        print('Hello my emp id is:',self.empid)\n",
    "        print('Hello my salary is:',self.salary)\n",
    "        \n",
    "emp = Employee('Dim', 2234, 23455)\n",
    "\n",
    "#__init__ is a constructor\n",
    "#It is not mandatory"
   ]
  },
  {
   "cell_type": "code",
   "execution_count": 11,
   "metadata": {},
   "outputs": [
    {
     "name": "stdout",
     "output_type": "stream",
     "text": [
      "Hello my name is: Aastha\n",
      "Hello my emp id is: 1234\n",
      "Hello my salary is: 123456\n"
     ]
    }
   ],
   "source": [
    "emp.talk()"
   ]
  },
  {
   "cell_type": "code",
   "execution_count": 12,
   "metadata": {},
   "outputs": [],
   "source": [
    "class Employee:\n",
    "    def __init__(self):\n",
    "        pass\n",
    "e = Employee()"
   ]
  },
  {
   "cell_type": "code",
   "execution_count": 15,
   "metadata": {},
   "outputs": [
    {
     "name": "stdout",
     "output_type": "stream",
     "text": [
      "Hello my name is: Dim\n",
      "Hello my emp id is: 2234\n",
      "Hello my salary is: 23455\n",
      "Hello my name is: Ash\n",
      "Hello my emp id is: 2235\n",
      "Hello my salary is: 34559\n"
     ]
    }
   ],
   "source": [
    "class Employee:\n",
    "    def __init__(self,name,empid,salary):    \n",
    "        self.name = name\n",
    "        self.empid = empid\n",
    "        self.salary = salary\n",
    "        \n",
    "    def talk(self):            \n",
    "        print('Hello my name is:', self.name)\n",
    "        print('Hello my emp id is:',self.empid)\n",
    "        print('Hello my salary is:',self.salary)\n",
    "        \n",
    "emp = Employee('Dim', 2234, 23455)\n",
    "emp.talk()\n",
    "emp2 = Employee('Ash', 2235, 34559)\n",
    "emp2.talk()"
   ]
  },
  {
   "cell_type": "code",
   "execution_count": 17,
   "metadata": {},
   "outputs": [
    {
     "name": "stdout",
     "output_type": "stream",
     "text": [
      "Hello my name is: Dim\n",
      "Hello my emp id is: 2234\n",
      "Hello my salary is: 23455\n",
      "Hello my name is: Ash\n",
      "Hello my emp id is: 2235\n",
      "Hello my salary is: 34559\n"
     ]
    }
   ],
   "source": [
    "class Employee:\n",
    "    def __init__(self,n,e,s):    \n",
    "        self.name = n\n",
    "        self.empid = e\n",
    "        self.salary = s\n",
    "        \n",
    "    def talk(self):            \n",
    "        print('Hello my name is:', self.name)\n",
    "        print('Hello my emp id is:',self.empid)\n",
    "        print('Hello my salary is:',self.salary)\n",
    "        \n",
    "emp = Employee('Dim', 2234, 23455)\n",
    "emp.talk()\n",
    "emp2 = Employee('Ash', 2235, 34559)\n",
    "emp2.talk()"
   ]
  },
  {
   "cell_type": "code",
   "execution_count": 18,
   "metadata": {},
   "outputs": [],
   "source": [
    "#__init__\n",
    "# COnstructor\n",
    "    #1. It is a special method in Python\n",
    "    #2. The name of the constructor should be __init__\n",
    "    #3. Constructor will be executed automatically whenever we are creating an object\n",
    "    #4. Main objective is to declare object related variables and perform initialization.\n",
    "    #5. Constructor will execute only once per object\n",
    "    #6. Constructor should take atleast one arguement i.e self\n",
    "    #7. Constructor is optional and if we are not  providing ,python internally provides\n",
    "        #default constructor"
   ]
  },
  {
   "cell_type": "code",
   "execution_count": 20,
   "metadata": {},
   "outputs": [
    {
     "name": "stdout",
     "output_type": "stream",
     "text": [
      "Constructor Executing\n",
      "2075300150968\n",
      "Constructor Executing\n",
      "2075300150240\n"
     ]
    }
   ],
   "source": [
    "class Test:\n",
    "    def __init__(self):\n",
    "        print('Constructor Executing')\n",
    "        print(id(self))\n",
    "        \n",
    "t1 = Test()\n",
    "t2 = Test()  #every object is stored in different memory location"
   ]
  },
  {
   "cell_type": "code",
   "execution_count": 22,
   "metadata": {},
   "outputs": [
    {
     "name": "stdout",
     "output_type": "stream",
     "text": [
      "One argument constructor executing\n"
     ]
    }
   ],
   "source": [
    "class Test:\n",
    "    def __init__(self):\n",
    "        print('Constructor Executing')\n",
    "    def __init__(self, x):\n",
    "        print('One argument constructor executing')\n",
    "        \n",
    "#t1 = Test()\n",
    "t2 = Test(10)"
   ]
  },
  {
   "cell_type": "code",
   "execution_count": 24,
   "metadata": {},
   "outputs": [
    {
     "name": "stdout",
     "output_type": "stream",
     "text": [
      "Constructor Executing\n"
     ]
    }
   ],
   "source": [
    "class Test:\n",
    "    def __init__(self, x):\n",
    "        print('One argument constructor executing')\n",
    "    def __init__(self):\n",
    "        print('Constructor Executing')\n",
    "        \n",
    "t1 = Test()\n",
    "#t2 = Test(10)"
   ]
  },
  {
   "cell_type": "code",
   "execution_count": 25,
   "metadata": {},
   "outputs": [],
   "source": [
    "# Python doesn't support method overloading\n",
    "#m1()\n",
    "#m1(x)\n",
    "#m1(x,y)"
   ]
  },
  {
   "cell_type": "code",
   "execution_count": 26,
   "metadata": {},
   "outputs": [],
   "source": [
    "# Self\n",
    "    # Python provided implicit default variable which always points to current object\n",
    "    # By using self we can access variables, methods\n",
    "    # In constructor, self should be the first arg\n",
    "    # Self is the first arguemnet in the instance method as well"
   ]
  },
  {
   "cell_type": "code",
   "execution_count": 28,
   "metadata": {},
   "outputs": [],
   "source": [
    "class Movie:\n",
    "    def __init__(self, name, hero, heroine, rating):\n",
    "        self.name = name\n",
    "        self.hero = hero\n",
    "        self.heroine = heroine\n",
    "        self.rating = rating\n",
    "        #Instance variables //called with self variable\n",
    "        \n",
    "    def info(self):\n",
    "        print('Movie name:',  self.name)\n",
    "        print('Hero name:', self.hero)\n",
    "        print('Heroine name:', self.heroine)\n",
    "        print('Movie Rating:', self.rating)"
   ]
  },
  {
   "cell_type": "code",
   "execution_count": 29,
   "metadata": {},
   "outputs": [],
   "source": [
    "movies = [Movie('Pk','AK','AS',10), Movie('SUL','SK','AS',10), \n",
    " Movie('xyz','SS','AK',0), Movie('UL','KS','AA',8)]"
   ]
  },
  {
   "cell_type": "code",
   "execution_count": 31,
   "metadata": {},
   "outputs": [
    {
     "name": "stdout",
     "output_type": "stream",
     "text": [
      "Movie name: Pk\n",
      "Hero name: AK\n",
      "Heroine name: AS\n",
      "Movie Rating: 10\n",
      "Movie name: SUL\n",
      "Hero name: SK\n",
      "Heroine name: AS\n",
      "Movie Rating: 10\n",
      "Movie name: xyz\n",
      "Hero name: SS\n",
      "Heroine name: AK\n",
      "Movie Rating: 0\n",
      "Movie name: UL\n",
      "Hero name: KS\n",
      "Heroine name: AA\n",
      "Movie Rating: 8\n"
     ]
    }
   ],
   "source": [
    "for mov in movies:\n",
    "    mov.info()"
   ]
  },
  {
   "cell_type": "code",
   "execution_count": 1,
   "metadata": {},
   "outputs": [],
   "source": [
    "#Different types of variables\n",
    "    #Instance Variable (Object level)\n",
    "    #Static variable (Class Level)\n",
    "    #Local variable (Method Level)"
   ]
  },
  {
   "cell_type": "code",
   "execution_count": null,
   "metadata": {},
   "outputs": [],
   "source": [
    "#Instance variables\n",
    "    #If the value of variable is varying from object to object\n",
    "    #A separate copy of instance variable is created for every object\n",
    "\n",
    "#Where we can declare instance variable\n",
    "    #1. Inside constructor by using self variables\n",
    "    #2. Inside instance method by using self variable\n",
    "    #3. Outside of the class by using object reference variables"
   ]
  },
  {
   "cell_type": "code",
   "execution_count": 5,
   "metadata": {},
   "outputs": [
    {
     "name": "stdout",
     "output_type": "stream",
     "text": [
      "{'eno': 1000, 'ename': 'Aastha', 'salary': 100000}\n"
     ]
    }
   ],
   "source": [
    "#1. Inside constructor by using self variables\n",
    "class Employee:\n",
    "    '''Instance variable declared inside constructor'''\n",
    "    def __init__(self):\n",
    "        self.eno = 1000\n",
    "        self.ename = 'Aastha'\n",
    "        self.salary = 100000\n",
    "emp = Employee()\n",
    "print(emp.__dict__)"
   ]
  },
  {
   "cell_type": "code",
   "execution_count": 7,
   "metadata": {},
   "outputs": [
    {
     "name": "stdout",
     "output_type": "stream",
     "text": [
      "{'eno': 1, 'ename': 'Ash', 'salary': 10000}\n",
      "{'eno': 2, 'ename': 'Aastha', 'salary': 20000}\n"
     ]
    }
   ],
   "source": [
    "#1. Inside constructor by using self variables\n",
    "class Employee:\n",
    "    '''Instance variable declared inside constructor'''\n",
    "    def __init__(self,eno, ename, salary):\n",
    "        self.eno = eno\n",
    "        self.ename = ename\n",
    "        self.salary = salary\n",
    "emp1 = Employee(1,'Ash',10000)\n",
    "emp2 = Employee(2,'Aastha',20000)\n",
    "print(emp1.__dict__)\n",
    "print(emp2.__dict__)"
   ]
  },
  {
   "cell_type": "code",
   "execution_count": 3,
   "metadata": {},
   "outputs": [
    {
     "name": "stdout",
     "output_type": "stream",
     "text": [
      "{'b': 20}\n"
     ]
    }
   ],
   "source": [
    "#2. Inside instance method by using self variable\n",
    "class Employee:\n",
    "    def __init__(self):\n",
    "        pass\n",
    "    def m1(self):\n",
    "        '''Inside the method'''\n",
    "        self.b = 20\n",
    "\n",
    "emp1 = Employee()\n",
    "emp1.m1()\n",
    "print(emp1.__dict__)"
   ]
  },
  {
   "cell_type": "code",
   "execution_count": 5,
   "metadata": {},
   "outputs": [
    {
     "name": "stdout",
     "output_type": "stream",
     "text": [
      "{'b': 20}\n",
      "{'b': 20, 'c': 30}\n"
     ]
    }
   ],
   "source": [
    "#3. Outside of the class by using object reference variables\n",
    "class Employee:\n",
    "    def __init__(self):\n",
    "        pass\n",
    "    def m1(self):\n",
    "        '''Inside the method'''\n",
    "        self.b = 20\n",
    "\n",
    "emp1 = Employee()\n",
    "emp1.m1()\n",
    "print(emp1.__dict__)\n",
    "emp1.c=30\n",
    "print(emp1.__dict__)"
   ]
  },
  {
   "cell_type": "code",
   "execution_count": 6,
   "metadata": {},
   "outputs": [
    {
     "name": "stdout",
     "output_type": "stream",
     "text": [
      "20\n",
      "30\n"
     ]
    }
   ],
   "source": [
    "#How to access the Instance variable\n",
    "#Within the class by using self\n",
    "class Test:\n",
    "    def __init__(self):\n",
    "        self.a = 20\n",
    "        self.b = 30\n",
    "    def m1(self):\n",
    "        print(self.a)\n",
    "        print(self.b)\n",
    "t = Test()\n",
    "t.m1()"
   ]
  },
  {
   "cell_type": "code",
   "execution_count": 8,
   "metadata": {},
   "outputs": [
    {
     "name": "stdout",
     "output_type": "stream",
     "text": [
      "20\n",
      "30\n"
     ]
    }
   ],
   "source": [
    "#Outside the class by using object reference\n",
    "print(t.a)\n",
    "print(t.b)"
   ]
  },
  {
   "cell_type": "code",
   "execution_count": 14,
   "metadata": {},
   "outputs": [
    {
     "name": "stdout",
     "output_type": "stream",
     "text": [
      "{'a': 10, 'b': 20, 'c': 30, 'd': 40}\n",
      "{'a': 10, 'c': 30, 'd': 40}\n"
     ]
    }
   ],
   "source": [
    "#How to delete the instance variable\n",
    "#del self.variablename - within the class\n",
    "class Test:\n",
    "    def __init__(self):\n",
    "        self.a = 10\n",
    "        self.b = 20\n",
    "        self.c = 30\n",
    "        self.d = 40\n",
    "    def m1(self):\n",
    "        del self.b\n",
    "t= Test() \n",
    "print(t.__dict__)   # we have not called method yet\n",
    "t.m1()\n",
    "print(t.__dict__)"
   ]
  },
  {
   "cell_type": "code",
   "execution_count": 15,
   "metadata": {},
   "outputs": [
    {
     "name": "stdout",
     "output_type": "stream",
     "text": [
      "{'c': 30, 'd': 40}\n"
     ]
    }
   ],
   "source": [
    "#Outside the class - del obj.val\n",
    "del t.a\n",
    "print(t.__dict__)"
   ]
  },
  {
   "cell_type": "code",
   "execution_count": 18,
   "metadata": {},
   "outputs": [
    {
     "name": "stdout",
     "output_type": "stream",
     "text": [
      "{'a': 10}\n",
      "{'a': 777, 'b': 888}\n",
      "{'a': 777, 'b': 1000}\n",
      "{'a': 777, 'b': 1000, 'c': 20}\n"
     ]
    }
   ],
   "source": [
    "class Test:\n",
    "    def __init__(self):\n",
    "        self.a = 10\n",
    "    def m1(self):\n",
    "        self.a = 777\n",
    "        self.b = 888\n",
    "t = Test()\n",
    "print(t.__dict__)    #calling instructor's variable\n",
    "t.m1()               #calling method\n",
    "print(t.__dict__)    \n",
    "t.b=1000              #updating instance variable outside the class\n",
    "print(t.__dict__)    \n",
    "t.c=20                #creating instance variable outside the class\n",
    "print(t.__dict__)"
   ]
  },
  {
   "cell_type": "code",
   "execution_count": 20,
   "metadata": {},
   "outputs": [
    {
     "name": "stdout",
     "output_type": "stream",
     "text": [
      "{'b': 20}\n",
      "888 777\n"
     ]
    }
   ],
   "source": [
    "class Test:\n",
    "    a=10\n",
    "    def __init__(self):\n",
    "        self.b=20\n",
    "t = Test()\n",
    "print(t.__dict__)\n",
    "t.b = 777\n",
    "t.a = 888\n",
    "print(t.a,t.b)"
   ]
  },
  {
   "cell_type": "code",
   "execution_count": 22,
   "metadata": {},
   "outputs": [
    {
     "name": "stdout",
     "output_type": "stream",
     "text": [
      "10 20\n",
      "{'b': 20}\n"
     ]
    }
   ],
   "source": [
    "t2 = Test()\n",
    "print(t2.a,t2.b)\n",
    "print(t2.__dict__)"
   ]
  },
  {
   "cell_type": "code",
   "execution_count": 23,
   "metadata": {},
   "outputs": [
    {
     "name": "stdout",
     "output_type": "stream",
     "text": [
      "{'b': 20}\n",
      "{'b': 777, 'a': 888}\n"
     ]
    }
   ],
   "source": [
    "class Test:\n",
    "    a=10          #static variable\n",
    "    def __init__(self):\n",
    "        self.b=20\n",
    "t = Test()\n",
    "print(t.__dict__)\n",
    "t.b = 777\n",
    "t.a = 888        #new instance variable is being created here\n",
    "print(t.__dict__)"
   ]
  },
  {
   "cell_type": "code",
   "execution_count": null,
   "metadata": {},
   "outputs": [],
   "source": [
    "#Static variable\n",
    "    #We are not required to maintain separate copy of variable- share the same copy\n",
    "    #One copy of static variable created at the class level\n",
    "\n",
    "#How to create static variable\n",
    "    #1. Directly inside the class, self is not associated\n",
    "    #2. Inside the constructor using class name\n",
    "    #3. Inside instance method using class name\n",
    "    #4. Inside class method by using cls variable or class name\n",
    "    #5. Inside static method using class name\n",
    "    #6. From outside the class\n",
    "    \n",
    "#Static variable - Only one copy will be created at the class level\n",
    "#Instance variable - For every object a separate copy will be created\n"
   ]
  },
  {
   "cell_type": "code",
   "execution_count": 31,
   "metadata": {},
   "outputs": [
    {
     "name": "stdout",
     "output_type": "stream",
     "text": [
      "{'__module__': '__main__', 'a': 10, '__init__': <function Test.__init__ at 0x000001A42E0E6400>, 'm1': <function Test.m1 at 0x000001A42E0E6378>, 'm2': <classmethod object at 0x000001A42E0D77B8>, 'm3': <staticmethod object at 0x000001A42E0D7908>, '__dict__': <attribute '__dict__' of 'Test' objects>, '__weakref__': <attribute '__weakref__' of 'Test' objects>, '__doc__': None, 'b': 20, 'g': 100, 'c': 30, 'd': 40, 'e': 50, 'f': 60}\n"
     ]
    }
   ],
   "source": [
    "class Test:\n",
    "    a=10    #Static variable\n",
    "    def __init__(self):\n",
    "        Test.b = 20   #Static variable inside the constructor using class name\n",
    "    \n",
    "    def m1(self):\n",
    "        Test.c = 30   #Static variable inside instance method using class name\n",
    "    \n",
    "    @classmethod\n",
    "    def m2(cls):\n",
    "        cls.d = 40    #Static variable inside class method by using cls variable\n",
    "        Test.e = 50   #Static variable inside class method by using class name\n",
    "    \n",
    "    @staticmethod\n",
    "    def m3():\n",
    "        Test.f = 60  #Static variable inside static method using class name\n",
    "        \n",
    "#print(Test.__dict__)\n",
    "t = Test()\n",
    "Test.g = 100         #Static variable outside the class\n",
    "#print(Test.__dict__)\n",
    "t.m1()\n",
    "#print(Test.__dict__)\n",
    "t.m2()\n",
    "#print(Test.__dict__)\n",
    "t.m3()\n",
    "print(Test.__dict__)"
   ]
  },
  {
   "cell_type": "code",
   "execution_count": 30,
   "metadata": {},
   "outputs": [
    {
     "name": "stdout",
     "output_type": "stream",
     "text": [
      "888\n",
      "777\n"
     ]
    }
   ],
   "source": [
    "class Test:\n",
    "    a = 777   #static variable\n",
    "    def __init__(self):\n",
    "        self.a = 888   #instance variable\n",
    "t = Test()\n",
    "print(t.a)    #calling instance var through object\n",
    "print(Test.a)   #calling static variable using class name"
   ]
  },
  {
   "cell_type": "code",
   "execution_count": null,
   "metadata": {},
   "outputs": [],
   "source": [
    "#How to access the static variable\n",
    "    #1. Inside the constructor - Either by self or by class name\n",
    "    #2. Inside the instance method - Either by self or by class name\n",
    "    #3. Inside the class method - Either by cls or by class name\n",
    "    #4. Inside the static method - By class name\n",
    "    #5. Outside the class - Either by object ref or by class name"
   ]
  },
  {
   "cell_type": "code",
   "execution_count": 8,
   "metadata": {},
   "outputs": [
    {
     "data": {
      "text/plain": [
       "100"
      ]
     },
     "execution_count": 8,
     "metadata": {},
     "output_type": "execute_result"
    }
   ],
   "source": [
    "class Test:\n",
    "    a=10\n",
    "    def __init__(self):\n",
    "        self.a =100\n",
    "        print(self.a)  #Inside the constructor by self\n",
    "        print(Test.a)  #Inside the constructor by class name\n",
    "        \n",
    "    def m1(self):\n",
    "        print(self.a)  #Inside the instance method by self\n",
    "        print(Test.a)  #Inside the instance method by class name\n",
    "        \n",
    "    @classmethod\n",
    "    def m2(cls):\n",
    "        print(cls.a)  #Inside the class method by cls\n",
    "        print(Test.a) #Inside the class method by class name\n",
    "        \n",
    "    @staticmethod\n",
    "    def m3():\n",
    "        print(Test.a) #Inside the static method - By class name\n",
    "        \n",
    "#t = Test()\n",
    "#t.m1()\n",
    "#t.m2()\n",
    "#t.m3()\n",
    "t.a     #instance variable takes the priority"
   ]
  },
  {
   "cell_type": "code",
   "execution_count": 10,
   "metadata": {},
   "outputs": [
    {
     "name": "stdout",
     "output_type": "stream",
     "text": [
      "10\n",
      "10\n"
     ]
    },
    {
     "data": {
      "text/plain": [
       "10"
      ]
     },
     "execution_count": 10,
     "metadata": {},
     "output_type": "execute_result"
    }
   ],
   "source": [
    "class Test:\n",
    "    a=10\n",
    "    def __init__(self):\n",
    "        #self.a =100\n",
    "        print(self.a)  #Inside the constructor by self\n",
    "        print(Test.a)  #Inside the constructor by class name\n",
    "        \n",
    "    def m1(self):\n",
    "        print(self.a)  #Inside the instance method by self\n",
    "        print(Test.a)  #Inside the instance method by class name\n",
    "        \n",
    "    @classmethod\n",
    "    def m2(cls):\n",
    "        print(cls.a)  #Inside the class method by cls\n",
    "        print(Test.a) #Inside the class method by class name\n",
    "        \n",
    "    @staticmethod\n",
    "    def m3():\n",
    "        print(Test.a) #Inside the static method - By class name\n",
    "        \n",
    "t = Test()\n",
    "#t.m1()\n",
    "#t.m2()\n",
    "#t.m3()\n",
    "t.a\n",
    "Test.a\n",
    "#Outside the class - Either by object ref or by class name"
   ]
  },
  {
   "cell_type": "code",
   "execution_count": null,
   "metadata": {},
   "outputs": [],
   "source": [
    "#Where we can modify the value of static variables\n",
    "    #By using class name (Inside or outside the class)\n",
    "    #Inside the class method by using cls variable"
   ]
  },
  {
   "cell_type": "code",
   "execution_count": 16,
   "metadata": {},
   "outputs": [
    {
     "name": "stdout",
     "output_type": "stream",
     "text": [
      "888\n",
      "10000\n",
      "2222\n",
      "22212\n",
      "22334\n"
     ]
    }
   ],
   "source": [
    "class Test:\n",
    "    a = 10\n",
    "    def __init__(self):\n",
    "        Test.a = 888    #By using class name\n",
    "     \n",
    "    def m1(self):\n",
    "        Test.a = 10000  #By using class name\n",
    "     \n",
    "    @classmethod\n",
    "    def m2(cls ):\n",
    "        Test.a = 9090\n",
    "        cls.a = 2222     #Inside the class method by using clas variable\n",
    "        \n",
    "    @staticmethod\n",
    "    def m3():\n",
    "        Test.a = 22212\n",
    "        \n",
    "t = Test()\n",
    "print(Test.a)\n",
    "t.m1()\n",
    "print(Test.a)\n",
    "t.m2()\n",
    "print(Test.a)\n",
    "t.m3()\n",
    "print(Test.a)\n",
    "Test.a = 22334          #By using class name\n",
    "print(Test.a)       "
   ]
  },
  {
   "cell_type": "code",
   "execution_count": 28,
   "metadata": {},
   "outputs": [
    {
     "name": "stdout",
     "output_type": "stream",
     "text": [
      "999\n"
     ]
    },
    {
     "data": {
      "text/plain": [
       "888"
      ]
     },
     "execution_count": 28,
     "metadata": {},
     "output_type": "execute_result"
    }
   ],
   "source": [
    "class Test:\n",
    "    a=10\n",
    "    def __init__(self):\n",
    "        Test.a = 888\n",
    "        a = 999         #local variable\n",
    "        self.a = 90\n",
    "        print(a)\n",
    "        \n",
    "    def m1(self):\n",
    "        print(a)\n",
    "        \n",
    "t = Test()\n",
    "#t.m1()         #NameError: name 'a' is not defined\n",
    "#t.a             # 90\n",
    "Test.a           # 888\n",
    "#print(a)       #NameError: name 'a' is not defined"
   ]
  },
  {
   "cell_type": "code",
   "execution_count": 32,
   "metadata": {},
   "outputs": [
    {
     "name": "stdout",
     "output_type": "stream",
     "text": [
      "90\n",
      "1000\n",
      "10\n"
     ]
    }
   ],
   "source": [
    "class Test:\n",
    "    a = 10\n",
    "    def __init__(self):\n",
    "        Test.a = 1000\n",
    "        a =100\n",
    "        self.a = 90\n",
    "        print(self.a)\n",
    "        print(Test.a)\n",
    "        \n",
    "    def m1(self):\n",
    "        b=10\n",
    "        print(b)\n",
    "        \n",
    "t = Test()\n",
    "t.m1()"
   ]
  },
  {
   "cell_type": "code",
   "execution_count": 35,
   "metadata": {},
   "outputs": [
    {
     "name": "stdout",
     "output_type": "stream",
     "text": [
      "10 20\n",
      "10 20\n",
      "888 20\n",
      "10 1000\n"
     ]
    }
   ],
   "source": [
    "class Test:\n",
    "    x=10\n",
    "    def __init__(self):\n",
    "        self.y = 20\n",
    "\n",
    "t1 = Test()\n",
    "t2 = Test()\n",
    "\n",
    "print(t1.x , t1.y)\n",
    "print(t2.x , t2.y)\n",
    "\n",
    "t1.x = 888\n",
    "t2.y= 1000\n",
    "print(t1.x , t1.y)\n",
    "print(t2.x , t2.y)"
   ]
  },
  {
   "cell_type": "code",
   "execution_count": 36,
   "metadata": {},
   "outputs": [
    {
     "name": "stdout",
     "output_type": "stream",
     "text": [
      "888 999\n",
      "10 20\n"
     ]
    }
   ],
   "source": [
    "class Test:\n",
    "    a = 10\n",
    "    def __init__(self):\n",
    "        self.b =20\n",
    "        \n",
    "    def m1(self):\n",
    "        self.a = 888\n",
    "        self.b = 999\n",
    "        \n",
    "t1 = Test()\n",
    "t2 = Test()\n",
    "t1.m1()\n",
    "print(t1.a , t1.b)\n",
    "print(t2.a , t2.b)"
   ]
  },
  {
   "cell_type": "code",
   "execution_count": 39,
   "metadata": {},
   "outputs": [
    {
     "name": "stdout",
     "output_type": "stream",
     "text": [
      "888 20\n",
      "888 20\n",
      "888 999\n"
     ]
    }
   ],
   "source": [
    "class Test:\n",
    "    a = 10\n",
    "    def __init__(self):\n",
    "        self.b = 20\n",
    "    \n",
    "    @classmethod\n",
    "    def m1(cls):\n",
    "        cls.a = 888\n",
    "        cls.b = 999\n",
    "        \n",
    "t1 = Test()\n",
    "t2 = Test()\n",
    "t1.m1()              \n",
    "print(t1.a , t1.b)\n",
    "print(t2.a , t2.b)        #888 20 because we called method m1 before printing t2\n",
    "print(Test.a , Test.b)"
   ]
  },
  {
   "cell_type": "code",
   "execution_count": 40,
   "metadata": {},
   "outputs": [
    {
     "name": "stdout",
     "output_type": "stream",
     "text": [
      "10 20\n"
     ]
    }
   ],
   "source": [
    "class Test:\n",
    "    a = 10\n",
    "    def __init__(self):\n",
    "        self.b = 20\n",
    "    \n",
    "    @classmethod\n",
    "    def m1(cls):\n",
    "        cls.a = 888\n",
    "        cls.b = 999\n",
    "        \n",
    "t1 = Test()\n",
    "t2 = Test()\n",
    "#t1.m1()\n",
    "#print(t1.a , t1.b)\n",
    "print(t2.a , t2.b)\n",
    "#print(Test.a , Test.b)"
   ]
  },
  {
   "cell_type": "code",
   "execution_count": 44,
   "metadata": {},
   "outputs": [
    {
     "name": "stdout",
     "output_type": "stream",
     "text": [
      "{'__module__': '__main__', 'a': 10, '__init__': <function Test.__init__ at 0x000001E5291D4840>, 'm1': <function Test.m1 at 0x000001E528843048>, 'm2': <classmethod object at 0x000001E5292859B0>, 'm3': <staticmethod object at 0x000001E529285AC8>, '__dict__': <attribute '__dict__' of 'Test' objects>, '__weakref__': <attribute '__weakref__' of 'Test' objects>, '__doc__': None}\n",
      "\n",
      "{'__module__': '__main__', '__init__': <function Test.__init__ at 0x000001E5291D4840>, 'm1': <function Test.m1 at 0x000001E528843048>, 'm2': <classmethod object at 0x000001E5292859B0>, 'm3': <staticmethod object at 0x000001E529285AC8>, '__dict__': <attribute '__dict__' of 'Test' objects>, '__weakref__': <attribute '__weakref__' of 'Test' objects>, '__doc__': None, 'c': 30}\n",
      "\n",
      "{'__module__': '__main__', '__init__': <function Test.__init__ at 0x000001E5291D4840>, 'm1': <function Test.m1 at 0x000001E528843048>, 'm2': <classmethod object at 0x000001E5292859B0>, 'm3': <staticmethod object at 0x000001E529285AC8>, '__dict__': <attribute '__dict__' of 'Test' objects>, '__weakref__': <attribute '__weakref__' of 'Test' objects>, '__doc__': None, 'd': 40}\n",
      "\n",
      "{'__module__': '__main__', '__init__': <function Test.__init__ at 0x000001E5291D4840>, 'm1': <function Test.m1 at 0x000001E528843048>, 'm2': <classmethod object at 0x000001E5292859B0>, 'm3': <staticmethod object at 0x000001E529285AC8>, '__dict__': <attribute '__dict__' of 'Test' objects>, '__weakref__': <attribute '__weakref__' of 'Test' objects>, '__doc__': None, 'd': 40}\n",
      "\n"
     ]
    }
   ],
   "source": [
    "class Test:\n",
    "    a = 10\n",
    "    def __init__(self):\n",
    "        Test.b = 20\n",
    "        del Test.a\n",
    "        \n",
    "    def m1(self):\n",
    "        Test.c = 30\n",
    "        del Test.b\n",
    "        \n",
    "    @classmethod\n",
    "    def m2(cls):\n",
    "        cls.d = 40\n",
    "        del Test.c\n",
    "        \n",
    "    @staticmethod\n",
    "    def m3():\n",
    "        Test.e = 5\n",
    "        del Test.d\n",
    "        \n",
    "print(Test.__dict__)\n",
    "print()\n",
    "t = Test()\n",
    "t.m1()\n",
    "print(Test.__dict__)\n",
    "print()\n",
    "t.m2()\n",
    "print(Test.__dict__)\n",
    "print()\n",
    "t.m3\n",
    "print(Test.__dict__)\n",
    "print()"
   ]
  },
  {
   "cell_type": "code",
   "execution_count": 48,
   "metadata": {},
   "outputs": [
    {
     "name": "stdout",
     "output_type": "stream",
     "text": [
      "10\n",
      "303\n",
      "999\n",
      "999\n"
     ]
    }
   ],
   "source": [
    "class Test:\n",
    "    a = 10\n",
    "    \n",
    "t = Test()\n",
    "print(t.a)\n",
    "t.a = 303\n",
    "print(t.a)\n",
    "Test.a = 999\n",
    "print(Test.a)\n",
    "del t.a\n",
    "print(Test.a)"
   ]
  },
  {
   "cell_type": "code",
   "execution_count": 50,
   "metadata": {},
   "outputs": [
    {
     "ename": "AttributeError",
     "evalue": "a",
     "output_type": "error",
     "traceback": [
      "\u001b[1;31m---------------------------------------------------------------------------\u001b[0m",
      "\u001b[1;31mAttributeError\u001b[0m                            Traceback (most recent call last)",
      "\u001b[1;32m<ipython-input-50-465e230a9c3d>\u001b[0m in \u001b[0;36m<module>\u001b[1;34m\u001b[0m\n\u001b[0;32m      4\u001b[0m \u001b[0mt\u001b[0m \u001b[1;33m=\u001b[0m \u001b[0mTest\u001b[0m\u001b[1;33m(\u001b[0m\u001b[1;33m)\u001b[0m\u001b[1;33m\u001b[0m\u001b[1;33m\u001b[0m\u001b[0m\n\u001b[0;32m      5\u001b[0m \u001b[1;31m#print(t.a)\u001b[0m\u001b[1;33m\u001b[0m\u001b[1;33m\u001b[0m\u001b[1;33m\u001b[0m\u001b[0m\n\u001b[1;32m----> 6\u001b[1;33m \u001b[1;32mdel\u001b[0m \u001b[0mt\u001b[0m\u001b[1;33m.\u001b[0m\u001b[0ma\u001b[0m\u001b[1;33m\u001b[0m\u001b[1;33m\u001b[0m\u001b[0m\n\u001b[0m\u001b[0;32m      7\u001b[0m \u001b[0mprint\u001b[0m\u001b[1;33m(\u001b[0m\u001b[0mt\u001b[0m\u001b[1;33m.\u001b[0m\u001b[0ma\u001b[0m\u001b[1;33m)\u001b[0m\u001b[1;33m\u001b[0m\u001b[1;33m\u001b[0m\u001b[0m\n",
      "\u001b[1;31mAttributeError\u001b[0m: a"
     ]
    }
   ],
   "source": [
    "class Test:\n",
    "    a = 10\n",
    "    \n",
    "t = Test()\n",
    "#print(t.a)\n",
    "del t.a\n",
    "print(t.a)"
   ]
  },
  {
   "cell_type": "code",
   "execution_count": 1,
   "metadata": {},
   "outputs": [
    {
     "name": "stdout",
     "output_type": "stream",
     "text": [
      "1000\n",
      "2000\n"
     ]
    }
   ],
   "source": [
    "#Local variables\n",
    "class Test:\n",
    "    def m1(self):\n",
    "        a = 1000\n",
    "        print(a)\n",
    "    def m2(self):\n",
    "        b = 2000\n",
    "        print(b)\n",
    "\n",
    "t = Test()\n",
    "t.m1()\n",
    "t.m2()"
   ]
  }
 ],
 "metadata": {
  "kernelspec": {
   "display_name": "Python 3",
   "language": "python",
   "name": "python3"
  },
  "language_info": {
   "codemirror_mode": {
    "name": "ipython",
    "version": 3
   },
   "file_extension": ".py",
   "mimetype": "text/x-python",
   "name": "python",
   "nbconvert_exporter": "python",
   "pygments_lexer": "ipython3",
   "version": "3.7.3"
  }
 },
 "nbformat": 4,
 "nbformat_minor": 2
}
