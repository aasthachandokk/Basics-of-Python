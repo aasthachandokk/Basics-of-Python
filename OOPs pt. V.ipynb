{
 "cells": [
  {
   "cell_type": "code",
   "execution_count": 1,
   "metadata": {},
   "outputs": [],
   "source": [
    "#super()\n",
    "#Which can be used to call parent class constructor, Methods and variables from the child class"
   ]
  },
  {
   "cell_type": "code",
   "execution_count": 2,
   "metadata": {},
   "outputs": [
    {
     "name": "stdout",
     "output_type": "stream",
     "text": [
      "Aastha\n",
      "20\n",
      "1\n",
      "98\n"
     ]
    }
   ],
   "source": [
    "class Person:\n",
    "    def __init__(self, name, age):\n",
    "        self.name = name\n",
    "        self.age = age\n",
    "        \n",
    "class Student(Person):\n",
    "    def __init__(self, name, age, rollno, marks):\n",
    "        self.name = name\n",
    "        self.age = age\n",
    "        self.rollno = rollno\n",
    "        self.marks = marks\n",
    "        \n",
    "    def display(self):\n",
    "        print(self.name)\n",
    "        print(self.age)\n",
    "        print(self.rollno)\n",
    "        print(self.marks)\n",
    "        \n",
    "s = Student('Aastha', 20, 1, 98)\n",
    "s.display()"
   ]
  },
  {
   "cell_type": "code",
   "execution_count": 4,
   "metadata": {},
   "outputs": [
    {
     "name": "stdout",
     "output_type": "stream",
     "text": [
      "Aastha\n",
      "20\n",
      "1\n",
      "98\n"
     ]
    }
   ],
   "source": [
    "class Person:\n",
    "    def __init__(self, name, age):\n",
    "        self.name = name\n",
    "        self.age = age\n",
    "        \n",
    "    def display(self):\n",
    "        print(self.name)\n",
    "        print(self.age)\n",
    "        \n",
    "class Student(Person):\n",
    "    def __init__(self, name, age, rollno, marks):\n",
    "        super().__init__(name, age)\n",
    "        self.rollno = rollno\n",
    "        self.marks = marks\n",
    "        \n",
    "    def display(self):\n",
    "        super().display()\n",
    "        print(self.rollno)\n",
    "        print(self.marks)\n",
    "        \n",
    "s = Student('Aastha', 20, 1, 98)\n",
    "s.display()"
   ]
  },
  {
   "cell_type": "code",
   "execution_count": 9,
   "metadata": {},
   "outputs": [
    {
     "name": "stdout",
     "output_type": "stream",
     "text": [
      "Aastha\n",
      "20\n",
      "1\n",
      "98\n"
     ]
    }
   ],
   "source": [
    "class Person:\n",
    "    def __init__(self, name, age):\n",
    "        self.name = name\n",
    "        self.age = age\n",
    "        \n",
    "    def display1(self):\n",
    "        print(self.name)\n",
    "        print(self.age)\n",
    "        \n",
    "class Student(Person):\n",
    "    def __init__(self, name, age, rollno, marks):\n",
    "        super().__init__(name, age)\n",
    "        self.rollno = rollno\n",
    "        self.marks = marks\n",
    "        \n",
    "    def display2(self):\n",
    "        super().display1()   #can use self too\n",
    "        print(self.rollno)\n",
    "        print(self.marks)\n",
    "        \n",
    "s = Student('Aastha', 20, 1, 98)\n",
    "s.display2()"
   ]
  },
  {
   "cell_type": "code",
   "execution_count": 12,
   "metadata": {},
   "outputs": [
    {
     "name": "stdout",
     "output_type": "stream",
     "text": [
      "100\n",
      "Parent instance method...\n",
      "Parent class method..\n",
      "Parent static method..\n"
     ]
    }
   ],
   "source": [
    "class P:\n",
    "    a = 100\n",
    "    def __init__(self):\n",
    "        self.b = 200\n",
    "        \n",
    "    def m1(self):\n",
    "        print('Parent instance method...')\n",
    "        \n",
    "    @classmethod\n",
    "    def m2(cls):\n",
    "        print('Parent class method..')\n",
    "        \n",
    "    @staticmethod\n",
    "    def m3():\n",
    "        print('Parent static method..')\n",
    "        \n",
    "class C(P):\n",
    "    a = 100000\n",
    "    def __init__(self):\n",
    "        self.b = 90909\n",
    "        super().__init__()\n",
    "        print(super().a)\n",
    "        super().m1()\n",
    "        super().m2()\n",
    "        super().m3()\n",
    "        \n",
    "c = C()"
   ]
  },
  {
   "cell_type": "code",
   "execution_count": 14,
   "metadata": {},
   "outputs": [
    {
     "name": "stdout",
     "output_type": "stream",
     "text": [
      "D class method...\n"
     ]
    }
   ],
   "source": [
    "#Multilevel case- \n",
    "# A -> B -> C\n",
    "\n",
    "class A:\n",
    "    def m1(self):\n",
    "        print('A class method...')\n",
    "        \n",
    "class B(A):\n",
    "    def m1(self):\n",
    "        print('B class method...')\n",
    "        \n",
    "class C(B):\n",
    "    def m1(self):\n",
    "        print('C class method...')\n",
    "        \n",
    "class D(C):\n",
    "    def m1(self):\n",
    "        print('D class method...')\n",
    "        \n",
    "class E(D):\n",
    "    def m1(self):\n",
    "        #print('E class method...')\n",
    "        super().m1()\n",
    "        \n",
    "e = E()\n",
    "e.m1()"
   ]
  },
  {
   "cell_type": "code",
   "execution_count": 16,
   "metadata": {},
   "outputs": [
    {
     "name": "stdout",
     "output_type": "stream",
     "text": [
      "B class method...\n"
     ]
    }
   ],
   "source": [
    "#Multilevel case- \n",
    "# A -> B -> C\n",
    "\n",
    "class A:\n",
    "    def m1(self):\n",
    "        print('A class method...')\n",
    "        \n",
    "class B(A):\n",
    "    def m1(self):\n",
    "        print('B class method...')\n",
    "        \n",
    "class C(B):\n",
    "    def m1(self):\n",
    "        print('C class method...')\n",
    "        \n",
    "class D(C):\n",
    "    def m1(self):\n",
    "        print('D class method...')\n",
    "        \n",
    "class E(D):\n",
    "    def m1(self):\n",
    "        #print('E class method...')\n",
    "        B.m1(self)                     #Can use class name\n",
    "        \n",
    "e = E()\n",
    "e.m1()"
   ]
  },
  {
   "cell_type": "code",
   "execution_count": 17,
   "metadata": {},
   "outputs": [
    {
     "name": "stdout",
     "output_type": "stream",
     "text": [
      "B class method...\n"
     ]
    }
   ],
   "source": [
    "#Multilevel case- \n",
    "# A -> B -> C\n",
    "\n",
    "class A:\n",
    "    def m1(self):\n",
    "        print('A class method...')\n",
    "        \n",
    "class B(A):\n",
    "    def m1(self):\n",
    "        print('B class method...')\n",
    "        \n",
    "class C(B):\n",
    "    def m1(self):\n",
    "        print('C class method...')\n",
    "        \n",
    "class D(C):\n",
    "    def m1(self):\n",
    "        print('D class method...')\n",
    "        \n",
    "class E(D):\n",
    "    def m1(self):\n",
    "        #print('E class method...')\n",
    "        super(C,self).m1()           #B is parent class of C\n",
    "        \n",
    "e = E()\n",
    "e.m1()"
   ]
  },
  {
   "cell_type": "code",
   "execution_count": 23,
   "metadata": {},
   "outputs": [
    {
     "name": "stdout",
     "output_type": "stream",
     "text": [
      "100\n",
      "20\n"
     ]
    }
   ],
   "source": [
    "class P:\n",
    "    a = 100\n",
    "    def __init__(self):\n",
    "        self.b = 20\n",
    "        \n",
    "class C(P):\n",
    "    def m1(self):\n",
    "        print(super().a)\n",
    "        print(self.b)\n",
    "        \n",
    "c = C()\n",
    "c.m1()"
   ]
  },
  {
   "cell_type": "code",
   "execution_count": 27,
   "metadata": {},
   "outputs": [
    {
     "name": "stdout",
     "output_type": "stream",
     "text": [
      "200\n"
     ]
    }
   ],
   "source": [
    "class P:\n",
    "    a = 100\n",
    "    def __init__(self):\n",
    "        self.b = 200\n",
    "        \n",
    "class C(P):\n",
    "    def m1(self):\n",
    "        self.b = 2000\n",
    "        super().__init__()\n",
    "        print(self.b)\n",
    "        \n",
    "c = C()\n",
    "c.m1()"
   ]
  },
  {
   "cell_type": "code",
   "execution_count": 29,
   "metadata": {},
   "outputs": [
    {
     "name": "stdout",
     "output_type": "stream",
     "text": [
      "2000\n"
     ]
    }
   ],
   "source": [
    "class P:\n",
    "    a = 100\n",
    "    def __init__(self):\n",
    "        self.b = 200\n",
    "        \n",
    "class C(P):\n",
    "    def m1(self):\n",
    "        super().__init__()\n",
    "        self.b = 2000\n",
    "        print(self.b)\n",
    "        \n",
    "c = C()\n",
    "c.m1()"
   ]
  }
 ],
 "metadata": {
  "kernelspec": {
   "display_name": "Python 3",
   "language": "python",
   "name": "python3"
  },
  "language_info": {
   "codemirror_mode": {
    "name": "ipython",
    "version": 3
   },
   "file_extension": ".py",
   "mimetype": "text/x-python",
   "name": "python",
   "nbconvert_exporter": "python",
   "pygments_lexer": "ipython3",
   "version": "3.7.3"
  }
 },
 "nbformat": 4,
 "nbformat_minor": 2
}
