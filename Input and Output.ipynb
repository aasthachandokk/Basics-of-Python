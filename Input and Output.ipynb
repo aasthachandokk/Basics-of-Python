{
 "cells": [
  {
   "cell_type": "code",
   "execution_count": 3,
   "metadata": {},
   "outputs": [
    {
     "name": "stdout",
     "output_type": "stream",
     "text": [
      "Enter your age:20\n",
      "20\n"
     ]
    }
   ],
   "source": [
    "a=input('Enter your age:')\n",
    "print(a)"
   ]
  },
  {
   "cell_type": "code",
   "execution_count": 4,
   "metadata": {},
   "outputs": [
    {
     "data": {
      "text/plain": [
       "str"
      ]
     },
     "execution_count": 4,
     "metadata": {},
     "output_type": "execute_result"
    }
   ],
   "source": [
    "type(a)"
   ]
  },
  {
   "cell_type": "code",
   "execution_count": 5,
   "metadata": {},
   "outputs": [
    {
     "name": "stdout",
     "output_type": "stream",
     "text": [
      "Enter some number:23\n"
     ]
    }
   ],
   "source": [
    "#Python 2\n",
    "#int(raw_input('Enter some number:'))\n",
    "#input('Enter some number')\n",
    "#Python 3\n",
    "a=int(input('Enter some number:'))"
   ]
  },
  {
   "cell_type": "code",
   "execution_count": 7,
   "metadata": {},
   "outputs": [
    {
     "data": {
      "text/plain": [
       "int"
      ]
     },
     "execution_count": 7,
     "metadata": {},
     "output_type": "execute_result"
    }
   ],
   "source": [
    "type(23)"
   ]
  },
  {
   "cell_type": "code",
   "execution_count": 8,
   "metadata": {},
   "outputs": [
    {
     "name": "stdout",
     "output_type": "stream",
     "text": [
      "Enter first number:23\n",
      "Enter second number:24\n",
      "The sum is: 47\n"
     ]
    }
   ],
   "source": [
    "#program to print sum\n",
    "x = input('Enter first number:')\n",
    "y = input('Enter second number:')\n",
    "i = int(x)\n",
    "j = int(y)\n",
    "print('The sum is:', i+j)"
   ]
  },
  {
   "cell_type": "code",
   "execution_count": 9,
   "metadata": {},
   "outputs": [
    {
     "name": "stdout",
     "output_type": "stream",
     "text": [
      "Enter first number:12\n",
      "Enter second number:20\n",
      "The sum is: 32\n"
     ]
    }
   ],
   "source": [
    "#reducing the number of lines from above code\n",
    "x = int(input('Enter first number:'))\n",
    "y = int(input('Enter second number:'))\n",
    "print('The sum is:',x+y)"
   ]
  },
  {
   "cell_type": "code",
   "execution_count": 11,
   "metadata": {},
   "outputs": [
    {
     "name": "stdout",
     "output_type": "stream",
     "text": [
      "Enter first number:12\n",
      "Enter second number:23\n",
      "The sum is: 35\n"
     ]
    }
   ],
   "source": [
    "#reducing the above code to one line\n",
    "print('The sum is:',int(input('Enter first number:'))+int(input('Enter second number:')))"
   ]
  },
  {
   "cell_type": "code",
   "execution_count": 3,
   "metadata": {},
   "outputs": [
    {
     "name": "stdout",
     "output_type": "stream",
     "text": [
      "Enter the employee number:2\n",
      "Enter the employee name:Ash\n",
      "Enter the employee address:Nagpur\n",
      "Enter your salary:40000\n",
      "Enter marital status: [True|False]False\n",
      "Please confirm your information\n",
      "Your employee number is: 2\n",
      "Your Name as per our records is: Ash\n",
      "Your address is: Nagpur\n",
      "Your salary is : 40000.0\n",
      "Your marital status is False\n"
     ]
    }
   ],
   "source": [
    "#Write a program where read the employee data from the keyboard\n",
    "#Eno\n",
    "#Ename\n",
    "#Esal\n",
    "#EAdder\n",
    "#Married\n",
    "eno = int(input('Enter the employee number:'))\n",
    "ename = input('Enter the employee name:')\n",
    "eadder = input('Enter the employee address:')\n",
    "esal = float(input('Enter your salary:'))\n",
    "emar = bool(input('Enter marital status: [True|False]'))\n",
    "print('Please confirm your information')\n",
    "print('Your employee number is:', eno)\n",
    "print('Your Name as per our records is:', ename)\n",
    "print('Your address is:', eadder)\n",
    "print('Your salary is :', esal)\n",
    "if emar=='True':\n",
    "    print('Your marital status is True')\n",
    "else:\n",
    "    print('Your marital status is False')"
   ]
  },
  {
   "cell_type": "code",
   "execution_count": 4,
   "metadata": {},
   "outputs": [
    {
     "name": "stdout",
     "output_type": "stream",
     "text": [
      "Enter 5 numbers:23 44 55 66 77\n"
     ]
    }
   ],
   "source": [
    "#How to read multiple values from the keyboard in a single line:\n",
    "a=input('Enter 5 numbers:')"
   ]
  },
  {
   "cell_type": "code",
   "execution_count": 5,
   "metadata": {},
   "outputs": [
    {
     "data": {
      "text/plain": [
       "str"
      ]
     },
     "execution_count": 5,
     "metadata": {},
     "output_type": "execute_result"
    }
   ],
   "source": [
    "type(a)"
   ]
  },
  {
   "cell_type": "code",
   "execution_count": 6,
   "metadata": {},
   "outputs": [
    {
     "name": "stdout",
     "output_type": "stream",
     "text": [
      "Enter 5 numbers:22 33 44 55 66\n"
     ]
    },
    {
     "data": {
      "text/plain": [
       "['22', '33', '44', '55', '66']"
      ]
     },
     "execution_count": 6,
     "metadata": {},
     "output_type": "execute_result"
    }
   ],
   "source": [
    "input('Enter 5 numbers:').split()    #split() method returns a list of strings after breaking the given string by the specified separator."
   ]
  },
  {
   "cell_type": "code",
   "execution_count": 8,
   "metadata": {},
   "outputs": [
    {
     "name": "stdout",
     "output_type": "stream",
     "text": [
      "Enter 5 numbers: 22,33,44,55,66\n"
     ]
    },
    {
     "data": {
      "text/plain": [
       "['22', '33', '44', '55', '66']"
      ]
     },
     "execution_count": 8,
     "metadata": {},
     "output_type": "execute_result"
    }
   ],
   "source": [
    "input('Enter 5 numbers: ').split(',')"
   ]
  },
  {
   "cell_type": "code",
   "execution_count": 9,
   "metadata": {},
   "outputs": [
    {
     "name": "stdout",
     "output_type": "stream",
     "text": [
      "Enter 5 numbers:1:2:3:4:5\n"
     ]
    },
    {
     "data": {
      "text/plain": [
       "['1', '2', '3', '4', '5']"
      ]
     },
     "execution_count": 9,
     "metadata": {},
     "output_type": "execute_result"
    }
   ],
   "source": [
    "input('Enter 5 numbers:').split(':')"
   ]
  },
  {
   "cell_type": "code",
   "execution_count": 10,
   "metadata": {},
   "outputs": [
    {
     "name": "stdout",
     "output_type": "stream",
     "text": [
      "Enter 5 numbers: 1:2:3:4:5\n"
     ]
    },
    {
     "ename": "TypeError",
     "evalue": "int() argument must be a string, a bytes-like object or a number, not 'list'",
     "output_type": "error",
     "traceback": [
      "\u001b[1;31m---------------------------------------------------------------------------\u001b[0m",
      "\u001b[1;31mTypeError\u001b[0m                                 Traceback (most recent call last)",
      "\u001b[1;32m<ipython-input-10-8c65a8ff6787>\u001b[0m in \u001b[0;36m<module>\u001b[1;34m\u001b[0m\n\u001b[0;32m      1\u001b[0m \u001b[1;31m#invalid way to convert numbers in list to integer format\u001b[0m\u001b[1;33m\u001b[0m\u001b[1;33m\u001b[0m\u001b[1;33m\u001b[0m\u001b[0m\n\u001b[1;32m----> 2\u001b[1;33m \u001b[0mint\u001b[0m\u001b[1;33m(\u001b[0m\u001b[0minput\u001b[0m\u001b[1;33m(\u001b[0m\u001b[1;34m'Enter 5 numbers: '\u001b[0m\u001b[1;33m)\u001b[0m\u001b[1;33m.\u001b[0m\u001b[0msplit\u001b[0m\u001b[1;33m(\u001b[0m\u001b[1;34m':'\u001b[0m\u001b[1;33m)\u001b[0m\u001b[1;33m)\u001b[0m\u001b[1;33m\u001b[0m\u001b[1;33m\u001b[0m\u001b[0m\n\u001b[0m",
      "\u001b[1;31mTypeError\u001b[0m: int() argument must be a string, a bytes-like object or a number, not 'list'"
     ]
    }
   ],
   "source": [
    "#invalid way to convert numbers in list to integer format\n",
    "int(input('Enter 5 numbers: ').split(':'))"
   ]
  },
  {
   "cell_type": "code",
   "execution_count": 11,
   "metadata": {},
   "outputs": [
    {
     "name": "stdout",
     "output_type": "stream",
     "text": [
      "Enter 5 numbers:1,2,3,4,5\n"
     ]
    }
   ],
   "source": [
    "a = [int(x) for x in input('Enter 5 numbers:').split(',')]"
   ]
  },
  {
   "cell_type": "code",
   "execution_count": 12,
   "metadata": {},
   "outputs": [
    {
     "name": "stdout",
     "output_type": "stream",
     "text": [
      "Enter 5 numbers:1,2,3,4,5\n",
      "The sum is: 15\n"
     ]
    }
   ],
   "source": [
    "a,b,c,d,e = [int(x) for x in input('Enter 5 numbers:').split(',')]\n",
    "print('The sum is:',a+b+c+d+e)"
   ]
  },
  {
   "cell_type": "code",
   "execution_count": 1,
   "metadata": {},
   "outputs": [
    {
     "name": "stdout",
     "output_type": "stream",
     "text": [
      "Enter 5 numbers:1,2,3,4,5\n",
      "The sum is: 15.0\n"
     ]
    }
   ],
   "source": [
    "a,b,c,d,e = [float(x) for x in input('Enter 5 numbers:').split(',')]\n",
    "print('The sum is:',a+b+c+d+e)"
   ]
  },
  {
   "cell_type": "code",
   "execution_count": 4,
   "metadata": {},
   "outputs": [
    {
     "data": {
      "text/plain": [
       "60"
      ]
     },
     "execution_count": 4,
     "metadata": {},
     "output_type": "execute_result"
    }
   ],
   "source": [
    "#Internally check the type of the data and prints, takes strings as arguement only\n",
    "x = eval('10+20+30')\n",
    "x"
   ]
  },
  {
   "cell_type": "code",
   "execution_count": 12,
   "metadata": {},
   "outputs": [
    {
     "name": "stdout",
     "output_type": "stream",
     "text": [
      "Enter some list:1,2,3,4,5\n"
     ]
    },
    {
     "data": {
      "text/plain": [
       "tuple"
      ]
     },
     "execution_count": 12,
     "metadata": {},
     "output_type": "execute_result"
    }
   ],
   "source": [
    "#eval recognises input list as a tuple by default\n",
    "x = eval(input('Enter some list:'))\n",
    "type(x)"
   ]
  },
  {
   "cell_type": "code",
   "execution_count": 13,
   "metadata": {},
   "outputs": [
    {
     "name": "stdout",
     "output_type": "stream",
     "text": [
      "Enter some list:1,2,3,4,5\n"
     ]
    },
    {
     "data": {
      "text/plain": [
       "str"
      ]
     },
     "execution_count": 13,
     "metadata": {},
     "output_type": "execute_result"
    }
   ],
   "source": [
    "x=input('Enter some list:')\n",
    "type(x)"
   ]
  },
  {
   "cell_type": "code",
   "execution_count": 11,
   "metadata": {},
   "outputs": [
    {
     "name": "stdout",
     "output_type": "stream",
     "text": [
      "Enter some list:[1,2,3,4,5]\n"
     ]
    },
    {
     "data": {
      "text/plain": [
       "list"
      ]
     },
     "execution_count": 11,
     "metadata": {},
     "output_type": "execute_result"
    }
   ],
   "source": [
    "#to take input as list by eval \n",
    "x = eval(input('Enter some list:'))\n",
    "type(x)"
   ]
  },
  {
   "cell_type": "code",
   "execution_count": 14,
   "metadata": {},
   "outputs": [
    {
     "name": "stdout",
     "output_type": "stream",
     "text": [
      "Enter some list:[1,2,3,4,5]\n",
      "1\n",
      "2\n",
      "3\n",
      "4\n",
      "5\n"
     ]
    }
   ],
   "source": [
    "#to print values in list\n",
    "x = eval(input('Enter some list:'))\n",
    "for x1 in x:\n",
    "    print(x1)"
   ]
  },
  {
   "cell_type": "code",
   "execution_count": 16,
   "metadata": {},
   "outputs": [
    {
     "name": "stdout",
     "output_type": "stream",
     "text": [
      "Enter some data1,Aastha,True,120.4\n"
     ]
    },
    {
     "data": {
      "text/plain": [
       "['1', 'Aastha', 'True', '120.4']"
      ]
     },
     "execution_count": 16,
     "metadata": {},
     "output_type": "execute_result"
    }
   ],
   "source": [
    "input('Enter some data').split(',')"
   ]
  },
  {
   "cell_type": "code",
   "execution_count": 18,
   "metadata": {},
   "outputs": [
    {
     "name": "stdout",
     "output_type": "stream",
     "text": [
      "Enter some data:1,'Aastha',True,120.4\n",
      "<class 'int'>\n",
      "<class 'str'>\n",
      "<class 'bool'>\n",
      "<class 'float'>\n"
     ]
    }
   ],
   "source": [
    "a,b,c,d = [eval(x) for x in input('Enter some data:').split(',')]\n",
    "print(type(a))\n",
    "print(type(b))\n",
    "print(type(c))\n",
    "print(type(d))"
   ]
  },
  {
   "cell_type": "code",
   "execution_count": 22,
   "metadata": {},
   "outputs": [
    {
     "name": "stdout",
     "output_type": "stream",
     "text": [
      "Enter some data1if2if3if4\n",
      "<class 'int'>\n",
      "<class 'int'>\n",
      "<class 'int'>\n",
      "<class 'int'>\n"
     ]
    }
   ],
   "source": [
    "a,b,c,d = [eval(x) for x in input('Enter some data').split('if')]\n",
    "print(type(a))\n",
    "print(type(b))\n",
    "print(type(c))\n",
    "print(type(d))"
   ]
  },
  {
   "cell_type": "code",
   "execution_count": 23,
   "metadata": {},
   "outputs": [
    {
     "name": "stdout",
     "output_type": "stream",
     "text": [
      "Enter some data15'aastha'5True512.4\n",
      "<class 'int'>\n",
      "<class 'str'>\n",
      "<class 'bool'>\n",
      "<class 'float'>\n"
     ]
    }
   ],
   "source": [
    "a,b,c,d = [eval(x) for x in input('Enter some data').split('5')]\n",
    "print(type(a))\n",
    "print(type(b))\n",
    "print(type(c))\n",
    "print(type(d))"
   ]
  },
  {
   "cell_type": "code",
   "execution_count": 24,
   "metadata": {},
   "outputs": [],
   "source": [
    "list1 = [12,23,22,33,45]"
   ]
  },
  {
   "cell_type": "code",
   "execution_count": 27,
   "metadata": {},
   "outputs": [
    {
     "data": {
      "text/plain": [
       "123"
      ]
     },
     "execution_count": 27,
     "metadata": {},
     "output_type": "execute_result"
    }
   ],
   "source": [
    "sum(list1[1:])"
   ]
  },
  {
   "cell_type": "code",
   "execution_count": 28,
   "metadata": {},
   "outputs": [
    {
     "name": "stdout",
     "output_type": "stream",
     "text": [
      "Hello\n",
      "\n",
      "Good Evening\n",
      "\n",
      "How are you?\n"
     ]
    }
   ],
   "source": [
    "#Output statements\n",
    "#print() - Function\n",
    "#print() - without arguements we will get a new line\n",
    "print('Hello')\n",
    "print()\n",
    "print('Good Evening')\n",
    "print()\n",
    "print('How are you?')"
   ]
  },
  {
   "cell_type": "code",
   "execution_count": 29,
   "metadata": {},
   "outputs": [
    {
     "name": "stdout",
     "output_type": "stream",
     "text": [
      "Hello all\n",
      "Hello\n",
      "all\n",
      "Hello \t all\n"
     ]
    }
   ],
   "source": [
    "#Form 2 \n",
    "print('Hello all')\n",
    "print('Hello\\nall') #We can use escape character in print\n",
    "print('Hello \\t all')"
   ]
  },
  {
   "cell_type": "code",
   "execution_count": 31,
   "metadata": {},
   "outputs": [
    {
     "name": "stdout",
     "output_type": "stream",
     "text": [
      "Aastha Chandok\n"
     ]
    }
   ],
   "source": [
    "print('Aastha'+' '+'Chandok')"
   ]
  },
  {
   "cell_type": "code",
   "execution_count": 32,
   "metadata": {},
   "outputs": [
    {
     "name": "stdout",
     "output_type": "stream",
     "text": [
      "AasthaAasthaAastha\n"
     ]
    }
   ],
   "source": [
    "print('Aastha'*3)"
   ]
  },
  {
   "cell_type": "code",
   "execution_count": 33,
   "metadata": {},
   "outputs": [
    {
     "ename": "TypeError",
     "evalue": "can't multiply sequence by non-int of type 'str'",
     "output_type": "error",
     "traceback": [
      "\u001b[1;31m---------------------------------------------------------------------------\u001b[0m",
      "\u001b[1;31mTypeError\u001b[0m                                 Traceback (most recent call last)",
      "\u001b[1;32m<ipython-input-33-b14e97cae4f7>\u001b[0m in \u001b[0;36m<module>\u001b[1;34m\u001b[0m\n\u001b[1;32m----> 1\u001b[1;33m \u001b[0mprint\u001b[0m\u001b[1;33m(\u001b[0m\u001b[1;34m'Aastha'\u001b[0m\u001b[1;33m*\u001b[0m\u001b[1;34m'Chandok'\u001b[0m\u001b[1;33m)\u001b[0m\u001b[1;33m\u001b[0m\u001b[1;33m\u001b[0m\u001b[0m\n\u001b[0m",
      "\u001b[1;31mTypeError\u001b[0m: can't multiply sequence by non-int of type 'str'"
     ]
    }
   ],
   "source": [
    "print('Aastha'*'Chandok')"
   ]
  },
  {
   "cell_type": "code",
   "execution_count": 34,
   "metadata": {},
   "outputs": [
    {
     "name": "stdout",
     "output_type": "stream",
     "text": [
      "Aastha Chandok\n"
     ]
    }
   ],
   "source": [
    "print('Aastha','Chandok')"
   ]
  },
  {
   "cell_type": "code",
   "execution_count": 35,
   "metadata": {},
   "outputs": [
    {
     "name": "stdout",
     "output_type": "stream",
     "text": [
      "The values are:  10 20 30\n"
     ]
    }
   ],
   "source": [
    "#Form 3\n",
    "#print() with multiple variables or arguments\n",
    "a,b,c = 10,20,30\n",
    "print('The values are: ' , a,b,c)"
   ]
  },
  {
   "cell_type": "code",
   "execution_count": 36,
   "metadata": {},
   "outputs": [
    {
     "name": "stdout",
     "output_type": "stream",
     "text": [
      "The values are:  10 , 20 , 30\n"
     ]
    }
   ],
   "source": [
    "#comma separating output\n",
    "a,b,c = 10,20,30\n",
    "print('The values are: ' , a,',',b,',',c)"
   ]
  },
  {
   "cell_type": "code",
   "execution_count": 1,
   "metadata": {},
   "outputs": [
    {
     "name": "stdout",
     "output_type": "stream",
     "text": [
      "10 20 30\n",
      "10,20,30\n",
      "10:20:30\n",
      "10520530\n",
      "10 20 30\n"
     ]
    }
   ],
   "source": [
    "a,b,c=10,20,30\n",
    "print(a,b,c)\n",
    "print(a,b,c,sep=',')\n",
    "print(a,b,c,sep=':')\n",
    "print(a,b,c,sep='5')\n",
    "print(a,b,c,sep=None)\n",
    "#The defaulf value of sep is space"
   ]
  },
  {
   "cell_type": "code",
   "execution_count": 2,
   "metadata": {},
   "outputs": [
    {
     "name": "stdout",
     "output_type": "stream",
     "text": [
      "Hello\n",
      "Everyone\n",
      "To learn Python\n",
      "You have to practice\n"
     ]
    }
   ],
   "source": [
    "print('Hello')\n",
    "print('Everyone')\n",
    "print('To learn Python')\n",
    "print('You have to practice')\n",
    "#The default value of end is new line"
   ]
  },
  {
   "cell_type": "code",
   "execution_count": 3,
   "metadata": {},
   "outputs": [
    {
     "name": "stdout",
     "output_type": "stream",
     "text": [
      "Hello Everyone To learn Python You have to practice\n"
     ]
    }
   ],
   "source": [
    "print('Hello','Everyone','To learn Python', 'You have to practice')"
   ]
  },
  {
   "cell_type": "code",
   "execution_count": 4,
   "metadata": {},
   "outputs": [
    {
     "name": "stdout",
     "output_type": "stream",
     "text": [
      "Hello Students To learn Python You have to practice "
     ]
    }
   ],
   "source": [
    "print('Hello', end=' ')\n",
    "print('Students', end=' ')\n",
    "print('To learn Python', end=' ')\n",
    "print('You have to practice', end=' ')"
   ]
  },
  {
   "cell_type": "code",
   "execution_count": 5,
   "metadata": {},
   "outputs": [
    {
     "name": "stdout",
     "output_type": "stream",
     "text": [
      "10-20-30-40-50----"
     ]
    }
   ],
   "source": [
    "print(10,20,30,40,50, sep='-', end='----')"
   ]
  },
  {
   "cell_type": "code",
   "execution_count": 6,
   "metadata": {},
   "outputs": [
    {
     "name": "stdout",
     "output_type": "stream",
     "text": [
      "[10, 20, 30, 40]\n",
      "(10, 20, 30, 40)\n",
      "{40, 10, 20, 30}\n"
     ]
    }
   ],
   "source": [
    "list1 = [10,20,30,40]\n",
    "tuple1 = (10,20,30,40)\n",
    "set1 ={10,20,30,40}\n",
    "print(list1)\n",
    "print(tuple1)\n",
    "print(set1)"
   ]
  },
  {
   "cell_type": "code",
   "execution_count": 7,
   "metadata": {},
   "outputs": [
    {
     "name": "stdout",
     "output_type": "stream",
     "text": [
      "[10, 20, 30, 40] (10, 20, 30, 40) {40, 10, 20, 30} "
     ]
    }
   ],
   "source": [
    "print(list1,end=' ')\n",
    "print(tuple1,end=' ')\n",
    "print(set1, end=' ')"
   ]
  },
  {
   "cell_type": "code",
   "execution_count": 8,
   "metadata": {},
   "outputs": [
    {
     "name": "stdout",
     "output_type": "stream",
     "text": [
      "[10, 20, 30, 40]\n",
      "(10, 20, 30, 40)\n",
      "{40, 10, 20, 30}\n"
     ]
    }
   ],
   "source": [
    "print(list1, sep = '+' )\n",
    "print(tuple1, sep = '+' )\n",
    "print(set1, sep = '+' )"
   ]
  },
  {
   "cell_type": "code",
   "execution_count": 9,
   "metadata": {},
   "outputs": [
    {
     "name": "stdout",
     "output_type": "stream",
     "text": [
      "[10, 20, 30, 40]----(10, 20, 30, 40)++++{40, 10, 20, 30} "
     ]
    }
   ],
   "source": [
    "print(list1, end = '----' )\n",
    "print(tuple1, end = '++++' )\n",
    "print(set1, end = ' ' )"
   ]
  },
  {
   "cell_type": "code",
   "execution_count": 10,
   "metadata": {},
   "outputs": [
    {
     "name": "stdout",
     "output_type": "stream",
     "text": [
      "[10, 20, 30, 40] (10, 20, 30, 40) {40, 10, 20, 30}\n"
     ]
    }
   ],
   "source": [
    "print(list1,tuple1,set1)"
   ]
  },
  {
   "cell_type": "code",
   "execution_count": 11,
   "metadata": {},
   "outputs": [
    {
     "name": "stdout",
     "output_type": "stream",
     "text": [
      "a's value is 10\n",
      "a's value is 10.500000\n"
     ]
    }
   ],
   "source": [
    "#print {formatted output}\n",
    "a,b,c=10.5,20,30\n",
    "print('a\\'s value is %i' %a)\n",
    "print('a\\'s value is %f' %a)\n",
    "# %i %d - int\n",
    "# %f - -float\n",
    "# %s - str"
   ]
  },
  {
   "cell_type": "code",
   "execution_count": 13,
   "metadata": {},
   "outputs": [
    {
     "name": "stdout",
     "output_type": "stream",
     "text": [
      "Value of a is 10\n",
      "Value of a is 10 and value of b is 20\n",
      "Value of a is 10 and value of b is 20 and value of c is 30.000000\n",
      "Value of a is 20 and value of b is 10 and value of c is 30.000000\n",
      "Value of a is 10 and value of b is 20 and value of c is 30.000000\n"
     ]
    }
   ],
   "source": [
    "a,b,c = 10,20,30\n",
    "print('Value of a is %i' %a)\n",
    "print('Value of a is %i and value of b is %i' %(a,b))\n",
    "print('Value of a is %i and value of b is %i and value of c is %f' %(a,b,c))\n",
    "print('Value of a is %i and value of b is %i and value of c is %f' %(b,a,c))\n",
    "print('Value of a is %s and value of b is %i and value of c is %f' %(a,b,c))"
   ]
  },
  {
   "cell_type": "code",
   "execution_count": 14,
   "metadata": {},
   "outputs": [
    {
     "name": "stdout",
     "output_type": "stream",
     "text": [
      "Heyyy Aastha your list is [1, 2, 3, 4, 5]\n"
     ]
    }
   ],
   "source": [
    "name = 'Aastha'\n",
    "l = [1,2,3,4,5]\n",
    "print('Heyyy %s your list is %s' %(name,l))"
   ]
  },
  {
   "cell_type": "code",
   "execution_count": 15,
   "metadata": {},
   "outputs": [
    {
     "name": "stdout",
     "output_type": "stream",
     "text": [
      "Heyyy Aastha your bill is 2000\n"
     ]
    }
   ],
   "source": [
    "#Replacement operators\n",
    "name='Aastha'\n",
    "bill=2000\n",
    "print('Heyyy {} your bill is {}'.format(name,bill))"
   ]
  },
  {
   "cell_type": "code",
   "execution_count": 16,
   "metadata": {},
   "outputs": [
    {
     "name": "stdout",
     "output_type": "stream",
     "text": [
      "Heyyy Aastha your bill is 2000\n"
     ]
    }
   ],
   "source": [
    "name='Aastha'\n",
    "bill=2000\n",
    "print('Heyyy {nam} your bill is {b}'.format(nam=name,b=bill))"
   ]
  }
 ],
 "metadata": {
  "kernelspec": {
   "display_name": "Python 3",
   "language": "python",
   "name": "python3"
  },
  "language_info": {
   "codemirror_mode": {
    "name": "ipython",
    "version": 3
   },
   "file_extension": ".py",
   "mimetype": "text/x-python",
   "name": "python",
   "nbconvert_exporter": "python",
   "pygments_lexer": "ipython3",
   "version": "3.7.3"
  }
 },
 "nbformat": 4,
 "nbformat_minor": 2
}
