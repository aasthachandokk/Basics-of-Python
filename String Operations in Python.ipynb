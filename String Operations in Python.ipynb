{
 "cells": [
  {
   "cell_type": "code",
   "execution_count": 3,
   "metadata": {},
   "outputs": [
    {
     "name": "stdout",
     "output_type": "stream",
     "text": [
      "Enter your city name:Pune\n",
      "Your city is available\n"
     ]
    }
   ],
   "source": [
    "#Program checking your city is available or not\n",
    "#Avaialable case\n",
    "city = input('Enter your city name:')\n",
    "list = ['Mumbai','Pune','Nagpur']\n",
    "if city in list:\n",
    "    print('Your city is available')\n",
    "else:\n",
    "    print('Your city',city,'is not available')"
   ]
  },
  {
   "cell_type": "code",
   "execution_count": 4,
   "metadata": {},
   "outputs": [
    {
     "name": "stdout",
     "output_type": "stream",
     "text": [
      "Enter your city name:Delhi\n",
      "Your city Delhi is not available\n"
     ]
    }
   ],
   "source": [
    "#Unavaialable case\n",
    "city = input('Enter your city name:')\n",
    "list = ['Mumbai','Pune','Nagpur']\n",
    "if city in list:\n",
    "    print('Your city is available')\n",
    "else:\n",
    "    print('Your city',city,'is not available')"
   ]
  },
  {
   "cell_type": "code",
   "execution_count": 5,
   "metadata": {},
   "outputs": [
    {
     "name": "stdout",
     "output_type": "stream",
     "text": [
      "Enter your city name:mumbai\n",
      "Your city mumbai is not available\n"
     ]
    }
   ],
   "source": [
    "#Case of letter matters\n",
    "city = input('Enter your city name:')\n",
    "list = ['Mumbai','Pune','Nagpur']\n",
    "if city in list:\n",
    "    print('Your city is available')\n",
    "else:\n",
    "    print('Your city',city,'is not available')"
   ]
  },
  {
   "cell_type": "code",
   "execution_count": 7,
   "metadata": {},
   "outputs": [
    {
     "name": "stdout",
     "output_type": "stream",
     "text": [
      "Enter your city name:  Mumbai\n",
      "Your city   Mumbai is not available\n"
     ]
    }
   ],
   "source": [
    "#In case of space in addition with input\n",
    "city = input('Enter your city name:')\n",
    "list = ['Mumbai','Pune','Nagpur']\n",
    "if city in list:\n",
    "    print('Your city is available')\n",
    "else:\n",
    "    print('Your city',city,'is not available')"
   ]
  },
  {
   "cell_type": "code",
   "execution_count": 8,
   "metadata": {},
   "outputs": [
    {
     "name": "stdout",
     "output_type": "stream",
     "text": [
      "Enter your city name:  Mumbai\n",
      "Your city is available\n"
     ]
    }
   ],
   "source": [
    "#strip() function strips the spaces\n",
    "city = input('Enter your city name:')\n",
    "list = ['Mumbai','Pune','Nagpur']\n",
    "if city.strip() in list:\n",
    "    print('Your city is available')\n",
    "else:\n",
    "    print('Your city',city,'is not available')"
   ]
  },
  {
   "cell_type": "code",
   "execution_count": 9,
   "metadata": {},
   "outputs": [
    {
     "name": "stdout",
     "output_type": "stream",
     "text": [
      "Enter your city name    Pune\n",
      "Your city is available\n"
     ]
    }
   ],
   "source": [
    "#lstrip() function strips the left spaces\n",
    "city = input('Enter your city name')\n",
    "list = ['Mumbai', 'Pune','Nagpur']\n",
    "if city.lstrip() in list:\n",
    "    print('Your city is available')\n",
    "else:\n",
    "    print('Your city', city, 'is not avaiable')"
   ]
  },
  {
   "cell_type": "code",
   "execution_count": 11,
   "metadata": {},
   "outputs": [
    {
     "name": "stdout",
     "output_type": "stream",
     "text": [
      "Enter your city name:Nagpur  \n",
      "Your city is available\n"
     ]
    }
   ],
   "source": [
    "#rstrip() function strips the right spaces\n",
    "city = input('Enter your city name:')\n",
    "list = ['Mumbai', 'Pune','Nagpur']\n",
    "if city.rstrip() in list:\n",
    "    print('Your city is available')\n",
    "else:\n",
    "    print('Your city', city, 'is not avaiable')"
   ]
  },
  {
   "cell_type": "code",
   "execution_count": 12,
   "metadata": {},
   "outputs": [],
   "source": [
    "#Substring present or not\n",
    "#find()\n",
    "#Return the index of 1st match only (from left to right)\n",
    "#s.find(substring,start,end)\n",
    "#If the value is not present it will return -1 (It is not reverse index)"
   ]
  },
  {
   "cell_type": "code",
   "execution_count": 13,
   "metadata": {},
   "outputs": [
    {
     "name": "stdout",
     "output_type": "stream",
     "text": [
      "-1\n",
      "6\n"
     ]
    }
   ],
   "source": [
    "s='AasthaChandokAasthaChandok'\n",
    "print(s.find('Sharma'))\n",
    "print(s.find('Chandok',6,22))"
   ]
  },
  {
   "cell_type": "code",
   "execution_count": 15,
   "metadata": {},
   "outputs": [
    {
     "name": "stdout",
     "output_type": "stream",
     "text": [
      "19\n"
     ]
    }
   ],
   "source": [
    "#rfind()- used for reverse direction\n",
    "s='AasthaChandokAasthaChandok'\n",
    "print(s.rfind('Chandok'))"
   ]
  },
  {
   "cell_type": "code",
   "execution_count": 16,
   "metadata": {},
   "outputs": [
    {
     "name": "stdout",
     "output_type": "stream",
     "text": [
      "19\n"
     ]
    }
   ],
   "source": [
    "#index() - to find index of a letter\n",
    "s='AasthaChandokAasthaChandok'\n",
    "print(s.index('C',7,25))"
   ]
  },
  {
   "cell_type": "code",
   "execution_count": 17,
   "metadata": {},
   "outputs": [
    {
     "name": "stdout",
     "output_type": "stream",
     "text": [
      "21\n"
     ]
    }
   ],
   "source": [
    "#rindex()- used for reverse index\n",
    "s='AasthaChandokAasthaChandok'\n",
    "print(s.rindex('a'))"
   ]
  },
  {
   "cell_type": "code",
   "execution_count": 18,
   "metadata": {},
   "outputs": [
    {
     "name": "stdout",
     "output_type": "stream",
     "text": [
      "Enter main string:AasthaChandok\n",
      "ENter sub stringChandok\n",
      "Substring found\n"
     ]
    }
   ],
   "source": [
    "#To find substring in main string\n",
    "#True Case-\n",
    "s = input('Enter main string:')\n",
    "sub = input('ENter sub string')\n",
    "try:\n",
    "    s.index(sub)\n",
    "except ValueError:\n",
    "    print('Substring not found in main string')\n",
    "else:\n",
    "    print('Substring found')"
   ]
  },
  {
   "cell_type": "code",
   "execution_count": 20,
   "metadata": {},
   "outputs": [
    {
     "name": "stdout",
     "output_type": "stream",
     "text": [
      "Enter main string:AasthaChandok\n",
      "Enter sub string:Dim\n",
      "Substring not found in main string\n"
     ]
    }
   ],
   "source": [
    "#False Case-\n",
    "s=input('Enter main string:')\n",
    "sub=input('Enter sub string:')\n",
    "try:\n",
    "    s.index(sub)\n",
    "except ValueError:\n",
    "    print('Substring not found in main string')\n",
    "else:\n",
    "    print('SUbstring found')"
   ]
  },
  {
   "cell_type": "code",
   "execution_count": 23,
   "metadata": {},
   "outputs": [
    {
     "name": "stdout",
     "output_type": "stream",
     "text": [
      "Enter string value:AasthaChandok\n",
      "Enter sub string value:a\n",
      "Found at index: 1\n",
      "Found at index: 5\n",
      "Found at index: 8\n"
     ]
    }
   ],
   "source": [
    "#all the occurances of the value in the string need to find\n",
    "s=input('Enter string value:')\n",
    "sub=input('Enter sub string value:')\n",
    "flag=False\n",
    "pos=-1\n",
    "n=len(s)\n",
    "while True:\n",
    "    pos=s.find(sub,pos+1,n)\n",
    "    if pos==-1:\n",
    "        break\n",
    "    print('Found at index:',pos)\n",
    "    flag=True\n",
    "if flag==False:\n",
    "    print('Not found')"
   ]
  },
  {
   "cell_type": "code",
   "execution_count": 25,
   "metadata": {},
   "outputs": [
    {
     "name": "stdout",
     "output_type": "stream",
     "text": [
      "Enter string value:AasthaaaaaaaaaaChandok\n",
      "Enter sub string value:a\n",
      "Found at index: 1\n",
      "Found at index: 5\n",
      "Found at index: 6\n",
      "Found at index: 7\n",
      "Found at index: 8\n",
      "Found at index: 9\n",
      "Found at index: 10\n",
      "Found at index: 11\n",
      "Found at index: 12\n",
      "Found at index: 13\n",
      "Found at index: 14\n",
      "Found at index: 17\n",
      "No. of times substring occured is: a\n"
     ]
    }
   ],
   "source": [
    "#to find the count of number of occurances of a substring in a string\n",
    "s=input('Enter string value:')\n",
    "sub=input('Enter sub string value:')\n",
    "flag=False\n",
    "pos=-1\n",
    "n=len(s)\n",
    "count=0\n",
    "while True:\n",
    "    pos=s.find(sub,pos+1,n)\n",
    "    if pos==-1:\n",
    "        break\n",
    "    print('Found at index:',pos)\n",
    "    count=count+1\n",
    "if flag==False:\n",
    "    print('Not found')\n",
    "print('No. of times substring occured is:',sub)"
   ]
  },
  {
   "cell_type": "code",
   "execution_count": 26,
   "metadata": {},
   "outputs": [
    {
     "name": "stdout",
     "output_type": "stream",
     "text": [
      "0\n",
      "2\n",
      "1\n"
     ]
    }
   ],
   "source": [
    "#Counting the substring in the given string\n",
    "s='aasthachandokaasthachandok'\n",
    "print(s.count('Aastha'))\n",
    "print(s.count('aastha'))\n",
    "print(s.count('aastha',3,29))"
   ]
  },
  {
   "cell_type": "code",
   "execution_count": 1,
   "metadata": {},
   "outputs": [
    {
     "name": "stdout",
     "output_type": "stream",
     "text": [
      "1720155919344\n",
      "1720155919280\n"
     ]
    }
   ],
   "source": [
    "s='AasthaChandok'\n",
    "print(id(s))\n",
    "s=s.replace('Aastha','Dim')    #replacing string\n",
    "print(id(s))"
   ]
  },
  {
   "cell_type": "code",
   "execution_count": 2,
   "metadata": {},
   "outputs": [
    {
     "name": "stdout",
     "output_type": "stream",
     "text": [
      "['Aastha', 'Chandok']\n"
     ]
    }
   ],
   "source": [
    "s='Aastha Chandok'\n",
    "list=s.split()\n",
    "print(list)"
   ]
  },
  {
   "cell_type": "code",
   "execution_count": 4,
   "metadata": {},
   "outputs": [
    {
     "name": "stdout",
     "output_type": "stream",
     "text": [
      "['Aastha', 'Chandok', 'Dim']\n",
      "Aastha\n",
      "Chandok\n",
      "Dim\n"
     ]
    }
   ],
   "source": [
    "s='Aastha-Chandok-Dim'\n",
    "list=s.split('-')\n",
    "print(list)\n",
    "for i in list:\n",
    "    print(i)"
   ]
  },
  {
   "cell_type": "code",
   "execution_count": 5,
   "metadata": {},
   "outputs": [
    {
     "name": "stdout",
     "output_type": "stream",
     "text": [
      "Aastha\n",
      "Chandok\n",
      "Dim\n",
      "Nagpur\n",
      "Python Tableau\n"
     ]
    }
   ],
   "source": [
    "s='Aastha Chandok Dim Nagpur Python Tableau'\n",
    "list=s.split(' ',4)\n",
    "for x in list:\n",
    "    print(x)"
   ]
  },
  {
   "cell_type": "code",
   "execution_count": 1,
   "metadata": {},
   "outputs": [
    {
     "name": "stdout",
     "output_type": "stream",
     "text": [
      "Aastha-Chandok-Nagpur\n"
     ]
    }
   ],
   "source": [
    "l=['Aastha','Chandok','Nagpur']\n",
    "s='-'.join(l)\n",
    "print(s)"
   ]
  },
  {
   "cell_type": "code",
   "execution_count": 3,
   "metadata": {},
   "outputs": [
    {
     "name": "stdout",
     "output_type": "stream",
     "text": [
      "LEARNING PYTHON IS EASY\n",
      "learning python is easy\n",
      "lEARNING pYTHON IS EASY\n",
      "Learning Python Is Easy\n",
      "Learning python is easy\n"
     ]
    }
   ],
   "source": [
    "s='Learning Python is easy'\n",
    "print(s.upper())\n",
    "print(s.lower())\n",
    "print(s.swapcase())\n",
    "print(s.title())\n",
    "print(s.capitalize())"
   ]
  },
  {
   "cell_type": "code",
   "execution_count": 4,
   "metadata": {},
   "outputs": [
    {
     "name": "stdout",
     "output_type": "stream",
     "text": [
      "True\n",
      "False\n",
      "False\n"
     ]
    }
   ],
   "source": [
    "#Checking starting and ending part of the string\n",
    "s='Learning Python is easy'\n",
    "print(s.startswith('Learning'))\n",
    "print(s.startswith('learning'))   #case sensitive\n",
    "print(s.endswith('learning'))"
   ]
  },
  {
   "cell_type": "code",
   "execution_count": null,
   "metadata": {},
   "outputs": [],
   "source": [
    "#Type of character in the string \n",
    "isalnum()\n",
    "isalpha()\n",
    "isdigit()\n",
    "islower()\n",
    "isupper()\n",
    "istitle()\n",
    "isspace()"
   ]
  },
  {
   "cell_type": "code",
   "execution_count": 5,
   "metadata": {},
   "outputs": [
    {
     "name": "stdout",
     "output_type": "stream",
     "text": [
      "True\n",
      "False\n",
      "False\n",
      "True\n",
      "True\n",
      "True\n",
      "True\n",
      "False\n",
      "True\n"
     ]
    }
   ],
   "source": [
    "print('aastha'.isalnum())\n",
    "print('$$$$'.isalnum())\n",
    "print('123'.isalpha())\n",
    "print('Aastha'.isalpha())\n",
    "print('123'.isdigit())\n",
    "print('aastha'.islower())\n",
    "print('AASTHA'.isupper())\n",
    "print('Aastha chandok'.istitle())\n",
    "print('    '.isspace())"
   ]
  },
  {
   "cell_type": "code",
   "execution_count": 7,
   "metadata": {},
   "outputs": [
    {
     "name": "stdout",
     "output_type": "stream",
     "text": [
      "Enter any character:aastha\n",
      "Alpha numeric character\n",
      "It's an alphabet\n",
      "Lower case alphabet\n"
     ]
    }
   ],
   "source": [
    "#program to check type of character\n",
    "#Case1: Apha numeric - Alphabet- Lowercase- Character\n",
    "s = input('Enter any character:')\n",
    "if s.isalnum():\n",
    "    print('Alpha numeric character')\n",
    "    if s.isalpha():\n",
    "        print('It\\'s an alphabet')\n",
    "        if s.lower():\n",
    "            print('Lower case alphabet')\n",
    "        elif s.isupper():\n",
    "            print('Upper case alphabet')\n",
    "        elif s.istitle():\n",
    "            print('Alphabet in Title format')\n",
    "    else:\n",
    "        print('It is a digit')\n",
    "elif s.isspace():\n",
    "    print('It is a space character')\n",
    "else:\n",
    "    print('Non space special character')       "
   ]
  },
  {
   "cell_type": "code",
   "execution_count": 15,
   "metadata": {},
   "outputs": [
    {
     "name": "stdout",
     "output_type": "stream",
     "text": [
      "Enter any character:AASTHA\n",
      "Alpha numeric character\n",
      "It's an alphabet\n",
      "Upper case alphabet\n"
     ]
    }
   ],
   "source": [
    "#program to check type of character\n",
    "#Case2: Apha numeric - Alphabet- Uppercase- Character\n",
    "s = input('Enter any character:')\n",
    "if s.isalnum():\n",
    "    print('Alpha numeric character')\n",
    "    if s.isalpha():\n",
    "        print('It\\'s an alphabet')\n",
    "        if s.islower():\n",
    "            print('Lower case alphabet')\n",
    "        elif s.isupper():\n",
    "            print('Upper case alphabet')\n",
    "        elif s.istitle():\n",
    "            print('Alphabet in Title format')\n",
    "    else:\n",
    "        print('It is a digit')\n",
    "elif s.isspace():\n",
    "    print('It is a space character')\n",
    "else:\n",
    "    print('Non space special character')       "
   ]
  },
  {
   "cell_type": "code",
   "execution_count": 18,
   "metadata": {},
   "outputs": [
    {
     "name": "stdout",
     "output_type": "stream",
     "text": [
      "Enter any character: 23\n",
      "Non space special character\n"
     ]
    }
   ],
   "source": [
    "#program to check type of character\n",
    "#Case3: Apha numeric - Digit - Character\n",
    "s = input('Enter any character:')\n",
    "if s.isalnum():\n",
    "    print('Alpha numeric character')\n",
    "    if s.isalpha():\n",
    "        print('It\\'s an alphabet')\n",
    "        if s.islower():\n",
    "            print('Lower case alphabet')\n",
    "        elif s.isupper():\n",
    "            print('Upper case alphabet')\n",
    "        elif s.istitle():\n",
    "            print('Alphabet in Title format')\n",
    "    else:\n",
    "        print('It is a digit')\n",
    "elif s.isspace():\n",
    "    print('It is a space character')\n",
    "else:\n",
    "    print('Non space special character')       "
   ]
  },
  {
   "cell_type": "code",
   "execution_count": 17,
   "metadata": {},
   "outputs": [
    {
     "name": "stdout",
     "output_type": "stream",
     "text": [
      "Enter any character:    \n",
      "It is a space character\n"
     ]
    }
   ],
   "source": [
    "#program to check type of character\n",
    "#Case4:Space Character\n",
    "s = input('Enter any character:')\n",
    "if s.isalnum():\n",
    "    print('Alpha numeric character')\n",
    "    if s.isalpha():\n",
    "        print('It\\'s an alphabet')\n",
    "        if s.islower():\n",
    "            print('Lower case alphabet')\n",
    "        elif s.isupper():\n",
    "            print('Upper case alphabet')\n",
    "        elif s.istitle():\n",
    "            print('Alphabet in Title format')\n",
    "    else:\n",
    "        print('It is a digit')\n",
    "elif s.isspace():\n",
    "    print('It is a space character')\n",
    "else:\n",
    "    print('Non space special character')       "
   ]
  },
  {
   "cell_type": "code",
   "execution_count": 2,
   "metadata": {},
   "outputs": [
    {
     "name": "stdout",
     "output_type": "stream",
     "text": [
      "Enter any character:$ $\n",
      "Non space special character\n"
     ]
    }
   ],
   "source": [
    "#program to check type of character\n",
    "#Case5:Space Character\n",
    "s = input('Enter any character:')\n",
    "if s.isalnum():\n",
    "    print('Alpha numeric character')\n",
    "    if s.isalpha():\n",
    "        print('It\\'s an alphabet')\n",
    "        if s.islower():\n",
    "            print('Lower case alphabet')\n",
    "        elif s.isupper():\n",
    "            print('Upper case alphabet')\n",
    "        elif s.istitle():\n",
    "            print('Alphabet in Title format')\n",
    "    else:\n",
    "        print('It is a digit')\n",
    "elif s.isspace():\n",
    "    print('It is a space character')\n",
    "else:\n",
    "    print('Non space special character')       "
   ]
  },
  {
   "cell_type": "code",
   "execution_count": 3,
   "metadata": {},
   "outputs": [
    {
     "name": "stdout",
     "output_type": "stream",
     "text": [
      "Enter the string:Aastha\n"
     ]
    },
    {
     "data": {
      "text/plain": [
       "'ahtsaA'"
      ]
     },
     "execution_count": 3,
     "metadata": {},
     "output_type": "execute_result"
    }
   ],
   "source": [
    "#Reversing a string\n",
    "s=input('Enter the string:')\n",
    "s[::-1]"
   ]
  },
  {
   "cell_type": "code",
   "execution_count": 4,
   "metadata": {},
   "outputs": [
    {
     "name": "stdout",
     "output_type": "stream",
     "text": [
      "Enter the string:Aastha\n",
      "a\n",
      "h\n",
      "t\n",
      "s\n",
      "a\n",
      "A\n"
     ]
    }
   ],
   "source": [
    "s=input('Enter the string:')\n",
    "reversed(s)\n",
    "for x in reversed(s):\n",
    "    print(x)"
   ]
  },
  {
   "cell_type": "code",
   "execution_count": 5,
   "metadata": {},
   "outputs": [
    {
     "name": "stdout",
     "output_type": "stream",
     "text": [
      "Enter the string:aastha\n",
      "5\n",
      "ahtsaa\n"
     ]
    }
   ],
   "source": [
    "s=input('Enter the string:')\n",
    "i=len(s)-1\n",
    "print(i)\n",
    "output=''\n",
    "while i>=0:\n",
    "    output=output+s[i]\n",
    "    i=i-1\n",
    "print(output)"
   ]
  },
  {
   "cell_type": "code",
   "execution_count": 6,
   "metadata": {},
   "outputs": [
    {
     "name": "stdout",
     "output_type": "stream",
     "text": [
      "Enter stringpython is easy to learn\n",
      "['python', 'is', 'easy', 'to', 'learn']\n",
      "['learn', 'to', 'easy', 'is', 'python']\n",
      "learn to easy is python\n"
     ]
    }
   ],
   "source": [
    "#python is easy to learn\n",
    "#learn to easy is python\n",
    "s=input('Enter string')\n",
    "list=s.split()\n",
    "print(list)\n",
    "l1=[]\n",
    "i=len(list)-1\n",
    "while i>=0:\n",
    "    l1.append(list[i])\n",
    "    i=i-1\n",
    "print(l1)\n",
    "output=' '.join(l1)\n",
    "print(output)"
   ]
  }
 ],
 "metadata": {
  "kernelspec": {
   "display_name": "Python 3",
   "language": "python",
   "name": "python3"
  },
  "language_info": {
   "codemirror_mode": {
    "name": "ipython",
    "version": 3
   },
   "file_extension": ".py",
   "mimetype": "text/x-python",
   "name": "python",
   "nbconvert_exporter": "python",
   "pygments_lexer": "ipython3",
   "version": "3.7.3"
  }
 },
 "nbformat": 4,
 "nbformat_minor": 2
}
