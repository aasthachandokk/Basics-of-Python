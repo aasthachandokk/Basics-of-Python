{
 "cells": [
  {
   "cell_type": "code",
   "execution_count": 1,
   "metadata": {},
   "outputs": [],
   "source": [
    "#Types of methods-\n",
    "    #Instance Methods (Object related methods)\n",
    "    #Static Methods\n",
    "    #Class Methods"
   ]
  },
  {
   "cell_type": "code",
   "execution_count": 8,
   "metadata": {},
   "outputs": [
    {
     "name": "stdout",
     "output_type": "stream",
     "text": [
      "Hi Aastha\n",
      "Your marks are: 60\n",
      "You got 1st grade\n"
     ]
    }
   ],
   "source": [
    "#Instance Methods- Related to object\n",
    "    #Any method consists of instance variables - Instance method\n",
    "    #Inside the instance method, First keyword i.e. self is compulsary\n",
    "    \n",
    "class Student:\n",
    "    def __init__(self, name, marks):\n",
    "        self.name = name\n",
    "        self.marks = marks\n",
    "        self.display()\n",
    "        \n",
    "    def display(self):\n",
    "        print('Hi', self.name)\n",
    "        print('Your marks are:', self.marks)\n",
    "        self.grade()\n",
    "        #If we want to call an instance method inside an instance method we will go for self keyword\n",
    "        \n",
    "    def grade(self):\n",
    "        if self.marks >= 60:\n",
    "            print('You got 1st grade')\n",
    "        elif self.marks >= 50:\n",
    "            print('You got 2nd grade')\n",
    "        elif self.marks >= 35:\n",
    "            print('You got 3rd grade')\n",
    "        else:\n",
    "            print('You did not pass')\n",
    "            \n",
    "s1 = Student('Aastha', 60)\n",
    "#s1.display()\n",
    "#s1.grade()\n",
    "        "
   ]
  },
  {
   "cell_type": "code",
   "execution_count": 11,
   "metadata": {},
   "outputs": [
    {
     "name": "stdout",
     "output_type": "stream",
     "text": [
      "Enter the number of students:2\n",
      "Enter the name of the student:Aastha\n",
      "Enter the marks of the student:95\n",
      "Enter the name of the student:Ash\n",
      "Enter the marks of the student:99\n",
      "Student Name: Aastha\n",
      "Student Marks: 95\n",
      "\n",
      "Student Name: Ash\n",
      "Student Marks: 99\n",
      "\n"
     ]
    }
   ],
   "source": [
    "#Setter and Getter methods\n",
    "#Setter - To set the values to the instance variables (Mutator Method)\n",
    "#Getter - To get the values of an instance variable (Accessor Method)\n",
    "\n",
    "class Student:\n",
    "    def setName(self, name):\n",
    "        self.name = name\n",
    "        \n",
    "    def getName(self):\n",
    "        return self.name\n",
    "    \n",
    "    def setMarks(self, marks):\n",
    "        self.marks = marks\n",
    "        \n",
    "    def getMarks(self):\n",
    "        return self.marks\n",
    "\n",
    "l = []\n",
    "n = int(input('Enter the number of students:'))\n",
    "for i in range(n):\n",
    "    s = Student()\n",
    "    name = input('Enter the name of the student:')\n",
    "    marks = int(input('Enter the marks of the student:'))\n",
    "    s.setName(name)\n",
    "    s.setMarks(marks)\n",
    "    l.append(s)\n",
    "for s in l:\n",
    "    print('Student Name:', s.getName())\n",
    "    print('Student Marks:', s.getMarks())\n",
    "    print()"
   ]
  },
  {
   "cell_type": "code",
   "execution_count": 12,
   "metadata": {},
   "outputs": [
    {
     "data": {
      "text/plain": [
       "[<__main__.Student at 0x1ef94a36ac8>, <__main__.Student at 0x1ef94a4aeb8>]"
      ]
     },
     "execution_count": 12,
     "metadata": {},
     "output_type": "execute_result"
    }
   ],
   "source": [
    "l"
   ]
  },
  {
   "cell_type": "code",
   "execution_count": 13,
   "metadata": {},
   "outputs": [
    {
     "name": "stdout",
     "output_type": "stream",
     "text": [
      "TCS has total 10 employees\n"
     ]
    }
   ],
   "source": [
    "#CLass Methods\n",
    "    #Inside the method implementation if we are using only static variables(WITHOUT INSTANCE VARIABLES)\n",
    "\n",
    "#Atleast one instace variables -> Instance method\n",
    "#Instance + Static Variables -> Both are present (Instance Method)\n",
    "\n",
    "# @classmethod #Decorator \n",
    "# cls \n",
    "#We can call methods by using class name or object reference\n",
    "\n",
    "class Employee:\n",
    "    total_emp = 10\n",
    "    \n",
    "    @classmethod\n",
    "    def totemp(cls, compname):\n",
    "        print('{} has total {} employees'.format(compname, cls.total_emp))\n",
    "        \n",
    "Employee.totemp('TCS')"
   ]
  },
  {
   "cell_type": "code",
   "execution_count": 14,
   "metadata": {},
   "outputs": [
    {
     "name": "stdout",
     "output_type": "stream",
     "text": [
      "The number of objects created 3\n"
     ]
    }
   ],
   "source": [
    "class Test:\n",
    "    count = 0\n",
    "    def __init__(self):\n",
    "        Test.count = Test.count + 1\n",
    "        \n",
    "    @classmethod\n",
    "    def noofobj(cls):\n",
    "        print('The number of objects created', Test.count)\n",
    "        \n",
    "t1 = Test()\n",
    "t2 = Test()\n",
    "t3 = Test()\n",
    "Test.noofobj()"
   ]
  },
  {
   "cell_type": "code",
   "execution_count": 19,
   "metadata": {},
   "outputs": [
    {
     "name": "stdout",
     "output_type": "stream",
     "text": [
      "A\n"
     ]
    }
   ],
   "source": [
    "class Test:\n",
    "    count = 0\n",
    "    def __init__(self, name):\n",
    "        self.name = name\n",
    "        self.count = self.count +1\n",
    "        \n",
    "    #@classmethod\n",
    "    def noofobj(cls):\n",
    "        print(cls.name)\n",
    "        \n",
    "t = Test('A')\n",
    "t.noofobj()"
   ]
  },
  {
   "cell_type": "code",
   "execution_count": 20,
   "metadata": {},
   "outputs": [
    {
     "name": "stdout",
     "output_type": "stream",
     "text": [
      "30\n"
     ]
    }
   ],
   "source": [
    "class Test:\n",
    "    count = 0\n",
    "    def __init__(self):\n",
    "        Test.count = Test.count +1\n",
    "        \n",
    "    @staticmethod\n",
    "    def noofobj(x,y):\n",
    "        print(x+y)\n",
    "        \n",
    "t = Test()\n",
    "t.noofobj(10,20)"
   ]
  },
  {
   "cell_type": "code",
   "execution_count": 22,
   "metadata": {},
   "outputs": [
    {
     "name": "stdout",
     "output_type": "stream",
     "text": [
      "The sum is: 30\n",
      "The product is: 200\n",
      "The average is: 15.0\n"
     ]
    }
   ],
   "source": [
    "#Static Method\n",
    "    #Inside method if we are not using instance and static variables\n",
    "    #General utility method\n",
    "    \n",
    "#@staticmethod\n",
    "class acMaths:\n",
    "    @staticmethod\n",
    "    def add(x,y):\n",
    "        print('The sum is:', x+y)\n",
    "        \n",
    "    @staticmethod\n",
    "    def product(x,y):\n",
    "        print('The product is:', x*y)\n",
    "        \n",
    "    @staticmethod\n",
    "    def average(x,y):\n",
    "        print('The average is:', (x+y)/2)\n",
    "        \n",
    "acMaths.add(10,20)\n",
    "acMaths.product(10,20)\n",
    "acMaths.average(10,20)"
   ]
  },
  {
   "cell_type": "code",
   "execution_count": null,
   "metadata": {},
   "outputs": [],
   "source": [
    "#Instance method - No decorator is required\n",
    "#Class method - @classmethod - Mandatory\n",
    "#Static method - @staticmethod - (Optional)\n",
    "cls - self - instance method"
   ]
  },
  {
   "cell_type": "code",
   "execution_count": null,
   "metadata": {},
   "outputs": [],
   "source": [
    "#Instance variable - (Instance method)\n",
    "#Static variable - (Class method)\n",
    "#Instance + Static - (Instance method)\n",
    "#Instance + Local - (Instance method)\n",
    "#Static + Local - (Class method)\n"
   ]
  },
  {
   "cell_type": "code",
   "execution_count": null,
   "metadata": {},
   "outputs": [],
   "source": [
    "#No decorator - Either Instance method or static method"
   ]
  },
  {
   "cell_type": "code",
   "execution_count": null,
   "metadata": {},
   "outputs": [],
   "source": [
    "#We call the static method - Either by class name or by obj ref  "
   ]
  },
  {
   "cell_type": "code",
   "execution_count": 27,
   "metadata": {},
   "outputs": [
    {
     "name": "stdout",
     "output_type": "stream",
     "text": [
      "Some method: Instance | Static | Class\n",
      "2128532952624\n",
      "Some method: Instance | Static | Class\n",
      "2128532924400\n",
      "2128532924400\n",
      "2128532952624\n",
      "Some method: Instance | Static | Class\n",
      "140721068020832\n"
     ]
    }
   ],
   "source": [
    "class Test:\n",
    "    def m1(cls):\n",
    "        print('Some method: Instance | Static | Class')\n",
    "        print(id(cls))\n",
    "t1 = Test()\n",
    "t1.m1()\n",
    "t2 = Test()\n",
    "t2.m1()\n",
    "print(id(t2))\n",
    "print(id(t1))\n",
    "Test.m1(10)"
   ]
  },
  {
   "cell_type": "code",
   "execution_count": 28,
   "metadata": {},
   "outputs": [],
   "source": [
    "#Passing the members of one class to another"
   ]
  },
  {
   "cell_type": "code",
   "execution_count": 34,
   "metadata": {},
   "outputs": [
    {
     "name": "stdout",
     "output_type": "stream",
     "text": [
      "Employee number: 100\n",
      "Employee name: Aastha\n",
      "Employee salary: 150000\n",
      "Employee number: 100\n",
      "Employee name: Aastha\n",
      "Employee salary: 160000\n"
     ]
    }
   ],
   "source": [
    "class Employee:\n",
    "    def __init__(self, eno, ename, esal):\n",
    "        self.eno = eno\n",
    "        self.ename = ename\n",
    "        self.esal = esal\n",
    "        \n",
    "    def display(self):\n",
    "        print('Employee number:', self.eno)\n",
    "        print('Employee name:', self.ename)\n",
    "        print('Employee salary:', self.esal)\n",
    "        \n",
    "class Test:\n",
    "    def modify(emp):\n",
    "        emp.esal = emp.esal + 10000\n",
    "        emp.display()\n",
    "        \n",
    "e = Employee(100, 'Aastha', 150000)\n",
    "e.display()\n",
    "Test.modify(e)"
   ]
  },
  {
   "cell_type": "code",
   "execution_count": 1,
   "metadata": {},
   "outputs": [
    {
     "name": "stdout",
     "output_type": "stream",
     "text": [
      "Hello\n",
      "Hello\n"
     ]
    }
   ],
   "source": [
    "class Test:\n",
    "    def modify(emp):\n",
    "        print('Hello')\n",
    "e1 = Test()\n",
    "e1.modify()   #Instance\n",
    "Test.modify(10)  #Static"
   ]
  },
  {
   "cell_type": "code",
   "execution_count": 2,
   "metadata": {},
   "outputs": [],
   "source": [
    "#Inner Classes\n",
    "    #Classes inside other classes"
   ]
  },
  {
   "cell_type": "code",
   "execution_count": 7,
   "metadata": {},
   "outputs": [
    {
     "name": "stdout",
     "output_type": "stream",
     "text": [
      "Outer class object creation....\n",
      "Inner class object creation....\n",
      "Inner class method\n"
     ]
    }
   ],
   "source": [
    "class Outer:\n",
    "    def __init__(self):\n",
    "        print('Outer class object creation....')\n",
    "        \n",
    "    class Inner:\n",
    "        def __init__(self):\n",
    "            print('Inner class object creation....')\n",
    "            \n",
    "        def m1(self):\n",
    "            print('Inner class method')\n",
    "            \n",
    "o = Outer()\n",
    "i = o.Inner()\n",
    "i.m1()"
   ]
  },
  {
   "cell_type": "code",
   "execution_count": 8,
   "metadata": {},
   "outputs": [
    {
     "name": "stdout",
     "output_type": "stream",
     "text": [
      "Outer class object creation....\n",
      "Inner class object creation....\n",
      "Inner class method\n"
     ]
    }
   ],
   "source": [
    "i = Outer().Inner().m1()"
   ]
  },
  {
   "cell_type": "code",
   "execution_count": 9,
   "metadata": {},
   "outputs": [
    {
     "name": "stdout",
     "output_type": "stream",
     "text": [
      "Outer class object creation...\n",
      "Inner class object creation....\n",
      "Inner Inner class object creation....\n",
      "Inner Inner class method\n"
     ]
    }
   ],
   "source": [
    "class Outer:\n",
    "    def __init__(self):\n",
    "        print('Outer class object creation...')\n",
    "        \n",
    "    class Inner:\n",
    "        def __init__(self):\n",
    "            print('Inner class object creation....')\n",
    "            \n",
    "        class InnerInner:\n",
    "            def __init__(self):\n",
    "                print('Inner Inner class object creation....')\n",
    "                \n",
    "            def m1(self):\n",
    "                print('Inner Inner class method')\n",
    "                \n",
    "i = Outer().Inner().InnerInner().m1()"
   ]
  },
  {
   "cell_type": "code",
   "execution_count": 13,
   "metadata": {},
   "outputs": [
    {
     "name": "stdout",
     "output_type": "stream",
     "text": [
      "Hello Aastha\n",
      "Talking....\n",
      "Thinking....\n"
     ]
    }
   ],
   "source": [
    "class Human:\n",
    "    def __init__(self):\n",
    "        self.name = 'Aastha'\n",
    "        self.head = self.Head()\n",
    "        self.brain = self.head.Brain()\n",
    "        \n",
    "    def display(self):\n",
    "        print('Hello', self.name)\n",
    "        self.head.talk()\n",
    "        self.brain.think()\n",
    "        \n",
    "        \n",
    "    class Head:\n",
    "        def talk(self):\n",
    "            print('Talking....')\n",
    "            \n",
    "        class Brain:\n",
    "            def think(self):\n",
    "                print('Thinking....')\n",
    "            \n",
    "h = Human()\n",
    "h.display()"
   ]
  },
  {
   "cell_type": "code",
   "execution_count": 17,
   "metadata": {},
   "outputs": [
    {
     "name": "stdout",
     "output_type": "stream",
     "text": [
      "Customer Name: R\n",
      "DOB=10/11/2010\n"
     ]
    }
   ],
   "source": [
    "class Customer:\n",
    "    def __init__(self, name, dd, mm , yyyy):\n",
    "        self.name = name\n",
    "        self.dob = self.DOB(dd, mm , yyyy)\n",
    "        \n",
    "    def display(self):\n",
    "        print('Customer Name:', self.name)\n",
    "        self.dob.display()\n",
    "        \n",
    "    class DOB:\n",
    "        def __init__(self,dd, mm, yyyy):\n",
    "            self.dd = dd\n",
    "            self.mm = mm\n",
    "            self.yyyy = yyyy\n",
    "            \n",
    "        def display(self):\n",
    "            print('DOB={}/{}/{}'.format(self.dd, self.mm , self.yyyy))\n",
    "        \n",
    "c = Customer('R', 10, 11 , 2010)\n",
    "c.display()"
   ]
  },
  {
   "cell_type": "code",
   "execution_count": 1,
   "metadata": {},
   "outputs": [
    {
     "name": "stdout",
     "output_type": "stream",
     "text": [
      "The sum is: 30\n",
      "The diff is: -10\n",
      "The mul is: 200\n",
      "The div is: 0.5\n",
      "\n",
      "The sum is: 300\n",
      "The diff is: -100\n",
      "The mul is: 20000\n",
      "The div is: 0.5\n",
      "\n",
      "The sum is: 3000\n",
      "The diff is: -1000\n",
      "The mul is: 2000000\n",
      "The div is: 0.5\n",
      "\n"
     ]
    }
   ],
   "source": [
    "class Test:\n",
    "    def m1(self):\n",
    "        a,b = 10,20\n",
    "        print('The sum is:', a+b)\n",
    "        print('The diff is:', a-b)\n",
    "        print('The mul is:', a*b)\n",
    "        print('The div is:', a/b)\n",
    "        print()\n",
    "        \n",
    "        a,b = 100,200\n",
    "        print('The sum is:', a+b)\n",
    "        print('The diff is:', a-b)\n",
    "        print('The mul is:', a*b)\n",
    "        print('The div is:', a/b)\n",
    "        print()\n",
    "        \n",
    "        a,b = 1000,2000\n",
    "        print('The sum is:', a+b)\n",
    "        print('The diff is:', a-b)\n",
    "        print('The mul is:', a*b)\n",
    "        print('The div is:', a/b)\n",
    "        print()\n",
    "        \n",
    "t = Test()\n",
    "t.m1()"
   ]
  },
  {
   "cell_type": "code",
   "execution_count": 3,
   "metadata": {},
   "outputs": [
    {
     "name": "stdout",
     "output_type": "stream",
     "text": [
      "The sum is: 30\n",
      "The diff is: -10\n",
      "The mul is: 200\n",
      "The div is: 0.5\n",
      "\n",
      "The sum is: 300\n",
      "The diff is: -100\n",
      "The mul is: 20000\n",
      "The div is: 0.5\n",
      "\n",
      "The sum is: 3000\n",
      "The diff is: -1000\n",
      "The mul is: 2000000\n",
      "The div is: 0.5\n",
      "\n"
     ]
    }
   ],
   "source": [
    "class Test:\n",
    "    def m1(self):\n",
    "        def calculator(a,b):\n",
    "            print('The sum is:', a+b)\n",
    "            print('The diff is:', a-b)\n",
    "            print('The mul is:', a*b)\n",
    "            print('The div is:', a/b)\n",
    "            print()\n",
    "            \n",
    "        calculator(10,20)\n",
    "        calculator(100,200)\n",
    "        calculator(1000,2000)\n",
    "            \n",
    "t = Test()\n",
    "t.m1()      "
   ]
  }
 ],
 "metadata": {
  "kernelspec": {
   "display_name": "Python 3",
   "language": "python",
   "name": "python3"
  },
  "language_info": {
   "codemirror_mode": {
    "name": "ipython",
    "version": 3
   },
   "file_extension": ".py",
   "mimetype": "text/x-python",
   "name": "python",
   "nbconvert_exporter": "python",
   "pygments_lexer": "ipython3",
   "version": "3.7.3"
  }
 },
 "nbformat": 4,
 "nbformat_minor": 2
}
