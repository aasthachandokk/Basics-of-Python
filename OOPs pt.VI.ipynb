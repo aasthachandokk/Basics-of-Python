{
 "cells": [
  {
   "cell_type": "code",
   "execution_count": 1,
   "metadata": {},
   "outputs": [],
   "source": [
    "#Polymorphism\n",
    "#Poly Multiple Morph - Forms\n",
    "#1. Duck Typing Philosophy of Python \n",
    "#2. Overloading \n",
    "    #Operator Overloading \n",
    "    #Method Overloading \n",
    "    #Constructor overloading\n",
    "    \n",
    "#3. Overriding \n",
    "    #Method Overriding \n",
    "    #Constructor overriding "
   ]
  },
  {
   "cell_type": "code",
   "execution_count": 5,
   "metadata": {},
   "outputs": [
    {
     "name": "stdout",
     "output_type": "stream",
     "text": [
      "Fish\n",
      "Meat\n",
      "Rat\n",
      "Grass\n"
     ]
    }
   ],
   "source": [
    "class Duck:\n",
    "    def eat(self):\n",
    "        print('Fish')\n",
    "        \n",
    "class Dog:\n",
    "    def eat(self):\n",
    "        print('Meat')\n",
    "    \n",
    "class Cat:\n",
    "    def eat(self):\n",
    "        print('Rat')\n",
    "        \n",
    "class Goat:\n",
    "    def eat(self):\n",
    "        print('Grass')\n",
    "        \n",
    "def f1(obj):\n",
    "    obj.eat()\n",
    "    \n",
    "l = [Duck(), Dog(), Cat(), Goat()]\n",
    "for obj in l:\n",
    "    f1(obj)"
   ]
  },
  {
   "cell_type": "code",
   "execution_count": 6,
   "metadata": {},
   "outputs": [
    {
     "name": "stdout",
     "output_type": "stream",
     "text": [
      "Bow Bow\n"
     ]
    }
   ],
   "source": [
    "class Duck:\n",
    "    def eat(self):\n",
    "        print('Fish')\n",
    "        \n",
    "class Dog:\n",
    "    def talk(self):\n",
    "        print('Bow Bow')\n",
    "        \n",
    "        \n",
    "def f1(obj):\n",
    "    obj.talk()\n",
    "    \n",
    "d1 = Dog()\n",
    "d1.talk()"
   ]
  },
  {
   "cell_type": "code",
   "execution_count": 7,
   "metadata": {},
   "outputs": [
    {
     "name": "stdout",
     "output_type": "stream",
     "text": [
      "Fish\n",
      "Bow Bow\n"
     ]
    }
   ],
   "source": [
    "def f1(obj):\n",
    "    if hasattr(obj, 'talk'):\n",
    "        obj.talk()\n",
    "        \n",
    "    elif hasattr(obj, 'eat'):\n",
    "        obj.eat()\n",
    "        \n",
    "d = Duck()\n",
    "f1(d)\n",
    "d = Dog()\n",
    "f1(d)"
   ]
  },
  {
   "cell_type": "code",
   "execution_count": 9,
   "metadata": {},
   "outputs": [
    {
     "data": {
      "text/plain": [
       "'ab'"
      ]
     },
     "execution_count": 9,
     "metadata": {},
     "output_type": "execute_result"
    }
   ],
   "source": [
    "#Overloading\n",
    "1+2\n",
    "'a'+'b'"
   ]
  },
  {
   "cell_type": "code",
   "execution_count": 10,
   "metadata": {},
   "outputs": [
    {
     "ename": "TypeError",
     "evalue": "unsupported operand type(s) for +: 'Book' and 'Book'",
     "output_type": "error",
     "traceback": [
      "\u001b[1;31m---------------------------------------------------------------------------\u001b[0m",
      "\u001b[1;31mTypeError\u001b[0m                                 Traceback (most recent call last)",
      "\u001b[1;32m<ipython-input-10-b40a0cf746d3>\u001b[0m in \u001b[0;36m<module>\u001b[1;34m\u001b[0m\n\u001b[0;32m      5\u001b[0m \u001b[0mb1\u001b[0m \u001b[1;33m=\u001b[0m \u001b[0mBook\u001b[0m\u001b[1;33m(\u001b[0m\u001b[1;36m100\u001b[0m\u001b[1;33m)\u001b[0m\u001b[1;33m\u001b[0m\u001b[1;33m\u001b[0m\u001b[0m\n\u001b[0;32m      6\u001b[0m \u001b[0mb2\u001b[0m \u001b[1;33m=\u001b[0m \u001b[0mBook\u001b[0m\u001b[1;33m(\u001b[0m\u001b[1;36m200\u001b[0m\u001b[1;33m)\u001b[0m\u001b[1;33m\u001b[0m\u001b[1;33m\u001b[0m\u001b[0m\n\u001b[1;32m----> 7\u001b[1;33m \u001b[0mprint\u001b[0m\u001b[1;33m(\u001b[0m\u001b[0mb1\u001b[0m\u001b[1;33m+\u001b[0m\u001b[0mb2\u001b[0m\u001b[1;33m)\u001b[0m\u001b[1;33m\u001b[0m\u001b[1;33m\u001b[0m\u001b[0m\n\u001b[0m",
      "\u001b[1;31mTypeError\u001b[0m: unsupported operand type(s) for +: 'Book' and 'Book'"
     ]
    }
   ],
   "source": [
    "class Book:\n",
    "    def __init__(self, pages):\n",
    "        self.pages = pages\n",
    "\n",
    "b1 = Book(100)\n",
    "b2 = Book(200)\n",
    "print(b1+b2)"
   ]
  },
  {
   "cell_type": "code",
   "execution_count": 12,
   "metadata": {},
   "outputs": [
    {
     "name": "stdout",
     "output_type": "stream",
     "text": [
      "300\n",
      "20000\n"
     ]
    }
   ],
   "source": [
    "class Book:\n",
    "    def __init__(self, pages):\n",
    "        self.pages = pages\n",
    "        \n",
    "    def __add__(self, other):\n",
    "        return self.pages + other.pages\n",
    "        \n",
    "    def __mul__(self, other):\n",
    "        return self.pages * other.pages\n",
    "\n",
    "b1 = Book(100)\n",
    "b2 = Book(200)\n",
    "print(b1+b2)\n",
    "print(b1*b2)"
   ]
  },
  {
   "cell_type": "code",
   "execution_count": 13,
   "metadata": {},
   "outputs": [
    {
     "data": {
      "text/plain": [
       "['__abs__',\n",
       " '__add__',\n",
       " '__and__',\n",
       " '__bool__',\n",
       " '__ceil__',\n",
       " '__class__',\n",
       " '__delattr__',\n",
       " '__dir__',\n",
       " '__divmod__',\n",
       " '__doc__',\n",
       " '__eq__',\n",
       " '__float__',\n",
       " '__floor__',\n",
       " '__floordiv__',\n",
       " '__format__',\n",
       " '__ge__',\n",
       " '__getattribute__',\n",
       " '__getnewargs__',\n",
       " '__gt__',\n",
       " '__hash__',\n",
       " '__index__',\n",
       " '__init__',\n",
       " '__init_subclass__',\n",
       " '__int__',\n",
       " '__invert__',\n",
       " '__le__',\n",
       " '__lshift__',\n",
       " '__lt__',\n",
       " '__mod__',\n",
       " '__mul__',\n",
       " '__ne__',\n",
       " '__neg__',\n",
       " '__new__',\n",
       " '__or__',\n",
       " '__pos__',\n",
       " '__pow__',\n",
       " '__radd__',\n",
       " '__rand__',\n",
       " '__rdivmod__',\n",
       " '__reduce__',\n",
       " '__reduce_ex__',\n",
       " '__repr__',\n",
       " '__rfloordiv__',\n",
       " '__rlshift__',\n",
       " '__rmod__',\n",
       " '__rmul__',\n",
       " '__ror__',\n",
       " '__round__',\n",
       " '__rpow__',\n",
       " '__rrshift__',\n",
       " '__rshift__',\n",
       " '__rsub__',\n",
       " '__rtruediv__',\n",
       " '__rxor__',\n",
       " '__setattr__',\n",
       " '__sizeof__',\n",
       " '__str__',\n",
       " '__sub__',\n",
       " '__subclasshook__',\n",
       " '__truediv__',\n",
       " '__trunc__',\n",
       " '__xor__',\n",
       " 'bit_length',\n",
       " 'conjugate',\n",
       " 'denominator',\n",
       " 'from_bytes',\n",
       " 'imag',\n",
       " 'numerator',\n",
       " 'real',\n",
       " 'to_bytes']"
      ]
     },
     "execution_count": 13,
     "metadata": {},
     "output_type": "execute_result"
    }
   ],
   "source": [
    "dir(int)"
   ]
  },
  {
   "cell_type": "code",
   "execution_count": null,
   "metadata": {},
   "outputs": [],
   "source": [
    "+ --> __add__(self,other)\n",
    "- --> __sub__(self,other)\n",
    "* --> __mul__(self,other)\n",
    "/ --> __div__(self,other)\n",
    "// --> __floordiv__(self,other)\n",
    "% --> __mod__(self,other)\n",
    "** --> __pow__(self,other)\n",
    "\n",
    "+= --> __iadd__(self,other)\n",
    "-= --> __isub__(self,other)\n",
    "*= --> __imul__(self,other)\n",
    "/= --> __idiv__(self,other)\n",
    "//= --> __ifloordiv__(self,other)\n",
    "%= --> __imod__(self,other)\n",
    "**= --> __ipow__(self,other)\n",
    "\n",
    "< --> __lt__(self,other)\n",
    "<= --> __le__(self,other)\n",
    "> --> __gt__(self,other)\n",
    ">= --> __ge__(self,other)\n",
    "== --> __eq__(self,other)\n",
    "!= --> __ne__(self,other)"
   ]
  },
  {
   "cell_type": "code",
   "execution_count": 15,
   "metadata": {},
   "outputs": [
    {
     "name": "stdout",
     "output_type": "stream",
     "text": [
      "False\n",
      "False\n",
      "True\n",
      "True\n"
     ]
    }
   ],
   "source": [
    "class Student:\n",
    "    def __init__(self,name,marks):\n",
    "        self.name = name \n",
    "        self.marks = marks\n",
    "        \n",
    "    def __gt__(self,other):\n",
    "        return self.marks > other.marks\n",
    "    def __ge__(self,other):\n",
    "        return self.marks >= other.marks\n",
    "    def __lt__(self,other):\n",
    "        return self.marks  <other.marks\n",
    "    def __le__(self,other):\n",
    "        return self.marks <= other.marks\n",
    "    \n",
    "s1 = Student('Aastha', 100)\n",
    "s2 = Student('Dim', 200)\n",
    "print(s1>s2)\n",
    "print(s1>=s2)\n",
    "print(s1<s2)\n",
    "print(s1<=s2)"
   ]
  },
  {
   "cell_type": "code",
   "execution_count": 16,
   "metadata": {},
   "outputs": [
    {
     "ename": "TypeError",
     "evalue": "unsupported operand type(s) for +: 'int' and 'Book'",
     "output_type": "error",
     "traceback": [
      "\u001b[1;31m---------------------------------------------------------------------------\u001b[0m",
      "\u001b[1;31mTypeError\u001b[0m                                 Traceback (most recent call last)",
      "\u001b[1;32m<ipython-input-16-4c2a8a8831d4>\u001b[0m in \u001b[0;36m<module>\u001b[1;34m\u001b[0m\n\u001b[0;32m      8\u001b[0m \u001b[0mb2\u001b[0m \u001b[1;33m=\u001b[0m \u001b[0mBook\u001b[0m\u001b[1;33m(\u001b[0m\u001b[1;36m200\u001b[0m\u001b[1;33m)\u001b[0m\u001b[1;33m\u001b[0m\u001b[1;33m\u001b[0m\u001b[0m\n\u001b[0;32m      9\u001b[0m \u001b[0mb3\u001b[0m \u001b[1;33m=\u001b[0m \u001b[0mBook\u001b[0m\u001b[1;33m(\u001b[0m\u001b[1;36m300\u001b[0m\u001b[1;33m)\u001b[0m\u001b[1;33m\u001b[0m\u001b[1;33m\u001b[0m\u001b[0m\n\u001b[1;32m---> 10\u001b[1;33m \u001b[0mprint\u001b[0m\u001b[1;33m(\u001b[0m\u001b[0mb1\u001b[0m\u001b[1;33m+\u001b[0m\u001b[0mb2\u001b[0m\u001b[1;33m+\u001b[0m\u001b[0mb3\u001b[0m\u001b[1;33m)\u001b[0m\u001b[1;33m\u001b[0m\u001b[1;33m\u001b[0m\u001b[0m\n\u001b[0m",
      "\u001b[1;31mTypeError\u001b[0m: unsupported operand type(s) for +: 'int' and 'Book'"
     ]
    }
   ],
   "source": [
    "class Book:\n",
    "    def __init__(self,pages):\n",
    "        self.pages = pages\n",
    "        \n",
    "    def __add__(self,other):\n",
    "        return self.pages + other.pages\n",
    "b1 = Book(100)\n",
    "b2 = Book(200)\n",
    "b3 = Book(300)\n",
    "print(b1+b2+b3)     "
   ]
  },
  {
   "cell_type": "code",
   "execution_count": 17,
   "metadata": {},
   "outputs": [
    {
     "ename": "TypeError",
     "evalue": "__add__() missing 1 required positional argument: 'other2'",
     "output_type": "error",
     "traceback": [
      "\u001b[1;31m---------------------------------------------------------------------------\u001b[0m",
      "\u001b[1;31mTypeError\u001b[0m                                 Traceback (most recent call last)",
      "\u001b[1;32m<ipython-input-17-92e8b43f2176>\u001b[0m in \u001b[0;36m<module>\u001b[1;34m\u001b[0m\n\u001b[0;32m      8\u001b[0m \u001b[0mb2\u001b[0m \u001b[1;33m=\u001b[0m \u001b[0mBook\u001b[0m\u001b[1;33m(\u001b[0m\u001b[1;36m200\u001b[0m\u001b[1;33m)\u001b[0m\u001b[1;33m\u001b[0m\u001b[1;33m\u001b[0m\u001b[0m\n\u001b[0;32m      9\u001b[0m \u001b[0mb3\u001b[0m \u001b[1;33m=\u001b[0m \u001b[0mBook\u001b[0m\u001b[1;33m(\u001b[0m\u001b[1;36m300\u001b[0m\u001b[1;33m)\u001b[0m\u001b[1;33m\u001b[0m\u001b[1;33m\u001b[0m\u001b[0m\n\u001b[1;32m---> 10\u001b[1;33m \u001b[0mprint\u001b[0m\u001b[1;33m(\u001b[0m\u001b[0mb1\u001b[0m\u001b[1;33m+\u001b[0m\u001b[0mb2\u001b[0m\u001b[1;33m+\u001b[0m\u001b[0mb3\u001b[0m\u001b[1;33m)\u001b[0m\u001b[1;33m\u001b[0m\u001b[1;33m\u001b[0m\u001b[0m\n\u001b[0m",
      "\u001b[1;31mTypeError\u001b[0m: __add__() missing 1 required positional argument: 'other2'"
     ]
    }
   ],
   "source": [
    "class Book:\n",
    "    def __init__(self, pages):\n",
    "        self.pages = pages\n",
    "    def __add__(self,other1, other2):\n",
    "        return self.pages + other1.pages + other2.pages\n",
    "    \n",
    "b1 = Book(100)\n",
    "b2 = Book(200)\n",
    "b3 = Book(300)\n",
    "print(b1+b2+b3)"
   ]
  },
  {
   "cell_type": "code",
   "execution_count": 24,
   "metadata": {},
   "outputs": [
    {
     "name": "stdout",
     "output_type": "stream",
     "text": [
      "Add method we are calling\n",
      "Add method we are calling\n",
      "Add method we are calling\n",
      "str method calling\n",
      "1000\n"
     ]
    }
   ],
   "source": [
    "class Book:\n",
    "    def __init__(self,pages):\n",
    "        self.pages = pages\n",
    "        \n",
    "    def __add__(self,other):\n",
    "        print('Add method we are calling')\n",
    "        total = self.pages + other.pages\n",
    "        return Book(total)\n",
    "    \n",
    "    def __str__(self):\n",
    "        print('str method calling')\n",
    "        return str(self.pages)\n",
    "    \n",
    "    \n",
    "b1 = Book(100)\n",
    "b2 = Book(200)\n",
    "b3 = Book(300)\n",
    "b4 = Book(400)\n",
    "print(b1+b2+b3+b4)"
   ]
  },
  {
   "cell_type": "code",
   "execution_count": 25,
   "metadata": {},
   "outputs": [
    {
     "name": "stdout",
     "output_type": "stream",
     "text": [
      "This is Student object with the name:Aastha and  marks:100\n",
      "This is Student object with the name:Dim and  marks:200\n"
     ]
    }
   ],
   "source": [
    "class Student:\n",
    "    def __init__(self,name, marks):\n",
    "        self.name = name\n",
    "        self.marks = marks\n",
    "        \n",
    "    def __str__(self):\n",
    "        return 'This is Student object with the name:{} and  marks:{}'.format(self.name, self.marks)\n",
    "        \n",
    "    \n",
    "s1 = Student('Aastha', 100)\n",
    "print(s1)\n",
    "s2 = Student('Dim',200)\n",
    "print(s2)"
   ]
  },
  {
   "cell_type": "code",
   "execution_count": 3,
   "metadata": {},
   "outputs": [
    {
     "name": "stdout",
     "output_type": "stream",
     "text": [
      "The month salary is: 12500\n",
      "The month salary is: 12500\n"
     ]
    }
   ],
   "source": [
    "class Employee:\n",
    "    def __init__(self,name, salary):\n",
    "        self.name = name\n",
    "        self.salary = salary\n",
    "        \n",
    "    def __mul__(self,other):\n",
    "        return self.salary * other.days\n",
    "    \n",
    "class TimeSheet:\n",
    "    def __init__(self,name, days):\n",
    "        self.name =name\n",
    "        self.days=days\n",
    "    def __mul__(self,other):\n",
    "        return self.days * other.salary\n",
    "        \n",
    "e = Employee('Rahul',500)\n",
    "t = TimeSheet('Rahul',25)\n",
    "\n",
    "print('The month salary is:', e*t)\n",
    "print('The month salary is:', t*e) "
   ]
  },
  {
   "cell_type": "code",
   "execution_count": 4,
   "metadata": {},
   "outputs": [
    {
     "ename": "TypeError",
     "evalue": "m1() missing 1 required positional argument: 'a'",
     "output_type": "error",
     "traceback": [
      "\u001b[1;31m---------------------------------------------------------------------------\u001b[0m",
      "\u001b[1;31mTypeError\u001b[0m                                 Traceback (most recent call last)",
      "\u001b[1;32m<ipython-input-4-ac1ed531c0c0>\u001b[0m in \u001b[0;36m<module>\u001b[1;34m\u001b[0m\n\u001b[0;32m     11\u001b[0m \u001b[1;33m\u001b[0m\u001b[0m\n\u001b[0;32m     12\u001b[0m \u001b[0mt\u001b[0m \u001b[1;33m=\u001b[0m \u001b[0mTest\u001b[0m\u001b[1;33m(\u001b[0m\u001b[1;33m)\u001b[0m\u001b[1;33m\u001b[0m\u001b[1;33m\u001b[0m\u001b[0m\n\u001b[1;32m---> 13\u001b[1;33m \u001b[0mt\u001b[0m\u001b[1;33m.\u001b[0m\u001b[0mm1\u001b[0m\u001b[1;33m(\u001b[0m\u001b[1;33m)\u001b[0m\u001b[1;33m\u001b[0m\u001b[1;33m\u001b[0m\u001b[0m\n\u001b[0m",
      "\u001b[1;31mTypeError\u001b[0m: m1() missing 1 required positional argument: 'a'"
     ]
    }
   ],
   "source": [
    "#Method Overloading\n",
    "class Test:\n",
    "    def m1(self):\n",
    "        print('Zero argument method')\n",
    "        \n",
    "    def m1(self, a):\n",
    "        print('One argument method')\n",
    "        \n",
    "    #def m1(self, a, b):\n",
    "        #print('Two argument method')\n",
    "        \n",
    "t = Test()\n",
    "t.m1()"
   ]
  },
  {
   "cell_type": "code",
   "execution_count": 5,
   "metadata": {},
   "outputs": [
    {
     "name": "stdout",
     "output_type": "stream",
     "text": [
      "One argument method\n"
     ]
    }
   ],
   "source": [
    "#Method Overloading\n",
    "class Test:\n",
    "    def m1(self):\n",
    "        print('Zero argument method')\n",
    "        \n",
    "    def m1(self, a):\n",
    "        print('One argument method')\n",
    "        \n",
    "    def m1(self, a, b):\n",
    "        print('Two argument method')\n",
    "        \n",
    "t = Test()\n",
    "t.m1(10)           #Last method works"
   ]
  },
  {
   "cell_type": "code",
   "execution_count": 6,
   "metadata": {},
   "outputs": [
    {
     "name": "stdout",
     "output_type": "stream",
     "text": [
      "Two argument method\n"
     ]
    }
   ],
   "source": [
    "#Method Overloading\n",
    "class Test:\n",
    "    def m1(self):\n",
    "        print('Zero argument method')\n",
    "        \n",
    "    def m1(self, a):\n",
    "        print('One argument method')\n",
    "        \n",
    "    def m1(self, a, b):\n",
    "        print('Two argument method')\n",
    "        \n",
    "t = Test()\n",
    "t.m1(10,10)           #Last method works"
   ]
  },
  {
   "cell_type": "code",
   "execution_count": 11,
   "metadata": {},
   "outputs": [
    {
     "name": "stdout",
     "output_type": "stream",
     "text": [
      "Atleast provide one value.\n",
      "The sum of one number is: 10\n",
      "The sum of two numbers is: 39\n",
      "The sum of three numbers is: 73\n"
     ]
    }
   ],
   "source": [
    "class Test:\n",
    "    def sum1(self, a=None , b=None, c=None):\n",
    "        if a!= None and b!=None and c!=None:\n",
    "            print('The sum of three numbers is:',a+b+c)\n",
    "            \n",
    "        elif a!= None and b!=None:\n",
    "            print('The sum of two numbers is:',a+b)\n",
    "            \n",
    "        elif a!=None:\n",
    "            print('The sum of one number is:',a)\n",
    "            \n",
    "        else:\n",
    "            print('Atleast provide one value.')\n",
    "            \n",
    "t = Test()\n",
    "t.sum1()\n",
    "t.sum1(10)\n",
    "t.sum1(19,20)\n",
    "t.sum1(10,30,33)"
   ]
  },
  {
   "cell_type": "code",
   "execution_count": 14,
   "metadata": {},
   "outputs": [
    {
     "name": "stdout",
     "output_type": "stream",
     "text": [
      "The sum is: 0\n",
      "The sum is: 10\n",
      "The sum is: 30\n",
      "The sum is: 43\n",
      "The sum is: 15\n"
     ]
    }
   ],
   "source": [
    "class Test:\n",
    "    def sum(self, *a):  # *a is a variable argument\n",
    "        total = 0\n",
    "        for x in a:\n",
    "            total += x\n",
    "        print('The sum is:',total)\n",
    "        \n",
    "t = Test()\n",
    "t.sum()\n",
    "t.sum(10)\n",
    "t.sum(10,20)\n",
    "t.sum(1,4,33,5)\n",
    "t.sum(1,2,3,4,5)"
   ]
  },
  {
   "cell_type": "code",
   "execution_count": null,
   "metadata": {},
   "outputs": [],
   "source": [
    "#Python doesn't support method overloading, to achieve that various alternative options are there."
   ]
  },
  {
   "cell_type": "code",
   "execution_count": 15,
   "metadata": {},
   "outputs": [
    {
     "name": "stdout",
     "output_type": "stream",
     "text": [
      "The sum is nothing\n"
     ]
    },
    {
     "ename": "TypeError",
     "evalue": "sum() takes 1 positional argument but 2 were given",
     "output_type": "error",
     "traceback": [
      "\u001b[1;31m---------------------------------------------------------------------------\u001b[0m",
      "\u001b[1;31mTypeError\u001b[0m                                 Traceback (most recent call last)",
      "\u001b[1;32m<ipython-input-15-16b02ea75f53>\u001b[0m in \u001b[0;36m<module>\u001b[1;34m\u001b[0m\n\u001b[0;32m     11\u001b[0m \u001b[0mt\u001b[0m \u001b[1;33m=\u001b[0m \u001b[0mTest\u001b[0m\u001b[1;33m(\u001b[0m\u001b[1;33m)\u001b[0m\u001b[1;33m\u001b[0m\u001b[1;33m\u001b[0m\u001b[0m\n\u001b[0;32m     12\u001b[0m \u001b[0mt\u001b[0m\u001b[1;33m.\u001b[0m\u001b[0msum\u001b[0m\u001b[1;33m(\u001b[0m\u001b[1;33m)\u001b[0m\u001b[1;33m\u001b[0m\u001b[1;33m\u001b[0m\u001b[0m\n\u001b[1;32m---> 13\u001b[1;33m \u001b[0mt\u001b[0m\u001b[1;33m.\u001b[0m\u001b[0msum\u001b[0m\u001b[1;33m(\u001b[0m\u001b[1;36m10\u001b[0m\u001b[1;33m)\u001b[0m\u001b[1;33m\u001b[0m\u001b[1;33m\u001b[0m\u001b[0m\n\u001b[0m\u001b[0;32m     14\u001b[0m \u001b[0mt\u001b[0m\u001b[1;33m.\u001b[0m\u001b[0msum\u001b[0m\u001b[1;33m(\u001b[0m\u001b[1;36m10\u001b[0m\u001b[1;33m,\u001b[0m\u001b[1;36m20\u001b[0m\u001b[1;33m)\u001b[0m\u001b[1;33m\u001b[0m\u001b[1;33m\u001b[0m\u001b[0m\n\u001b[0;32m     15\u001b[0m \u001b[0mt\u001b[0m\u001b[1;33m.\u001b[0m\u001b[0msum\u001b[0m\u001b[1;33m(\u001b[0m\u001b[1;36m1\u001b[0m\u001b[1;33m,\u001b[0m\u001b[1;36m4\u001b[0m\u001b[1;33m,\u001b[0m\u001b[1;36m33\u001b[0m\u001b[1;33m,\u001b[0m\u001b[1;36m5\u001b[0m\u001b[1;33m)\u001b[0m\u001b[1;33m\u001b[0m\u001b[1;33m\u001b[0m\u001b[0m\n",
      "\u001b[1;31mTypeError\u001b[0m: sum() takes 1 positional argument but 2 were given"
     ]
    }
   ],
   "source": [
    "class Test:\n",
    "    def sum(self, *a):  # *a is a variable argument\n",
    "        total = 0\n",
    "        for x in a:\n",
    "            total += x\n",
    "        print('The sum is:',total)\n",
    "    \n",
    "    def sum(self):\n",
    "        print('The sum is nothing')\n",
    "    \n",
    "t = Test()\n",
    "t.sum()\n",
    "t.sum(10)\n",
    "t.sum(10,20)\n",
    "t.sum(1,4,33,5)\n",
    "t.sum(1,2,3,4,5)"
   ]
  },
  {
   "cell_type": "code",
   "execution_count": 16,
   "metadata": {},
   "outputs": [
    {
     "ename": "TypeError",
     "evalue": "__init__() missing 1 required positional argument: 'a'",
     "output_type": "error",
     "traceback": [
      "\u001b[1;31m---------------------------------------------------------------------------\u001b[0m",
      "\u001b[1;31mTypeError\u001b[0m                                 Traceback (most recent call last)",
      "\u001b[1;32m<ipython-input-16-039b7be15ac9>\u001b[0m in \u001b[0;36m<module>\u001b[1;34m\u001b[0m\n\u001b[0;32m      7\u001b[0m         \u001b[0mprint\u001b[0m\u001b[1;33m(\u001b[0m\u001b[1;34m'One arg constructor'\u001b[0m\u001b[1;33m)\u001b[0m\u001b[1;33m\u001b[0m\u001b[1;33m\u001b[0m\u001b[0m\n\u001b[0;32m      8\u001b[0m \u001b[1;33m\u001b[0m\u001b[0m\n\u001b[1;32m----> 9\u001b[1;33m \u001b[0mt\u001b[0m \u001b[1;33m=\u001b[0m \u001b[0mTest\u001b[0m\u001b[1;33m(\u001b[0m\u001b[1;33m)\u001b[0m\u001b[1;33m\u001b[0m\u001b[1;33m\u001b[0m\u001b[0m\n\u001b[0m",
      "\u001b[1;31mTypeError\u001b[0m: __init__() missing 1 required positional argument: 'a'"
     ]
    }
   ],
   "source": [
    "#Constructor Overloading\n",
    "class Test:\n",
    "    def __init__(self):\n",
    "        print('No arg constructor')\n",
    "        \n",
    "    def __init__(self,a):\n",
    "        print('One arg constructor')\n",
    "        \n",
    "t = Test()"
   ]
  },
  {
   "cell_type": "code",
   "execution_count": 17,
   "metadata": {},
   "outputs": [
    {
     "name": "stdout",
     "output_type": "stream",
     "text": [
      "One arg constructor\n"
     ]
    }
   ],
   "source": [
    "#Constructor Overloading\n",
    "class Test:\n",
    "    def __init__(self):\n",
    "        print('No arg constructor')\n",
    "        \n",
    "    def __init__(self,a):\n",
    "        print('One arg constructor')\n",
    "        \n",
    "t = Test(10)"
   ]
  },
  {
   "cell_type": "code",
   "execution_count": 19,
   "metadata": {},
   "outputs": [
    {
     "name": "stdout",
     "output_type": "stream",
     "text": [
      "Constructor is with 0 | 1 | 2 | 3 args\n",
      "Constructor is with 0 | 1 | 2 | 3 args\n",
      "Constructor is with 0 | 1 | 2 | 3 args\n",
      "Constructor is with 0 | 1 | 2 | 3 args\n"
     ]
    }
   ],
   "source": [
    "class Test:\n",
    "    def __init__(self, a=None, b=None, c=None):\n",
    "        print('Constructor is with 0 | 1 | 2 | 3 args')\n",
    "        \n",
    "t = Test()\n",
    "t = Test(1)\n",
    "t = Test(1,2)\n",
    "t = Test(1,2,3)"
   ]
  },
  {
   "cell_type": "code",
   "execution_count": 21,
   "metadata": {},
   "outputs": [
    {
     "name": "stdout",
     "output_type": "stream",
     "text": [
      "Constructor is executed\n",
      "Constructor is executed\n",
      "Constructor is executed\n",
      "Constructor is executed\n"
     ]
    }
   ],
   "source": [
    "class Test:\n",
    "    def __init__(self, *a):\n",
    "        print('Constructor is executed')\n",
    "        \n",
    "t = Test()\n",
    "t = Test(1)\n",
    "t = Test(1,2)\n",
    "t = Test(1,2,3)"
   ]
  },
  {
   "cell_type": "code",
   "execution_count": 24,
   "metadata": {},
   "outputs": [
    {
     "name": "stdout",
     "output_type": "stream",
     "text": [
      "Cash + Gold + Shares + Vehicle + Land + Houses\n"
     ]
    }
   ],
   "source": [
    "#Method Overriding\n",
    "    #Purpose of Method Overriding\n",
    "    \n",
    "class P:\n",
    "    def property(self):\n",
    "        print('Cash + Gold + Shares + Vehicle + Land + Houses')\n",
    "    \n",
    "class C(P):pass\n",
    "\n",
    "c = C()\n",
    "c.property()"
   ]
  },
  {
   "cell_type": "code",
   "execution_count": 26,
   "metadata": {},
   "outputs": [
    {
     "name": "stdout",
     "output_type": "stream",
     "text": [
      "Cash + Gold + Shares + Vehicle + Land + Houses\n",
      " A | B | C \n"
     ]
    }
   ],
   "source": [
    "#Method Overriding\n",
    "    #Purpose of Method Overriding\n",
    "    \n",
    "class P:\n",
    "    def property(self):\n",
    "        print('Cash + Gold + Shares + Vehicle + Land + Houses')\n",
    "    \n",
    "    def marriage(self):\n",
    "        print(' X | Y | Z ')\n",
    "    \n",
    "class C(P):\n",
    "    def marriage(self):\n",
    "        print(' A | B | C ')\n",
    "\n",
    "c = C()\n",
    "c.property()\n",
    "c.marriage()"
   ]
  },
  {
   "cell_type": "code",
   "execution_count": 27,
   "metadata": {},
   "outputs": [
    {
     "name": "stdout",
     "output_type": "stream",
     "text": [
      "Cash + Gold + Shares + Vehicle + Land + Houses\n",
      " A | B | C  10\n"
     ]
    }
   ],
   "source": [
    "#Method Overriding\n",
    "    #Purpose of Method Overriding\n",
    "    \n",
    "class P:\n",
    "    def property(self):\n",
    "        print('Cash + Gold + Shares + Vehicle + Land + Houses')\n",
    "    \n",
    "    def marriage(self):\n",
    "        print(' X | Y | Z ')\n",
    "    \n",
    "class C(P):\n",
    "    def marriage(self,a):     #No. of args may diifer but name should be same\n",
    "        print(' A | B | C ',a)\n",
    "\n",
    "c = C()\n",
    "c.property()\n",
    "c.marriage(10)"
   ]
  },
  {
   "cell_type": "code",
   "execution_count": 28,
   "metadata": {},
   "outputs": [
    {
     "name": "stdout",
     "output_type": "stream",
     "text": [
      "Cash + Gold + Shares + Vehicle + Land + Houses\n",
      " X | Y | Z \n",
      " A | B | C \n"
     ]
    }
   ],
   "source": [
    "#Method Overriding\n",
    "    #Purpose of Method Overriding\n",
    "    \n",
    "class P:\n",
    "    def property(self):\n",
    "        print('Cash + Gold + Shares + Vehicle + Land + Houses')\n",
    "    \n",
    "    def marriage(self):\n",
    "        print(' X | Y | Z ')\n",
    "    \n",
    "class C(P):\n",
    "    def marriage(self):\n",
    "        super().marriage()\n",
    "        print(' A | B | C ')\n",
    "\n",
    "c = C()\n",
    "c.property()\n",
    "c.marriage()"
   ]
  },
  {
   "cell_type": "code",
   "execution_count": 29,
   "metadata": {},
   "outputs": [
    {
     "name": "stdout",
     "output_type": "stream",
     "text": [
      "Parent constructor\n"
     ]
    }
   ],
   "source": [
    "class P:\n",
    "    def __init__(self):\n",
    "        print('Parent constructor')\n",
    "        \n",
    "class C(P): pass\n",
    "\n",
    "c = C()"
   ]
  },
  {
   "cell_type": "code",
   "execution_count": 30,
   "metadata": {},
   "outputs": [
    {
     "name": "stdout",
     "output_type": "stream",
     "text": [
      "Child constructor\n"
     ]
    }
   ],
   "source": [
    "class P:\n",
    "    def __init__(self):\n",
    "        print('Parent constructor')\n",
    "        \n",
    "class C(P):\n",
    "    def __init__(self):\n",
    "        print('Child constructor')\n",
    "\n",
    "c = C()"
   ]
  },
  {
   "cell_type": "code",
   "execution_count": 1,
   "metadata": {},
   "outputs": [
    {
     "name": "stdout",
     "output_type": "stream",
     "text": [
      "Parent constructor\n",
      "Child constructor\n"
     ]
    }
   ],
   "source": [
    "class P:\n",
    "    def __init__(self):\n",
    "        print('Parent constructor')\n",
    "        \n",
    "class C(P):\n",
    "    def __init__(self):\n",
    "        super().__init__()\n",
    "        print('Child constructor')\n",
    "\n",
    "c = C()"
   ]
  },
  {
   "cell_type": "code",
   "execution_count": null,
   "metadata": {},
   "outputs": [],
   "source": [
    "#Abstract Methods\n",
    "#Abstract Classes \n",
    "#Interface \n",
    "#Public, Private and Protected members "
   ]
  },
  {
   "cell_type": "code",
   "execution_count": 2,
   "metadata": {},
   "outputs": [],
   "source": [
    "from abc import *\n",
    "#abstract base class\n",
    "#Abstract means hiding something, not complete\n",
    "class Vehicle:\n",
    "    @abstractmethod\n",
    "    def get_no_wheel(self):\n",
    "        pass\n",
    "    #Where we dont know implementation but still declaring it as a part of the code\n",
    "\n",
    "class Veg:\n",
    "    @abstractmethod\n",
    "    def get_price(self):\n",
    "        pass"
   ]
  },
  {
   "cell_type": "code",
   "execution_count": 3,
   "metadata": {},
   "outputs": [
    {
     "ename": "TypeError",
     "evalue": "Can't instantiate abstract class Vehicle with abstract methods get_no_wheels",
     "output_type": "error",
     "traceback": [
      "\u001b[1;31m---------------------------------------------------------------------------\u001b[0m",
      "\u001b[1;31mTypeError\u001b[0m                                 Traceback (most recent call last)",
      "\u001b[1;32m<ipython-input-3-bcac6c55883f>\u001b[0m in \u001b[0;36m<module>\u001b[1;34m\u001b[0m\n\u001b[0;32m      5\u001b[0m         \u001b[1;32mpass\u001b[0m\u001b[1;33m\u001b[0m\u001b[1;33m\u001b[0m\u001b[0m\n\u001b[0;32m      6\u001b[0m \u001b[1;33m\u001b[0m\u001b[0m\n\u001b[1;32m----> 7\u001b[1;33m \u001b[0mv\u001b[0m \u001b[1;33m=\u001b[0m \u001b[0mVehicle\u001b[0m\u001b[1;33m(\u001b[0m\u001b[1;33m)\u001b[0m\u001b[1;33m\u001b[0m\u001b[1;33m\u001b[0m\u001b[0m\n\u001b[0m",
      "\u001b[1;31mTypeError\u001b[0m: Can't instantiate abstract class Vehicle with abstract methods get_no_wheels"
     ]
    }
   ],
   "source": [
    "#Abstact class - Implementation of the class not complete, Partial implementaiton is known as abstact class. \n",
    "class Vehicle(ABC):\n",
    "    @abstractmethod\n",
    "    def get_no_wheels(self): \n",
    "        pass\n",
    "    \n",
    "v = Vehicle()"
   ]
  },
  {
   "cell_type": "code",
   "execution_count": 4,
   "metadata": {},
   "outputs": [
    {
     "data": {
      "text/plain": [
       "<__main__.Test at 0x23496130828>"
      ]
     },
     "execution_count": 4,
     "metadata": {},
     "output_type": "execute_result"
    }
   ],
   "source": [
    "class Test(ABC):\n",
    "    pass\n",
    "\n",
    "t = Test()\n",
    "t"
   ]
  },
  {
   "cell_type": "code",
   "execution_count": 6,
   "metadata": {},
   "outputs": [],
   "source": [
    "#Abstract class - Implementation of the class not complete, Partial implementaiton is known as abstact class. \n",
    "class Vehicle:\n",
    "    @abstractmethod\n",
    "    def get_no_wheels(self): \n",
    "        print('Hello')\n",
    "    \n",
    "v = Vehicle()"
   ]
  },
  {
   "cell_type": "code",
   "execution_count": 7,
   "metadata": {},
   "outputs": [],
   "source": [
    "#Abstract class - Implementation of the class not complete, Partial implementaiton is known as abstact class. \n",
    "class Vehicle:\n",
    "    @abstractmethod\n",
    "    def get_no_wheels(self): \n",
    "        pass\n",
    "    \n",
    "v = Vehicle()"
   ]
  },
  {
   "cell_type": "code",
   "execution_count": 8,
   "metadata": {},
   "outputs": [],
   "source": [
    "#Abstract class - Implementation of the class not complete, Partial implementaiton is known as abstact class. \n",
    "class Vehicle(ABC):\n",
    "    \n",
    "    def get_no_wheels(self): \n",
    "        pass\n",
    "    \n",
    "v = Vehicle()"
   ]
  },
  {
   "cell_type": "code",
   "execution_count": 9,
   "metadata": {},
   "outputs": [],
   "source": [
    "#Abstract Method - Method having no proper implementation \n",
    "    #How to declare abstractmethod - @abstractmethod decorator\n",
    "    #@abstractmethod decorator present in abc module \n",
    "    #Child classes are responsible to provide the implementation for the parent class abstract method\n",
    "    \n",
    "    \n",
    "#Abstract Class - If implementation of the class is not complete (Partially complete)\n",
    "    #How to declare abstract class - We have to extend ABC Class\n",
    "    #class Test(ABC):\n",
    "    #   pass\n",
    "    \n",
    "    #Test is child and ABC is parent. Test class is Extending ABC class. Hence abstract class \n",
    "    #ABC class present in abc module\n",
    "    \n",
    "#Abstract class vs Abstract Method\n",
    "    #Abstract class contains any number of abstract methods including 0.\n",
    "    #Abstract class can contain normal methods as well\n",
    "    \n",
    "    \n",
    "#When object creation is not possible? \n",
    "    # If class is abstract and it contains atleast one abstract method then only method will not instantiate \n",
    "    # However, object creation is possbile \n",
    "        #Class is not abstract but contains one abstract method - Object creation is possible \n",
    "        # Class is abstract but it does not contain any abstract method "
   ]
  },
  {
   "cell_type": "code",
   "execution_count": 11,
   "metadata": {},
   "outputs": [
    {
     "ename": "TypeError",
     "evalue": "Can't instantiate abstract class Bus with abstract methods get_no_wheels",
     "output_type": "error",
     "traceback": [
      "\u001b[1;31m---------------------------------------------------------------------------\u001b[0m",
      "\u001b[1;31mTypeError\u001b[0m                                 Traceback (most recent call last)",
      "\u001b[1;32m<ipython-input-11-77107d303797>\u001b[0m in \u001b[0;36m<module>\u001b[1;34m\u001b[0m\n\u001b[0;32m      7\u001b[0m     \u001b[1;32mpass\u001b[0m\u001b[1;33m\u001b[0m\u001b[1;33m\u001b[0m\u001b[0m\n\u001b[0;32m      8\u001b[0m \u001b[1;33m\u001b[0m\u001b[0m\n\u001b[1;32m----> 9\u001b[1;33m \u001b[0mb\u001b[0m \u001b[1;33m=\u001b[0m \u001b[0mBus\u001b[0m\u001b[1;33m(\u001b[0m\u001b[1;33m)\u001b[0m\u001b[1;33m\u001b[0m\u001b[1;33m\u001b[0m\u001b[0m\n\u001b[0m",
      "\u001b[1;31mTypeError\u001b[0m: Can't instantiate abstract class Bus with abstract methods get_no_wheels"
     ]
    }
   ],
   "source": [
    "class Vehicle(ABC):\n",
    "    @abstractmethod\n",
    "    def get_no_wheels(self):\n",
    "        pass\n",
    "    \n",
    "class Bus(Vehicle):\n",
    "    pass\n",
    "\n",
    "b = Bus()"
   ]
  },
  {
   "cell_type": "code",
   "execution_count": 15,
   "metadata": {},
   "outputs": [
    {
     "data": {
      "text/plain": [
       "4"
      ]
     },
     "execution_count": 15,
     "metadata": {},
     "output_type": "execute_result"
    }
   ],
   "source": [
    "class Vehicle(ABC):\n",
    "    @abstractmethod\n",
    "    def get_no_wheels(self):\n",
    "        pass\n",
    "    \n",
    "class Bus(Vehicle):\n",
    "    def get_no_wheels(self):\n",
    "        return 10\n",
    "    \n",
    "class Auto(Vehicle):\n",
    "    def get_no_wheels(self):\n",
    "        return 4\n",
    "    \n",
    "b = Bus()\n",
    "b.get_no_wheels()\n",
    "a = Auto()\n",
    "a.get_no_wheels()\n",
    "\n",
    "#What is the advantage of abstractmethod? \n",
    "#Compulsory child have to implement then only child will get the property of the parent "
   ]
  },
  {
   "cell_type": "code",
   "execution_count": 17,
   "metadata": {},
   "outputs": [
    {
     "ename": "TypeError",
     "evalue": "Can't instantiate abstract class C with abstract methods m2",
     "output_type": "error",
     "traceback": [
      "\u001b[1;31m---------------------------------------------------------------------------\u001b[0m",
      "\u001b[1;31mTypeError\u001b[0m                                 Traceback (most recent call last)",
      "\u001b[1;32m<ipython-input-17-b62d904d1171>\u001b[0m in \u001b[0;36m<module>\u001b[1;34m\u001b[0m\n\u001b[0;32m     12\u001b[0m         \u001b[0mprint\u001b[0m\u001b[1;33m(\u001b[0m\u001b[1;34m'Implementing M1 method'\u001b[0m\u001b[1;33m)\u001b[0m\u001b[1;33m\u001b[0m\u001b[1;33m\u001b[0m\u001b[0m\n\u001b[0;32m     13\u001b[0m \u001b[1;33m\u001b[0m\u001b[0m\n\u001b[1;32m---> 14\u001b[1;33m \u001b[0mc\u001b[0m \u001b[1;33m=\u001b[0m \u001b[0mC\u001b[0m\u001b[1;33m(\u001b[0m\u001b[1;33m)\u001b[0m\u001b[1;33m\u001b[0m\u001b[1;33m\u001b[0m\u001b[0m\n\u001b[0m",
      "\u001b[1;31mTypeError\u001b[0m: Can't instantiate abstract class C with abstract methods m2"
     ]
    }
   ],
   "source": [
    "class P(ABC):\n",
    "    @abstractmethod\n",
    "    def m1(self):\n",
    "        pass\n",
    "    \n",
    "    @abstractmethod\n",
    "    def m2(self):\n",
    "        pass\n",
    "    \n",
    "class C(P):\n",
    "    def m1(self):\n",
    "        print('Implementing M1 method')\n",
    "        \n",
    "c = C()"
   ]
  },
  {
   "cell_type": "code",
   "execution_count": 19,
   "metadata": {},
   "outputs": [
    {
     "name": "stdout",
     "output_type": "stream",
     "text": [
      "Implementing M1 method\n",
      "Implementing M2 method\n"
     ]
    }
   ],
   "source": [
    "class P(ABC):\n",
    "    @abstractmethod\n",
    "    def m1(self):\n",
    "        pass\n",
    "    \n",
    "    @abstractmethod\n",
    "    def m2(self):\n",
    "        pass\n",
    "    \n",
    "class C(P):\n",
    "    def m1(self):\n",
    "        print('Implementing M1 method')\n",
    "     \n",
    "    def m2(self):\n",
    "        print('Implementing M2 method')\n",
    "        \n",
    "c = C()\n",
    "c.m1()\n",
    "c.m2()"
   ]
  },
  {
   "cell_type": "code",
   "execution_count": 23,
   "metadata": {},
   "outputs": [
    {
     "name": "stdout",
     "output_type": "stream",
     "text": [
      "Implementation of M2\n",
      "Implementation of M1\n"
     ]
    }
   ],
   "source": [
    "class P(ABC):\n",
    "    @abstractmethod\n",
    "    def m1(self):\n",
    "        pass\n",
    "    @abstractmethod\n",
    "    def m2(self):\n",
    "        pass\n",
    "    \n",
    "class C(P):\n",
    "    def m1(self):\n",
    "        print('Implementation of M1')\n",
    "        \n",
    "class CC(C):\n",
    "    def m2(self):\n",
    "        print('Implementation of M2')\n",
    "\n",
    "#c = C()\n",
    "c = CC()\n",
    "c.m2()\n",
    "c.m1()"
   ]
  },
  {
   "cell_type": "code",
   "execution_count": 25,
   "metadata": {},
   "outputs": [
    {
     "name": "stdout",
     "output_type": "stream",
     "text": [
      "Implementing M1 method\n",
      "Implementing M2 method\n"
     ]
    }
   ],
   "source": [
    "class P(ABC):\n",
    "    @abstractmethod\n",
    "    def m1(self): pass\n",
    "    def m2(self):\n",
    "        print('Implementing M2 method')\n",
    "        \n",
    "class C(P):\n",
    "    def m1(self):\n",
    "        print('Implementing M1 method')\n",
    "        \n",
    "c = C()\n",
    "c.m1()\n",
    "c.m2()"
   ]
  },
  {
   "cell_type": "code",
   "execution_count": 26,
   "metadata": {},
   "outputs": [],
   "source": [
    "#Interface - An abstract class which contains only abstract methods\n",
    "\n",
    "from abc import *\n",
    "class Interf(ABC):\n",
    "    @abstractmethod\n",
    "    def patients(self):\n",
    "        pass\n",
    "    def OPD(self):\n",
    "        pass\n",
    "    def Billing(self):\n",
    "        pass\n",
    "    def Operations(self):\n",
    "        pass\n",
    "#Not an interface \n",
    " \n",
    "from abc import *\n",
    "class Interf(ABC):\n",
    "    @abstractmethod\n",
    "    def patients(self):\n",
    "        pass\n",
    "    @abstractmethod\n",
    "    def OPD(self):\n",
    "        pass\n",
    "    @abstractmethod\n",
    "    def Billing(self):\n",
    "        pass\n",
    "    @abstractmethod\n",
    "    def Operations(self):\n",
    "        pass\n",
    "#Its an interface"
   ]
  },
  {
   "cell_type": "code",
   "execution_count": 27,
   "metadata": {},
   "outputs": [],
   "source": [
    "#When to go for interface vs Abstract class vs Concrete class\n",
    "# If we dont know any implemenation only requirement specification - Interface\n",
    "# If we are talking about implementation but not completely - Abstract class\n",
    "# If we are talking about implementation completely and ready to provide all the services - Concrete class"
   ]
  },
  {
   "cell_type": "code",
   "execution_count": 28,
   "metadata": {},
   "outputs": [
    {
     "name": "stdout",
     "output_type": "stream",
     "text": [
      "10\n",
      "20\n"
     ]
    }
   ],
   "source": [
    "#Public , Private , Protected Members\n",
    "class Test:\n",
    "    x = 10\n",
    "    def __init__(self):\n",
    "        self.y = 20\n",
    "        \n",
    "t = Test()\n",
    "print(t.x)\n",
    "print(t.y)\n"
   ]
  },
  {
   "cell_type": "code",
   "execution_count": 29,
   "metadata": {},
   "outputs": [
    {
     "name": "stdout",
     "output_type": "stream",
     "text": [
      "10\n",
      "20\n"
     ]
    }
   ],
   "source": [
    "class Test:\n",
    "    _x = 10\n",
    "    def __init__(self):\n",
    "        self._y = 20\n",
    "        \n",
    "t = Test()\n",
    "print(t._x)\n",
    "print(t._y)"
   ]
  },
  {
   "cell_type": "code",
   "execution_count": 30,
   "metadata": {},
   "outputs": [
    {
     "ename": "AttributeError",
     "evalue": "'Test' object has no attribute '__x'",
     "output_type": "error",
     "traceback": [
      "\u001b[1;31m---------------------------------------------------------------------------\u001b[0m",
      "\u001b[1;31mAttributeError\u001b[0m                            Traceback (most recent call last)",
      "\u001b[1;32m<ipython-input-30-58bb15b31d30>\u001b[0m in \u001b[0;36m<module>\u001b[1;34m\u001b[0m\n\u001b[0;32m      5\u001b[0m \u001b[1;33m\u001b[0m\u001b[0m\n\u001b[0;32m      6\u001b[0m \u001b[0mt\u001b[0m \u001b[1;33m=\u001b[0m \u001b[0mTest\u001b[0m\u001b[1;33m(\u001b[0m\u001b[1;33m)\u001b[0m\u001b[1;33m\u001b[0m\u001b[1;33m\u001b[0m\u001b[0m\n\u001b[1;32m----> 7\u001b[1;33m \u001b[0mprint\u001b[0m\u001b[1;33m(\u001b[0m\u001b[0mt\u001b[0m\u001b[1;33m.\u001b[0m\u001b[0m__x\u001b[0m\u001b[1;33m)\u001b[0m\u001b[1;33m\u001b[0m\u001b[1;33m\u001b[0m\u001b[0m\n\u001b[0m\u001b[0;32m      8\u001b[0m \u001b[0mprint\u001b[0m\u001b[1;33m(\u001b[0m\u001b[0mt\u001b[0m\u001b[1;33m.\u001b[0m\u001b[0m__y\u001b[0m\u001b[1;33m)\u001b[0m\u001b[1;33m\u001b[0m\u001b[1;33m\u001b[0m\u001b[0m\n",
      "\u001b[1;31mAttributeError\u001b[0m: 'Test' object has no attribute '__x'"
     ]
    }
   ],
   "source": [
    "class Test:\n",
    "    __x = 10\n",
    "    def __init__(self):\n",
    "        self.__y = 20\n",
    "        \n",
    "t = Test()\n",
    "print(t.__x)\n",
    "print(t.__y)"
   ]
  },
  {
   "cell_type": "code",
   "execution_count": 31,
   "metadata": {},
   "outputs": [
    {
     "name": "stdout",
     "output_type": "stream",
     "text": [
      "{'_Test__y': 20}\n"
     ]
    }
   ],
   "source": [
    "print(t.__dict__)"
   ]
  },
  {
   "cell_type": "code",
   "execution_count": 32,
   "metadata": {},
   "outputs": [
    {
     "name": "stdout",
     "output_type": "stream",
     "text": [
      "20\n"
     ]
    }
   ],
   "source": [
    "print(t._Test__y)"
   ]
  },
  {
   "cell_type": "code",
   "execution_count": 34,
   "metadata": {},
   "outputs": [
    {
     "name": "stdout",
     "output_type": "stream",
     "text": [
      "10\n"
     ]
    }
   ],
   "source": [
    "print(Test._Test__x)"
   ]
  },
  {
   "cell_type": "code",
   "execution_count": 35,
   "metadata": {},
   "outputs": [
    {
     "name": "stdout",
     "output_type": "stream",
     "text": [
      "<__main__.Student object at 0x0000023496253E48>\n"
     ]
    }
   ],
   "source": [
    "class Student:\n",
    "    def __init__(self,name,rollno):\n",
    "        self.name = name\n",
    "        self.rollno = rollno\n",
    "        \n",
    "s1 = Student('Aastha',1)\n",
    "print(s1)"
   ]
  },
  {
   "cell_type": "code",
   "execution_count": 42,
   "metadata": {},
   "outputs": [
    {
     "name": "stdout",
     "output_type": "stream",
     "text": [
      "Student Name : Aastha and Roll number : 1\n"
     ]
    }
   ],
   "source": [
    "class Student:\n",
    "    def __init__(self,name,rollno):\n",
    "        self.name = name\n",
    "        self.rollno = rollno\n",
    "        \n",
    "    def __str__(self):\n",
    "        return 'Student Name : {} and Roll number : {}'.format(self.name,self.rollno)\n",
    "        \n",
    "s1 = Student('Aastha',1)\n",
    "print(s1)\n",
    "\n",
    "#print(s1.__str__()) internally called\n",
    "#Object to string represent - __str__"
   ]
  },
  {
   "cell_type": "code",
   "execution_count": 43,
   "metadata": {},
   "outputs": [
    {
     "name": "stdout",
     "output_type": "stream",
     "text": [
      "2020-06-25 22:38:09.299770\n"
     ]
    },
    {
     "ename": "SyntaxError",
     "evalue": "invalid token (<string>, line 1)",
     "output_type": "error",
     "traceback": [
      "Traceback \u001b[1;36m(most recent call last)\u001b[0m:\n",
      "  File \u001b[0;32m\"C:\\Users\\hp\\Anaconda3\\lib\\site-packages\\IPython\\core\\interactiveshell.py\"\u001b[0m, line \u001b[0;32m3325\u001b[0m, in \u001b[0;35mrun_code\u001b[0m\n    exec(code_obj, self.user_global_ns, self.user_ns)\n",
      "\u001b[1;36m  File \u001b[1;32m\"<ipython-input-43-3b0ea3908409>\"\u001b[1;36m, line \u001b[1;32m9\u001b[1;36m, in \u001b[1;35m<module>\u001b[1;36m\u001b[0m\n\u001b[1;33m    d = eval(s)\u001b[0m\n",
      "\u001b[1;36m  File \u001b[1;32m\"<string>\"\u001b[1;36m, line \u001b[1;32m1\u001b[0m\n\u001b[1;33m    2020-06-25 22:38:09.299770\u001b[0m\n\u001b[1;37m          ^\u001b[0m\n\u001b[1;31mSyntaxError\u001b[0m\u001b[1;31m:\u001b[0m invalid token\n"
     ]
    }
   ],
   "source": [
    "#__str__() vs __repr__() - Diff between\n",
    "    #Obj to str - Get string representation \n",
    "    #Obj to str and str to obj - Get string representation and we can go to obj representation as well \n",
    "    \n",
    "import datetime\n",
    "today = datetime.datetime.now()\n",
    "s = str(today)\n",
    "print(s)\n",
    "d = eval(s)"
   ]
  },
  {
   "cell_type": "code",
   "execution_count": 46,
   "metadata": {},
   "outputs": [
    {
     "name": "stdout",
     "output_type": "stream",
     "text": [
      "datetime.datetime(2020, 6, 25, 22, 39, 6, 922060)\n",
      "2020-06-25 22:39:06.922060\n",
      "<class 'datetime.datetime'>\n"
     ]
    }
   ],
   "source": [
    "#__str__() vs __repr__() - Diff between\n",
    "    #Obj to str - Get string representation \n",
    "    #Obj to str and str to obj - Get string representation and we can go to obj representation as well \n",
    "    \n",
    "import datetime\n",
    "today = datetime.datetime.now()\n",
    "s = repr(today)\n",
    "print(s)\n",
    "d = eval(s)\n",
    "print(d)\n",
    "print(type(d))"
   ]
  }
 ],
 "metadata": {
  "kernelspec": {
   "display_name": "Python 3",
   "language": "python",
   "name": "python3"
  },
  "language_info": {
   "codemirror_mode": {
    "name": "ipython",
    "version": 3
   },
   "file_extension": ".py",
   "mimetype": "text/x-python",
   "name": "python",
   "nbconvert_exporter": "python",
   "pygments_lexer": "ipython3",
   "version": "3.7.3"
  }
 },
 "nbformat": 4,
 "nbformat_minor": 2
}
