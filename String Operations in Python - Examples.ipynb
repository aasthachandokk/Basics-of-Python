{
 "cells": [
  {
   "cell_type": "code",
   "execution_count": 3,
   "metadata": {},
   "outputs": [
    {
     "name": "stdout",
     "output_type": "stream",
     "text": [
      "Enter the string:aastha\n",
      "ahtsaa\n"
     ]
    }
   ],
   "source": [
    "#Program to reverse a letters in string\n",
    "s=input('Enter the string:')\n",
    "i=len(s)-1\n",
    "output=''\n",
    "while i>=0:\n",
    "    output=output+s[i]\n",
    "    i=i-1\n",
    "print(output) "
   ]
  },
  {
   "cell_type": "code",
   "execution_count": 4,
   "metadata": {},
   "outputs": [
    {
     "name": "stdout",
     "output_type": "stream",
     "text": [
      "Enter a string:python is easy to learn\n",
      "['python', 'is', 'easy', 'to', 'learn']\n",
      "['learn', 'to', 'easy', 'is', 'python']\n",
      "learn to easy is python\n"
     ]
    }
   ],
   "source": [
    "#program to reverse words in a string\n",
    "s=input('Enter a string:')\n",
    "list=s.split()\n",
    "print(list)\n",
    "i=len(list)-1\n",
    "l1=[]\n",
    "while i>=0:\n",
    "    l1.append(list[i])\n",
    "    i=i-1\n",
    "print(l1)\n",
    "output=' '.join(l1)\n",
    "print(output)"
   ]
  },
  {
   "cell_type": "code",
   "execution_count": 5,
   "metadata": {},
   "outputs": [
    {
     "name": "stdout",
     "output_type": "stream",
     "text": [
      "Enter the string:aastha chandok\n",
      "['ahtsaa', 'kodnahc']\n"
     ]
    },
    {
     "data": {
      "text/plain": [
       "'ahtsaa kodnahc'"
      ]
     },
     "execution_count": 5,
     "metadata": {},
     "output_type": "execute_result"
    }
   ],
   "source": [
    "#Input - aastha chandok\n",
    "#Output - ahtsaa kodnahc\n",
    "\n",
    "s = input('Enter the string:')\n",
    "list=s.split()\n",
    "l1=[]\n",
    "for x in list:\n",
    "    l1.append(x[::-1])\n",
    "print(l1)\n",
    "output=' '.join(l1)\n",
    "output"
   ]
  },
  {
   "cell_type": "code",
   "execution_count": 6,
   "metadata": {},
   "outputs": [
    {
     "name": "stdout",
     "output_type": "stream",
     "text": [
      "Enter string:aastha\n",
      "Characters at even position: ash\n",
      "Characters at odd position: ata\n"
     ]
    }
   ],
   "source": [
    "#Input - aastha\n",
    "#Output - Even index character:-ash \n",
    "        # Odd index character- ata\n",
    "\n",
    "s = input('Enter string:')\n",
    "print('Characters at even position:',s[::2])\n",
    "print('Characters at odd position:',s[1::2])"
   ]
  },
  {
   "cell_type": "code",
   "execution_count": 7,
   "metadata": {},
   "outputs": [
    {
     "name": "stdout",
     "output_type": "stream",
     "text": [
      "Enter the string:aastha\n",
      "Even index characters:\n",
      "a,s,h,\n",
      "Odd index characters:\n",
      "a,t,a,"
     ]
    }
   ],
   "source": [
    "#Input - aastha\n",
    "#Output - Even index character:-ash \n",
    "        # Odd index character- ata\n",
    "\n",
    "s = input('Enter the string:')\n",
    "i=0\n",
    "print('Even index characters:')\n",
    "while i < len(s):\n",
    "    print(s[i],end=',')\n",
    "    i=i+2\n",
    "print()\n",
    "print('Odd index characters:')\n",
    "i=1\n",
    "while i < len(s):\n",
    "    print(s[i],end=',')\n",
    "    i=i+2"
   ]
  },
  {
   "cell_type": "code",
   "execution_count": 8,
   "metadata": {},
   "outputs": [
    {
     "name": "stdout",
     "output_type": "stream",
     "text": [
      "Enter a string:aast28462tha\n",
      "aaahstt22468\n"
     ]
    }
   ],
   "source": [
    "#Input - B4A1D3\n",
    "#Output - ABD134\n",
    "#Sorted alphabets following digits\n",
    "\n",
    "s = input('Enter a string:')\n",
    "s1 = s2 = output = ''\n",
    "for x in s:\n",
    "    if x.isalpha():\n",
    "        s1=s1+x\n",
    "    else:\n",
    "        s2=s2+x\n",
    "for x in sorted(s1):\n",
    "    output=output+x\n",
    "for x in sorted(s2):\n",
    "    output=output+x\n",
    "print(output)"
   ]
  },
  {
   "cell_type": "code",
   "execution_count": 15,
   "metadata": {},
   "outputs": [
    {
     "name": "stdout",
     "output_type": "stream",
     "text": [
      "Enter the string:a4b3c2\n",
      "aaaabbbcc\n"
     ]
    }
   ],
   "source": [
    "#Input - a4b3c2\n",
    "#Output - aaaabbbcc\n",
    "\n",
    "s = input('Enter the string:')\n",
    "output = ''\n",
    "for x in s:\n",
    "    if x.isalpha():\n",
    "        output = output + x\n",
    "        previous = x\n",
    "    else:\n",
    "        output = output + previous*(int(x)-1)\n",
    "print(output)"
   ]
  },
  {
   "cell_type": "code",
   "execution_count": 16,
   "metadata": {},
   "outputs": [
    {
     "name": "stdout",
     "output_type": "stream",
     "text": [
      "Enter the first string:Aastha\n",
      "Enter the second string:Dimple\n",
      "ADaismtphlae\n"
     ]
    }
   ],
   "source": [
    "#Input1 = Aastha\n",
    "#Input2 = Dimple\n",
    "#Output = ADaismtphlae\n",
    "\n",
    "s1 = input('Enter the first string:')\n",
    "s2 = input('Enter the second string:')\n",
    "output = ''\n",
    "i = j = 0\n",
    "while i < len(s1) or j < len(s2):\n",
    "    if i < len(s1):\n",
    "        output = output + s1[i]\n",
    "        i=i+1\n",
    "    if j < len(s2):\n",
    "        output = output +s2[j]\n",
    "        j=j+1\n",
    "print(output)"
   ]
  },
  {
   "cell_type": "code",
   "execution_count": 21,
   "metadata": {},
   "outputs": [
    {
     "name": "stdout",
     "output_type": "stream",
     "text": [
      "Enter the string:a4k3b2\n",
      "aeknbd\n"
     ]
    }
   ],
   "source": [
    "#Input - a4k3b2\n",
    "#Output - aeknbd\n",
    "\n",
    "s = input('Enter the string:')\n",
    "output = ''\n",
    "for x in s:\n",
    "    if x.isalpha():\n",
    "        output = output + x\n",
    "        previous = x\n",
    "    else:\n",
    "        output = output + chr(ord(previous) + int(x))\n",
    "print(output)"
   ]
  }
 ],
 "metadata": {
  "kernelspec": {
   "display_name": "Python 3",
   "language": "python",
   "name": "python3"
  },
  "language_info": {
   "codemirror_mode": {
    "name": "ipython",
    "version": 3
   },
   "file_extension": ".py",
   "mimetype": "text/x-python",
   "name": "python",
   "nbconvert_exporter": "python",
   "pygments_lexer": "ipython3",
   "version": "3.7.3"
  }
 },
 "nbformat": 4,
 "nbformat_minor": 2
}
